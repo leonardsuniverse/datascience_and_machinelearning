{
 "cells": [
  {
   "cell_type": "markdown",
   "id": "cb49075b-20fb-4ee1-98fa-fae462ce85ce",
   "metadata": {},
   "source": [
    "__An Introduction to Machine Learning__"
   ]
  },
  {
   "cell_type": "markdown",
   "id": "a1091651-42b5-4295-bcd3-cd16e715a61c",
   "metadata": {},
   "source": [
    "Machine learning is a subfield of artificial intelligence (AI). The goal of machine learning generally is to understand the structure of data and fit that data into models that can be understood and utilized by people."
   ]
  },
  {
   "cell_type": "markdown",
   "id": "b645674c-908e-45f2-93c5-6362b8e173e2",
   "metadata": {},
   "source": [
    "Although machine learning is a field within computer science, it differs from traditional computational approaches. In traditional computing, algorithms are sets of explicitly programmed instructions used by computers to calculate or solve a problem. Machine learning algorithms instead allow for computers to train on data inputs and use statistical analysis in order to output values that fall within a specific range. Because of this, machine learning facilitates computers in building models from sample data in order to automate decision-making processes based on data inputs."
   ]
  },
  {
   "cell_type": "markdown",
   "id": "63e69dce-84c8-4051-82bd-1b75aa1ab58e",
   "metadata": {},
   "source": [
    "Any technology user today has benefitted from machine learning. Facial recognition technology allows social media platforms to help users tag and share photos of friends. Optical character recognition (OCR) technology converts images of text into movable type. Recommendation engines, powered by machine learning, suggest what movies or television shows to watch next based on user preferences. Self driving cars that rely on machine learning to navigate may soon be available to consumers."
   ]
  },
  {
   "cell_type": "markdown",
   "id": "bf7aa96c-50c9-458b-b84c-fd21bf05a62b",
   "metadata": {},
   "source": [
    "In this project I will implement a simple machine learning algorithm in Python using Scikit-learn, a machine learning tool for Python. Using a database of breast cancer tumor information, I'll use a Naive Bayes (NB) classifier that predicts whether or not a tumor is malignant or benign.\n"
   ]
  },
  {
   "cell_type": "code",
   "execution_count": 30,
   "id": "131b9d0c-fe1e-496c-959e-1b5faf447767",
   "metadata": {},
   "outputs": [],
   "source": [
    "from sklearn.datasets import load_breast_cancer\n",
    "from sklearn.metrics import accuracy_score\n",
    "from sklearn.naive_bayes import GaussianNB\n",
    "from sklearn.model_selection import train_test_split"
   ]
  },
  {
   "cell_type": "markdown",
   "id": "7169caa8-310e-4557-828f-23b4c10cadd8",
   "metadata": {},
   "source": [
    "The dataset I'll be working with in this tutorial is the Breast Cancer Winsconsin Diagnostic Database. The dataset includes various information about breast cancer tumors, as well as classification labels of malignant or benign. The dataset has 569 instances, or data, on 569 tumors and includes information on 30 attributes, or features, such as the radius of the tumor, texture, smoothness, and area."
   ]
  },
  {
   "cell_type": "markdown",
   "id": "eaa35737-fb6c-4770-8d9b-783739aad132",
   "metadata": {},
   "source": [
    "__I will now proceed to organize the data__"
   ]
  },
  {
   "cell_type": "code",
   "execution_count": 32,
   "id": "109a49c6-6721-4440-ab00-e4962b0e4c06",
   "metadata": {},
   "outputs": [],
   "source": [
    "# Load dataset\n",
    "data = load_breast_cancer()"
   ]
  },
  {
   "cell_type": "code",
   "execution_count": 33,
   "id": "1a05128f-017e-486b-8a16-f532dbe7b973",
   "metadata": {},
   "outputs": [],
   "source": [
    "label_names = data['target_names']"
   ]
  },
  {
   "cell_type": "code",
   "execution_count": 34,
   "id": "3ff6c808-4016-4c39-91f1-e471ae09dba0",
   "metadata": {},
   "outputs": [],
   "source": [
    "labels = data['target']"
   ]
  },
  {
   "cell_type": "code",
   "execution_count": 35,
   "id": "9a1f461f-4b13-49ad-802b-a624a32fbbb1",
   "metadata": {},
   "outputs": [],
   "source": [
    "feature_names = data['feature_names']"
   ]
  },
  {
   "cell_type": "code",
   "execution_count": 36,
   "id": "0f13c1f8-006f-4cbb-8057-4c00db5425f9",
   "metadata": {},
   "outputs": [],
   "source": [
    "features = data['data']"
   ]
  },
  {
   "cell_type": "markdown",
   "id": "1b74e0b1-5bb6-4894-9629-b4970976b5a3",
   "metadata": {},
   "source": [
    "__Now let's have a look at the data__"
   ]
  },
  {
   "cell_type": "code",
   "execution_count": 38,
   "id": "7289a409-b0cc-4950-bbf4-23e33d1b1fac",
   "metadata": {},
   "outputs": [
    {
     "name": "stdout",
     "output_type": "stream",
     "text": [
      "['malignant' 'benign']\n"
     ]
    }
   ],
   "source": [
    "print(label_names)"
   ]
  },
  {
   "cell_type": "code",
   "execution_count": 39,
   "id": "89670f23-9783-4c8d-b271-b2fb6ba65156",
   "metadata": {},
   "outputs": [
    {
     "name": "stdout",
     "output_type": "stream",
     "text": [
      "0\n"
     ]
    }
   ],
   "source": [
    "print(labels[0])"
   ]
  },
  {
   "cell_type": "code",
   "execution_count": 40,
   "id": "642073b0-8c71-4419-b4de-6ae95452960f",
   "metadata": {},
   "outputs": [
    {
     "name": "stdout",
     "output_type": "stream",
     "text": [
      "mean radius\n"
     ]
    }
   ],
   "source": [
    "print(feature_names[0])"
   ]
  },
  {
   "cell_type": "code",
   "execution_count": 41,
   "id": "357a861d-c066-459d-a1ef-c9cd1090a19d",
   "metadata": {},
   "outputs": [
    {
     "name": "stdout",
     "output_type": "stream",
     "text": [
      "[1.799e+01 1.038e+01 1.228e+02 1.001e+03 1.184e-01 2.776e-01 3.001e-01\n",
      " 1.471e-01 2.419e-01 7.871e-02 1.095e+00 9.053e-01 8.589e+00 1.534e+02\n",
      " 6.399e-03 4.904e-02 5.373e-02 1.587e-02 3.003e-02 6.193e-03 2.538e+01\n",
      " 1.733e+01 1.846e+02 2.019e+03 1.622e-01 6.656e-01 7.119e-01 2.654e-01\n",
      " 4.601e-01 1.189e-01]\n"
     ]
    }
   ],
   "source": [
    "print(features[0])"
   ]
  },
  {
   "cell_type": "markdown",
   "id": "080d649b-8baf-46b5-8cf1-e918a7be12bb",
   "metadata": {},
   "source": [
    "__Splitting our data__"
   ]
  },
  {
   "cell_type": "code",
   "execution_count": 43,
   "id": "c7d50b69-f5b5-4b35-9648-aa8f0a344085",
   "metadata": {},
   "outputs": [],
   "source": [
    "train, test, train_labels, test_labels = train_test_split(features,labels,\n",
    "                                            test_size=0.33,\n",
    "                                            random_state=42)"
   ]
  },
  {
   "cell_type": "markdown",
   "id": "310e5270-7e5a-4dec-9ffe-7098fbec6141",
   "metadata": {},
   "source": [
    "There are many models for machine learning, and each model has its own strengths and weaknesses. In this project I will focus on an algorithm that usually performs well in binary classification tasks, namely Naive Bayes(NB). First I will start with importing the GaussianNB module. Then initialize the model with the __GaussianNB()__ function, then train the model by fitting it to the data using __gnb.fit():__"
   ]
  },
  {
   "cell_type": "markdown",
   "id": "7df25216-16d0-4f43-a7d2-11fe21391d46",
   "metadata": {},
   "source": [
    "__Initialzing the classifier__"
   ]
  },
  {
   "cell_type": "code",
   "execution_count": 45,
   "id": "9fb92134-7894-4180-99b8-3c35ad7d0aee",
   "metadata": {},
   "outputs": [],
   "source": [
    "gnb = GaussianNB()"
   ]
  },
  {
   "cell_type": "markdown",
   "id": "cd3d4559-6a45-4a50-9734-19c3e01cf034",
   "metadata": {},
   "source": [
    "__Train our Classifier__"
   ]
  },
  {
   "cell_type": "code",
   "execution_count": 47,
   "id": "b2cff78a-5ea5-44e8-9d9d-25775eb6c121",
   "metadata": {},
   "outputs": [],
   "source": [
    "model = gnb.fit(train, train_labels)"
   ]
  },
  {
   "cell_type": "markdown",
   "id": "30b1c284-fedc-4a8f-9085-1daf5b4ae826",
   "metadata": {},
   "source": [
    "__Make predictions__"
   ]
  },
  {
   "cell_type": "code",
   "execution_count": 49,
   "id": "d0cec8c0-95fd-4c69-82b5-dfa71a414331",
   "metadata": {},
   "outputs": [],
   "source": [
    "preds = gnb.predict(test)"
   ]
  },
  {
   "cell_type": "code",
   "execution_count": 50,
   "id": "7f4d7d18-99fa-4c6a-bc8d-4fe0cd1c70b1",
   "metadata": {},
   "outputs": [
    {
     "name": "stdout",
     "output_type": "stream",
     "text": [
      "[1 0 0 1 1 0 0 0 1 1 1 0 1 0 1 0 1 1 1 0 1 1 0 1 1 1 1 1 1 0 1 1 1 1 1 1 0\n",
      " 1 0 1 1 0 1 1 1 1 1 1 1 1 0 0 1 1 1 1 1 0 0 1 1 0 0 1 1 1 0 0 1 1 0 0 1 0\n",
      " 1 1 1 1 1 1 0 1 1 0 0 0 0 0 1 1 1 1 1 1 1 1 0 0 1 0 0 1 0 0 1 1 1 0 1 1 0\n",
      " 1 1 0 0 0 1 1 1 0 0 1 1 0 1 0 0 1 1 0 0 0 1 1 1 0 1 1 0 0 1 0 1 1 0 1 0 0\n",
      " 1 1 1 1 1 1 1 0 0 1 1 1 1 1 1 1 1 1 1 1 1 0 0 1 1 0 1 1 0 1 1 1 1 1 1 0 0\n",
      " 0 1 1]\n"
     ]
    }
   ],
   "source": [
    "print(preds)"
   ]
  },
  {
   "cell_type": "markdown",
   "id": "7626cb45-0aa6-4b6e-ba01-79fe4950c949",
   "metadata": {},
   "source": [
    "As you can see in the output above, the __predict()__ function returned an array of 0s and 1s which represent our predicted values for the tumor class(malignant vs. benign). Now it's time to evaluate how well the classifier is performing. Using the array of true class labels, I can evaluate the accuracy of my model's predicted values values by comparing the two arrays (test_labels vs. preds). I will use the __sklearn__ function __accuracy_score()__ to determine the accuracy of my machine learning classifier."
   ]
  },
  {
   "cell_type": "markdown",
   "id": "9af4fbb8-a1df-433e-8a45-925af33e0606",
   "metadata": {},
   "source": [
    "__Evaluate accuracy__"
   ]
  },
  {
   "cell_type": "code",
   "execution_count": 52,
   "id": "a1751891-6862-4801-8565-c1eff85dda88",
   "metadata": {},
   "outputs": [
    {
     "name": "stdout",
     "output_type": "stream",
     "text": [
      "0.9414893617021277\n"
     ]
    }
   ],
   "source": [
    "print(accuracy_score(test_labels, preds))"
   ]
  },
  {
   "cell_type": "markdown",
   "id": "e538ecfd-53fa-40c6-a654-42d76d10db09",
   "metadata": {},
   "source": [
    "As shown in the output above, the NB classifier is 94.15% accurate. This means that 94.15 percent of the time the classifier is able to make the correct prediction as to whether or not the tumor is malignant or benign. These results suggest that our feature set of 30 attributes are good indicators of tumor class."
   ]
  }
 ],
 "metadata": {
  "kernelspec": {
   "display_name": "Python 3 (ipykernel)",
   "language": "python",
   "name": "python3"
  },
  "language_info": {
   "codemirror_mode": {
    "name": "ipython",
    "version": 3
   },
   "file_extension": ".py",
   "mimetype": "text/x-python",
   "name": "python",
   "nbconvert_exporter": "python",
   "pygments_lexer": "ipython3",
   "version": "3.11.7"
  }
 },
 "nbformat": 4,
 "nbformat_minor": 5
}
