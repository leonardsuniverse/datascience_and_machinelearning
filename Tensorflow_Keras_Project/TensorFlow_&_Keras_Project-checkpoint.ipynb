{
 "cells": [
  {
   "cell_type": "markdown",
   "id": "729c8b31-2c2b-4f1a-9386-4a2c5e52704f",
   "metadata": {},
   "source": [
    "# Keras API Proeject"
   ]
  },
  {
   "cell_type": "markdown",
   "id": "437af712",
   "metadata": {},
   "source": [
    "LendingClub is a US peer-to-peer company, headquartered in San Francisco, California. It was the first peer-to-peer lender to register its offerings as securities with the Securities with the Securities and Exchange Commission (SEC), and to offer loan trading on a sceondary market. LendingClub is the world's largest peer-to-peer lending platform."
   ]
  },
  {
   "cell_type": "markdown",
   "id": "2dfb5522",
   "metadata": {},
   "source": [
    "# Data Overview"
   ]
  },
  {
   "cell_type": "markdown",
   "id": "69530ea8",
   "metadata": {},
   "source": [
    "Click on the link below for information about this particular dataset\n",
    "https://www.kaggle.com/code/aonursert/tensorflow-keras-project?scriptVersionId=36290319&cellId=2"
   ]
  },
  {
   "cell_type": "markdown",
   "id": "a0004547",
   "metadata": {},
   "source": [
    "# Starter Code"
   ]
  },
  {
   "cell_type": "code",
   "execution_count": 1,
   "id": "1bb042ee",
   "metadata": {},
   "outputs": [
    {
     "name": "stdout",
     "output_type": "stream",
     "text": [
      "Revolving line utilization rate, or the amount of credit the borrower is using relative to all available revolving credit.\n"
     ]
    }
   ],
   "source": [
    "import pandas as pd\n",
    "# Read the CSV file into a DataFrame\n",
    "data_info = pd.read_csv('C:/Users/Owner/anaconda3/envs/tf-gpu/lending_club_info.csv', index_col='LoanStatNew')\n",
    "\n",
    "print(data_info.loc['revol_util']['Description'])\n",
    "\n"
   ]
  },
  {
   "cell_type": "code",
   "execution_count": 14,
   "id": "fe15357e",
   "metadata": {},
   "outputs": [
    {
     "name": "stdout",
     "output_type": "stream",
     "text": [
      "Number of mortgage accounts.\n"
     ]
    }
   ],
   "source": [
    "def feat_info(col_name):\n",
    "    print(data_info.loc[col_name]['Description'])\n",
    "    \n",
    "feat_info('mort_acc')"
   ]
  },
  {
   "cell_type": "markdown",
   "id": "eb544439",
   "metadata": {},
   "source": [
    "# Loading the data and other imports"
   ]
  },
  {
   "cell_type": "code",
   "execution_count": 3,
   "id": "f8559899",
   "metadata": {},
   "outputs": [
    {
     "name": "stdout",
     "output_type": "stream",
     "text": [
      "<class 'pandas.core.frame.DataFrame'>\n",
      "RangeIndex: 396030 entries, 0 to 396029\n",
      "Data columns (total 27 columns):\n",
      " #   Column                Non-Null Count   Dtype  \n",
      "---  ------                --------------   -----  \n",
      " 0   loan_amnt             396030 non-null  float64\n",
      " 1   term                  396030 non-null  object \n",
      " 2   int_rate              396030 non-null  float64\n",
      " 3   installment           396030 non-null  float64\n",
      " 4   grade                 396030 non-null  object \n",
      " 5   sub_grade             396030 non-null  object \n",
      " 6   emp_title             373103 non-null  object \n",
      " 7   emp_length            377729 non-null  object \n",
      " 8   home_ownership        396030 non-null  object \n",
      " 9   annual_inc            396030 non-null  float64\n",
      " 10  verification_status   396030 non-null  object \n",
      " 11  issue_d               396030 non-null  object \n",
      " 12  loan_status           396030 non-null  object \n",
      " 13  purpose               396030 non-null  object \n",
      " 14  title                 394274 non-null  object \n",
      " 15  dti                   396030 non-null  float64\n",
      " 16  earliest_cr_line      396030 non-null  object \n",
      " 17  open_acc              396030 non-null  float64\n",
      " 18  pub_rec               396030 non-null  float64\n",
      " 19  revol_bal             396030 non-null  float64\n",
      " 20  revol_util            395754 non-null  float64\n",
      " 21  total_acc             396030 non-null  float64\n",
      " 22  initial_list_status   396030 non-null  object \n",
      " 23  application_type      396030 non-null  object \n",
      " 24  mort_acc              358235 non-null  float64\n",
      " 25  pub_rec_bankruptcies  395495 non-null  float64\n",
      " 26  address               396030 non-null  object \n",
      "dtypes: float64(12), object(15)\n",
      "memory usage: 81.6+ MB\n"
     ]
    }
   ],
   "source": [
    "import pandas as pd\n",
    "import numpy as np\n",
    "import matplotlib.pyplot as plt\n",
    "import seaborn as sns\n",
    "%matplotlib inline\n",
    "\n",
    "df = pd.read_csv('C:/Users/Owner/anaconda3/envs/tf-gpu/lending_club_loan_two.csv')\n",
    "df.info()"
   ]
  },
  {
   "cell_type": "markdown",
   "id": "1859cedc",
   "metadata": {},
   "source": [
    "# Section 1: Exploratory Data Analysis"
   ]
  },
  {
   "cell_type": "markdown",
   "id": "d2d2eed5",
   "metadata": {},
   "source": [
    "Overall Goal: Get an understanding for which variables are important, view\n",
    "summary statistics, and visualize the data\n",
    "Task: Since we will be attempting to predict loan_status, I created a \n",
    "countplot as shown below."
   ]
  },
  {
   "cell_type": "code",
   "execution_count": 16,
   "id": "380bd338",
   "metadata": {},
   "outputs": [
    {
     "data": {
      "image/png": "[encoded data removed]",
      "text/plain": [
       "<Figure size 1000x600 with 1 Axes>"
      ]
     },
     "metadata": {},
     "output_type": "display_data"
    }
   ],
   "source": [
    "import pandas as pd\n",
    "import matplotlib.pyplot as plt\n",
    "\n",
    "# Convert \"loan_status\" to categorical data type\n",
    "df[\"loan_status\"] = df[\"loan_status\"].astype('category')\n",
    "\n",
    "# Get the counts of each unique value in \"loan_status\"\n",
    "status_counts = df[\"loan_status\"].value_counts()\n",
    "\n",
    "# Plot the counts using Matplotlib\n",
    "plt.figure(figsize=(10, 6))\n",
    "status_counts.plot(kind='bar')\n",
    "plt.title(\"Loan Status Counts\")\n",
    "plt.xlabel(\"Loan Status\")\n",
    "plt.ylabel(\"Count\")\n",
    "plt.xticks(rotation=45)\n",
    "plt.show()\n"
   ]
  },
  {
   "cell_type": "markdown",
   "id": "faf8524e",
   "metadata": {},
   "source": [
    "# # Task: Create a histogram of the loan_amnt column"
   ]
  },
  {
   "cell_type": "code",
   "execution_count": 17,
   "id": "f472dfd2",
   "metadata": {},
   "outputs": [
    {
     "name": "stderr",
     "output_type": "stream",
     "text": [
      "C:\\Users\\Owner\\AppData\\Local\\Temp\\ipykernel_3632\\3266286701.py:3: UserWarning: \n",
      "\n",
      "`distplot` is a deprecated function and will be removed in seaborn v0.14.0.\n",
      "\n",
      "Please adapt your code to use either `displot` (a figure-level function with\n",
      "similar flexibility) or `histplot` (an axes-level function for histograms).\n",
      "\n",
      "For a guide to updating your code to use the new functions, please see\n",
      "https://gist.github.com/mwaskom/de44147ed2974457ad6372750bbe5751\n",
      "\n",
      "  sns.distplot(df[\"loan_amnt\"], kde=False)\n"
     ]
    },
    {
     "data": {
      "text/plain": [
       "<Axes: xlabel='loan_amnt'>"
      ]
     },
     "execution_count": 17,
     "metadata": {},
     "output_type": "execute_result"
    },
    {
     "data": {
      "image/png": "[encoded data removed]",
      "text/plain": [
       "<Figure size 1200x400 with 1 Axes>"
      ]
     },
     "metadata": {},
     "output_type": "display_data"
    }
   ],
   "source": [
    "sns.set_style(\"whitegrid\")\n",
    "plt.figure(figsize=(12,4))\n",
    "sns.distplot(df[\"loan_amnt\"], kde=False)"
   ]
  },
  {
   "cell_type": "code",
   "execution_count": 18,
   "id": "c976aedf",
   "metadata": {},
   "outputs": [
    {
     "name": "stdout",
     "output_type": "stream",
     "text": [
      "The listed amount of the loan applied for by the borrower. If at some point in time, the credit department reduces the loan amount, then it will be reflected in this value.\n"
     ]
    }
   ],
   "source": [
    "feat_info('loan_amnt')"
   ]
  },
  {
   "cell_type": "markdown",
   "id": "38ff2dcc",
   "metadata": {},
   "source": [
    "# Task: Lets explore correlation between the continous numeric  variables. Calculate the correlation between all continous numeric variables using .corr()method."
   ]
  },
  {
   "cell_type": "code",
   "execution_count": 5,
   "id": "d94846ba",
   "metadata": {},
   "outputs": [
    {
     "name": "stdout",
     "output_type": "stream",
     "text": [
      "              loan_amnt  int_rate  installment  annual_inc       dti  \\\n",
      "loan_amnt      1.000000  0.168921     0.953929    0.336887  0.016636   \n",
      "int_rate       0.168921  1.000000     0.162758   -0.056771  0.079038   \n",
      "installment    0.953929  0.162758     1.000000    0.330381  0.015786   \n",
      "annual_inc     0.336887 -0.056771     0.330381    1.000000 -0.081685   \n",
      "dti            0.016636  0.079038     0.015786   -0.081685  1.000000   \n",
      "...                 ...       ...          ...         ...       ...   \n",
      "sub_grade_G1   0.039714  0.137912     0.040316    0.004775  0.004517   \n",
      "sub_grade_G2   0.033544  0.118871     0.034648    0.001699  0.005410   \n",
      "sub_grade_G3   0.032224  0.104247     0.033163    0.003318  0.003337   \n",
      "sub_grade_G4   0.027905  0.086611     0.028853    0.005917  0.003607   \n",
      "sub_grade_G5   0.023786  0.081416     0.024953    0.005291  0.003466   \n",
      "\n",
      "              open_acc   pub_rec  revol_bal  revol_util  total_acc  ...  \\\n",
      "loan_amnt     0.198556 -0.077779   0.328320    0.100286   0.223886  ...   \n",
      "int_rate      0.011649  0.060986  -0.011280    0.292349  -0.036404  ...   \n",
      "installment   0.188973 -0.067892   0.316455    0.124179   0.202430  ...   \n",
      "annual_inc    0.136150 -0.013720   0.299773    0.027492   0.193023  ...   \n",
      "dti           0.136181 -0.017639   0.063571    0.088491   0.102128  ...   \n",
      "...                ...       ...        ...         ...        ...  ...   \n",
      "sub_grade_G1  0.006187  0.004929   0.001565    0.015652   0.001235  ...   \n",
      "sub_grade_G2  0.008359  0.003236   0.000547    0.014122   0.001887  ...   \n",
      "sub_grade_G3  0.004627  0.007606   0.001331    0.012859   0.000359  ...   \n",
      "sub_grade_G4  0.008202 -0.000719   0.003731    0.009536   0.003955  ...   \n",
      "sub_grade_G5  0.004363  0.002307   0.005196    0.010343   0.001143  ...   \n",
      "\n",
      "              sub_grade_F1  sub_grade_F2  sub_grade_F3  sub_grade_F4  \\\n",
      "loan_amnt         0.051336      0.052311      0.041886      0.043856   \n",
      "int_rate          0.193289      0.183100      0.177523      0.164021   \n",
      "installment       0.043038      0.047362      0.039397      0.041855   \n",
      "annual_inc        0.001511      0.000679     -0.001545      0.000113   \n",
      "dti               0.010803      0.010887      0.008246      0.006756   \n",
      "...                    ...           ...           ...           ...   \n",
      "sub_grade_G1     -0.004912     -0.004341     -0.003944     -0.003484   \n",
      "sub_grade_G2     -0.004145     -0.003663     -0.003328     -0.002940   \n",
      "sub_grade_G3     -0.003546     -0.003133     -0.002847     -0.002515   \n",
      "sub_grade_G4     -0.002918     -0.002578     -0.002343     -0.002070   \n",
      "sub_grade_G5     -0.002682     -0.002370     -0.002153     -0.001903   \n",
      "\n",
      "              sub_grade_F5  sub_grade_G1  sub_grade_G2  sub_grade_G3  \\\n",
      "loan_amnt         0.047780      0.039714      0.033544      0.032224   \n",
      "int_rate          0.151885      0.137912      0.118871      0.104247   \n",
      "installment       0.046927      0.040316      0.034648      0.033163   \n",
      "annual_inc        0.005041      0.004775      0.001699      0.003318   \n",
      "dti               0.007711      0.004517      0.005410      0.003337   \n",
      "...                    ...           ...           ...           ...   \n",
      "sub_grade_G1     -0.003079      1.000000     -0.002260     -0.001934   \n",
      "sub_grade_G2     -0.002599     -0.002260      1.000000     -0.001632   \n",
      "sub_grade_G3     -0.002223     -0.001934     -0.001632      1.000000   \n",
      "sub_grade_G4     -0.001829     -0.001591     -0.001343     -0.001149   \n",
      "sub_grade_G5     -0.001681     -0.001463     -0.001234     -0.001056   \n",
      "\n",
      "              sub_grade_G4  sub_grade_G5  \n",
      "loan_amnt         0.027905      0.023786  \n",
      "int_rate          0.086611      0.081416  \n",
      "installment       0.028853      0.024953  \n",
      "annual_inc        0.005917      0.005291  \n",
      "dti               0.003607      0.003466  \n",
      "...                    ...           ...  \n",
      "sub_grade_G1     -0.001591     -0.001463  \n",
      "sub_grade_G2     -0.001343     -0.001234  \n",
      "sub_grade_G3     -0.001149     -0.001056  \n",
      "sub_grade_G4      1.000000     -0.000869  \n",
      "sub_grade_G5     -0.000869      1.000000  \n",
      "\n",
      "[97 rows x 97 columns]\n"
     ]
    }
   ],
   "source": [
    "import pandas as pd\n",
    "\n",
    "# Load the dataset\n",
    "df = pd.read_csv('C:/Users/Owner/anaconda3/envs/tf-gpu/lending_club_loan_two.csv')\n",
    "\n",
    "# Drop columns that are not suitable for modeling or require additional preprocessing\n",
    "df.drop(columns=['emp_title', 'title', 'issue_d', 'earliest_cr_line', 'address'], inplace=True)\n",
    "\n",
    "# Convert categorical columns to one-hot encoding\n",
    "df = pd.get_dummies(df, columns=['term', 'grade', 'emp_length', 'home_ownership', 'verification_status',\n",
    "                                  'loan_status', 'purpose', 'initial_list_status', 'application_type'])\n",
    "\n",
    "# Convert 'sub_grade' column to one-hot encoding\n",
    "df = pd.get_dummies(df, columns=['sub_grade'])\n",
    "\n",
    "# Handle missing values\n",
    "df.fillna(0, inplace=True)  # Filling missing values with 0, you can choose a different strategy if needed\n",
    "\n",
    "# Now, let's check the correlation matrix\n",
    "corr_matrix = df.corr()\n",
    "print(corr_matrix)\n",
    "\n",
    "\n"
   ]
  },
  {
   "cell_type": "markdown",
   "id": "c254f2f4",
   "metadata": {},
   "source": [
    "# Task: Visualization using Heatmap"
   ]
  },
  {
   "cell_type": "code",
   "execution_count": null,
   "id": "3c190b32",
   "metadata": {},
   "outputs": [],
   "source": [
    "import seaborn as sns\n",
    "import matplotlib.pyplot as plt\n",
    "import pandas as pd\n",
    "\n",
    "# Read the dataset\n",
    "df = pd.read_csv('C:/Users/Owner/anaconda3/envs/Tensorflow/TensorForge_KeraScript/lending_club_loan_two.csv')\n",
    "\n",
    "# Drop rows with non-numeric values in columns that should be numeric\n",
    "numeric_columns = ['term', 'emp_length']\n",
    "df = df.dropna(subset=numeric_columns)\n",
    "\n",
    "# Convert 'term' column to numerical values\n",
    "df['term'] = df['term'].apply(lambda x: int(x.split()[0]))\n",
    "\n",
    "# Convert categorical columns to numerical values\n",
    "grade_mapping = {'A': 1, 'B': 2, 'C': 3, 'D': 4, 'E': 5, 'F': 6, 'G': 7}\n",
    "df['grade'] = df['grade'].map(grade_mapping)\n",
    "\n",
    "# Convert 'emp_length' to numerical values\n",
    "def convert_emp_length(x):\n",
    "    if pd.isnull(x):\n",
    "        return x\n",
    "    elif '+' in x:\n",
    "        return 10\n",
    "    elif '<' in x:\n",
    "        return 0\n",
    "    else:\n",
    "        return int(x.split()[0])\n",
    "\n",
    "df['emp_length'] = df['emp_length'].apply(convert_emp_length)\n",
    "\n",
    "# Convert non-numeric columns to categorical or drop them\n",
    "non_numeric_columns = df.select_dtypes(exclude=['float64', 'int64']).columns\n",
    "for col in non_numeric_columns:\n",
    "    if col in ['issue_d', 'earliest_cr_line']:\n",
    "        df[col] = pd.to_datetime(df[col], errors='coerce')\n",
    "    else:\n",
    "        df = df.drop(columns=[col])\n",
    "\n",
    "# Plot heatmap\n",
    "plt.figure(figsize=(12,8))\n",
    "sns.heatmap(df.corr(), annot=True)\n",
    "plt.show()\n",
    "\n",
    "\n",
    "\n",
    "\n"
   ]
  },
  {
   "cell_type": "markdown",
   "id": "f6eb9a97",
   "metadata": {},
   "source": [
    "__Task: You should have noticed almost perfect correlation with the \"installment\" feature. Explore this feature further. Print out their descriptions and perform a scatterplot between them. Does this relationship make sense to you? Do you think there's duplicate information here?__"
   ]
  },
  {
   "cell_type": "code",
   "execution_count": null,
   "id": "af2f6a3d",
   "metadata": {},
   "outputs": [],
   "source": [
    "import pandas as pd\n",
    "\n",
    "# Read the CSV file into a DataFrame\n",
    "df = pd.read_csv('C:/Users/Owner/anaconda3/envs/tf-gpu/lending_club_loan_two.csv')\n",
    "\n",
    "# Get information about the 'installment' column\n",
    "installment_info = df['installment'].describe()\n",
    "print(installment_info)\n"
   ]
  },
  {
   "cell_type": "code",
   "execution_count": null,
   "id": "c67eb4b3",
   "metadata": {},
   "outputs": [],
   "source": [
    "feat_info('loan_amnt')"
   ]
  },
  {
   "cell_type": "code",
   "execution_count": 5,
   "id": "2f69c52d",
   "metadata": {},
   "outputs": [
    {
     "data": {
      "text/plain": [
       "<Axes: xlabel='installment', ylabel='loan_amnt'>"
      ]
     },
     "execution_count": 5,
     "metadata": {},
     "output_type": "execute_result"
    },
    {
     "data": {
      "image/png": "[encoded data removed]",
      "text/plain": [
       "<Figure size 640x480 with 1 Axes>"
      ]
     },
     "metadata": {},
     "output_type": "display_data"
    }
   ],
   "source": [
    "sns.scatterplot(x=\"installment\", y=\"loan_amnt\", data=df)"
   ]
  },
  {
   "cell_type": "markdown",
   "id": "5cd4b25e",
   "metadata": {},
   "source": [
    "Task: Create a boxplot showing the relationship between the loan_status and the Loan Amount."
   ]
  },
  {
   "cell_type": "code",
   "execution_count": null,
   "id": "a783f947",
   "metadata": {},
   "outputs": [],
   "source": [
    "import seaborn as sns\n",
    "import pandas as pd\n",
    "df = pd.read_csv('C:/Users/Owner/anaconda3/envs/tf-gpu/lending_club_loan_two.csv')\n",
    "sns.boxplot(x=\"loan_status\", y=\"loan_amnt\", data=df)"
   ]
  },
  {
   "cell_type": "markdown",
   "id": "58cb115a",
   "metadata": {},
   "source": [
    "__Task: Calculate the Summary statistics for the loan amount, grouped by the loan_status.__"
   ]
  },
  {
   "cell_type": "code",
   "execution_count": null,
   "id": "f9543718",
   "metadata": {},
   "outputs": [],
   "source": [
    "df.groupby(\"loan_status\")[\"loan_amnt\"].describe()"
   ]
  },
  {
   "cell_type": "markdown",
   "id": "00228c69",
   "metadata": {},
   "source": [
    "__Task: Let's explore the Grade and SubGrade columns that LendingClub attributes to the loans. What are the unique possible grades and subgrades?"
   ]
  },
  {
   "cell_type": "code",
   "execution_count": null,
   "id": "2e96738c",
   "metadata": {},
   "outputs": [],
   "source": [
    "df.head()"
   ]
  },
  {
   "cell_type": "code",
   "execution_count": null,
   "id": "0432db47",
   "metadata": {},
   "outputs": [],
   "source": [
    "import numpy as np\n",
    "np.sort(df[\"grade\"].unique())"
   ]
  },
  {
   "cell_type": "code",
   "execution_count": null,
   "id": "ee3c1e17",
   "metadata": {},
   "outputs": [],
   "source": [
    "np.sort(df[\"sub_grade\"].unique())"
   ]
  },
  {
   "cell_type": "markdown",
   "id": "a3ebca13",
   "metadata": {},
   "source": [
    "__Task: Create a countplot per grade. Set the hue to the loan_status label__"
   ]
  },
  {
   "cell_type": "code",
   "execution_count": 6,
   "id": "797afb50",
   "metadata": {},
   "outputs": [
    {
     "data": {
      "text/plain": [
       "<Axes: xlabel='grade', ylabel='count'>"
      ]
     },
     "execution_count": 6,
     "metadata": {},
     "output_type": "execute_result"
    },
    {
     "data": {
      "image/png": "[encoded data removed]",
      "text/plain": [
       "<Figure size 640x480 with 1 Axes>"
      ]
     },
     "metadata": {},
     "output_type": "display_data"
    }
   ],
   "source": [
    "sns.countplot(x=\"grade\", hue=\"loan_status\", data=df)"
   ]
  },
  {
   "cell_type": "markdown",
   "id": "4f58a51d",
   "metadata": {},
   "source": [
    "__Task: Display a count plot per subgrade. You may need to resize for this plot and reorder the x axis. Feel free to edit the color palette. Explore both all loans made per subgrade as well being separated based on the loan_status. After creating this plot, go ahead and create a similar plot, but set hue=\"loan_status\""
   ]
  },
  {
   "cell_type": "code",
   "execution_count": null,
   "id": "e2c6ca48",
   "metadata": {},
   "outputs": [],
   "source": [
    "import matplotlib.pyplot as plt\n",
    "plt.figure(figsize=(12,6))\n",
    "sns.countplot(x=\"sub_grade\", data=df, palette=\"coolwarm\", order=np.sort(df[\"sub_grade\"].unique()))"
   ]
  },
  {
   "cell_type": "code",
   "execution_count": null,
   "id": "5424f22a",
   "metadata": {},
   "outputs": [],
   "source": [
    "plt.figure(figsize=(12,6))\n",
    "sns.countplot(x=\"sub_grade\", hue=\"loan_status\", data=df, palette=\"coolwarm\", order=np.sort(df[\"sub_grade\"].unique()))"
   ]
  },
  {
   "cell_type": "markdown",
   "id": "97d2fa94",
   "metadata": {},
   "source": [
    "__Task: It looks like F and G subgrades don't get paid back that often. Isolate those and recreate the countplot just for those subgrades__"
   ]
  },
  {
   "cell_type": "code",
   "execution_count": null,
   "id": "195753b6",
   "metadata": {},
   "outputs": [],
   "source": [
    "df_FG = df[(df[\"grade\"] == \"F\") | (df[\"grade\"] == \"G\")]\n",
    "plt.figure(figsize=(12,6))\n",
    "sns.countplot(x=\"sub_grade\", hue=\"loan_status\", data=df_FG, palette=\"coolwarm\", order=np.sort(df_FG[\"sub_grade\"].unique()))"
   ]
  },
  {
   "cell_type": "markdown",
   "id": "d894eafa",
   "metadata": {},
   "source": [
    "__Task: Create a new column called 'loan_repaid' which will contain a 1 if the loan status was \"Fully Paid\" and a 0 if it was \"Charged Off\"."
   ]
  },
  {
   "cell_type": "code",
   "execution_count": null,
   "id": "62acc6c2",
   "metadata": {},
   "outputs": [],
   "source": [
    "df[\"loan_repaid\"] = pd.get_dummies(df[\"loan_status\"], drop_first=True)\n",
    "df.head()"
   ]
  },
  {
   "cell_type": "markdown",
   "id": "4fe6aec2",
   "metadata": {},
   "source": [
    "__Challenge Task: Create a bar plot showing the correlation of the numeric features to the new loan_repaid column.__"
   ]
  },
  {
   "cell_type": "code",
   "execution_count": 7,
   "id": "793c22a3",
   "metadata": {},
   "outputs": [
    {
     "data": {
      "image/png": "[encoded data removed]",
      "text/plain": [
       "<Figure size 640x480 with 1 Axes>"
      ]
     },
     "metadata": {},
     "output_type": "display_data"
    }
   ],
   "source": [
    "import pandas as pd\n",
    "import seaborn as sns\n",
    "import matplotlib.pyplot as plt\n",
    "from sklearn.preprocessing import LabelEncoder\n",
    "\n",
    "# Read the CSV file into a DataFrame\n",
    "df = pd.read_csv('C:/Users/Owner/anaconda3/envs/tf-gpu/lending_club_loan_two.csv')\n",
    "\n",
    "# Drop rows with missing values in the DataFrame\n",
    "df.dropna(inplace=True)\n",
    "\n",
    "# Preprocess 'term' column\n",
    "df['term'] = df['term'].astype(str).str.replace(' months', '').astype(int)\n",
    "\n",
    "# Apply label encoding to 'grade' and 'sub_grade' columns\n",
    "label_encoder = LabelEncoder()\n",
    "df['grade'] = label_encoder.fit_transform(df['grade'])\n",
    "df['sub_grade'] = label_encoder.fit_transform(df['sub_grade'])\n",
    "\n",
    "# Apply label encoding to 'emp_length' column\n",
    "df['emp_length'] = df['emp_length'].replace({'< 1 year': 0, '1 year': 1, '2 years': 2, '3 years': 3, '4 years': 4, '5 years': 5, '6 years': 6, '7 years': 7, '8 years': 8, '9 years': 9, '10+ years': 10})\n",
    "\n",
    "# Convert 'earliest_cr_line' to year\n",
    "df['earliest_cr_line'] = pd.to_datetime(df['earliest_cr_line'], format='%b-%Y').dt.year\n",
    "\n",
    "# Extract year from 'issue_d' and convert to integer\n",
    "df['issue_year'] = pd.to_datetime(df['issue_d'], format='%b-%Y').dt.year\n",
    "\n",
    "# Drop columns with non-numeric values\n",
    "non_numeric_cols = ['emp_title', 'home_ownership', 'verification_status', 'loan_status', 'purpose', 'title', 'initial_list_status', 'application_type', 'address', 'issue_d']\n",
    "df.drop(non_numeric_cols, axis=1, inplace=True)\n",
    "\n",
    "# Check if target variable exists\n",
    "target_variable = 'loan_repaid'\n",
    "if target_variable in df.columns:\n",
    "    # Plot correlation for target variable\n",
    "    df.corr()[target_variable][:-1].sort_values().plot(kind=\"bar\")\n",
    "else:\n",
    "    # Plot correlation among all numeric features\n",
    "    df.corr().plot(kind=\"bar\")\n",
    "\n",
    "plt.show()\n",
    "\n",
    "\n",
    "\n",
    "\n",
    "\n",
    "\n",
    "\n"
   ]
  },
  {
   "cell_type": "markdown",
   "id": "47d09144",
   "metadata": {},
   "source": [
    "# Section 2: Data PreProcessing"
   ]
  },
  {
   "cell_type": "markdown",
   "id": "114fee11",
   "metadata": {},
   "source": [
    "__Section Goals: Remove or fill any missing data. Remove unnecessary or repetitive features. Convert categorical string features to dummy variables.__"
   ]
  },
  {
   "cell_type": "code",
   "execution_count": null,
   "id": "8d50a75b",
   "metadata": {},
   "outputs": [],
   "source": [
    "df.head"
   ]
  },
  {
   "cell_type": "markdown",
   "id": "8d5fdaf0",
   "metadata": {},
   "source": [
    "# Missing Data"
   ]
  },
  {
   "cell_type": "markdown",
   "id": "e54db3a5",
   "metadata": {},
   "source": [
    "__Let's explore the missing data columns. We use a variety of factors to decide whether or not they would be useful, to see if we should keep, discard or fill in the missing data.__"
   ]
  },
  {
   "cell_type": "markdown",
   "id": "b966f1b8",
   "metadata": {},
   "source": [
    "__Task: What is the length of the dataframe?__"
   ]
  },
  {
   "cell_type": "code",
   "execution_count": null,
   "id": "ad893fd2",
   "metadata": {},
   "outputs": [],
   "source": [
    "import pandas as pd\n",
    "df = pd.read_csv('C:/Users/Owner/anaconda3/envs/tf-gpu/lending_club_loan_two.csv')\n",
    "len(df)"
   ]
  },
  {
   "cell_type": "markdown",
   "id": "0b761616",
   "metadata": {},
   "source": [
    "__Task: Create a Series that displays the total count of missing values per column.__"
   ]
  },
  {
   "cell_type": "code",
   "execution_count": 8,
   "id": "06b8da13",
   "metadata": {},
   "outputs": [
    {
     "data": {
      "text/plain": [
       "loan_amnt               0\n",
       "term                    0\n",
       "int_rate                0\n",
       "installment             0\n",
       "grade                   0\n",
       "sub_grade               0\n",
       "emp_length              0\n",
       "annual_inc              0\n",
       "dti                     0\n",
       "earliest_cr_line        0\n",
       "open_acc                0\n",
       "pub_rec                 0\n",
       "revol_bal               0\n",
       "revol_util              0\n",
       "total_acc               0\n",
       "mort_acc                0\n",
       "pub_rec_bankruptcies    0\n",
       "issue_year              0\n",
       "dtype: int64"
      ]
     },
     "execution_count": 8,
     "metadata": {},
     "output_type": "execute_result"
    }
   ],
   "source": [
    "df.isnull().sum()"
   ]
  },
  {
   "cell_type": "markdown",
   "id": "5ea6be99",
   "metadata": {},
   "source": [
    "__Task: Convert this Series to be in term of percentage of the total DataFrame__"
   ]
  },
  {
   "cell_type": "code",
   "execution_count": 9,
   "id": "7a19a414",
   "metadata": {},
   "outputs": [
    {
     "data": {
      "text/plain": [
       "loan_amnt               0.000000\n",
       "term                    0.000000\n",
       "int_rate                0.000000\n",
       "installment             0.000000\n",
       "grade                   0.000000\n",
       "sub_grade               0.000000\n",
       "emp_title               0.057892\n",
       "emp_length              0.046211\n",
       "home_ownership          0.000000\n",
       "annual_inc              0.000000\n",
       "verification_status     0.000000\n",
       "issue_d                 0.000000\n",
       "loan_status             0.000000\n",
       "purpose                 0.000000\n",
       "title                   0.004434\n",
       "dti                     0.000000\n",
       "earliest_cr_line        0.000000\n",
       "open_acc                0.000000\n",
       "pub_rec                 0.000000\n",
       "revol_bal               0.000000\n",
       "revol_util              0.000697\n",
       "total_acc               0.000000\n",
       "initial_list_status     0.000000\n",
       "application_type        0.000000\n",
       "mort_acc                0.095435\n",
       "pub_rec_bankruptcies    0.001351\n",
       "address                 0.000000\n",
       "dtype: float64"
      ]
     },
     "execution_count": 9,
     "metadata": {},
     "output_type": "execute_result"
    }
   ],
   "source": [
    "import pandas as pd\n",
    "df = pd.read_csv('C:/Users/Owner/anaconda3/envs/tf-gpu/lending_club_loan_two.csv')\n",
    "df.isnull().mean()"
   ]
  },
  {
   "cell_type": "markdown",
   "id": "8a381a75",
   "metadata": {},
   "source": [
    "__Task: Let's examine emp_title and emp_length to see whether it will be okay to drop them. Print out their feature information using the feat_info() function from the top of this notebook__"
   ]
  },
  {
   "cell_type": "code",
   "execution_count": null,
   "id": "115d63ec",
   "metadata": {},
   "outputs": [],
   "source": [
    "import pandas as pd\n",
    "df = pd.read_csv('C:/Users/Owner/anaconda3/envs/tf-gpu/lending_club_loan_two.csv')\n",
    "def feat_info(feature_name):\n",
    "    # Define a dictionary containing information about features\n",
    "    feature_info = {\n",
    "        'emp_title': 'Employer title',\n",
    "        'emp_length': 'Employment length in years',\n",
    "        # Add more feature descriptions as needed\n",
    "    }\n",
    "    \n",
    "    # Print information about the specified feature\n",
    "    print(feature_info.get(feature_name, 'Feature not found'))\n",
    "\n",
    "# Now you can use the feat_info function\n",
    "feat_info(\"emp_title\")\n",
    "print()\n",
    "feat_info(\"emp_length\")"
   ]
  },
  {
   "cell_type": "markdown",
   "id": "35b4068e",
   "metadata": {},
   "source": [
    "__Task: How many unique employment job titles are there?__"
   ]
  },
  {
   "cell_type": "code",
   "execution_count": null,
   "id": "8267a16d",
   "metadata": {},
   "outputs": [],
   "source": [
    "df[\"emp_title\"].nunique()"
   ]
  },
  {
   "cell_type": "code",
   "execution_count": null,
   "id": "9ab4abbe",
   "metadata": {},
   "outputs": [],
   "source": [
    "df[\"emp_title\"].value_counts()"
   ]
  },
  {
   "cell_type": "markdown",
   "id": "90dcd22f",
   "metadata": {},
   "source": [
    "__Task: Realistically there are too many unique job titles to try to convert this to a dummy variable feature. Let's remove that emp_title column.__"
   ]
  },
  {
   "cell_type": "code",
   "execution_count": null,
   "id": "78f030fa",
   "metadata": {},
   "outputs": [],
   "source": [
    "df.drop(\"emp_title\", axis=1, inplace=True)"
   ]
  },
  {
   "cell_type": "markdown",
   "id": "79d3fcc1",
   "metadata": {},
   "source": [
    "__Task: Create a count plot of the emp_length feature column. Challenge: Sort the order of the values.__"
   ]
  },
  {
   "cell_type": "code",
   "execution_count": null,
   "id": "8b4e408e",
   "metadata": {},
   "outputs": [],
   "source": [
    "df[\"emp_length\"].dropna().unique()"
   ]
  },
  {
   "cell_type": "code",
   "execution_count": null,
   "id": "a97c6f7f",
   "metadata": {},
   "outputs": [],
   "source": [
    "sorted(df[\"emp_length\"].dropna().unique())"
   ]
  },
  {
   "cell_type": "code",
   "execution_count": 10,
   "id": "dd6259c8",
   "metadata": {},
   "outputs": [
    {
     "data": {
      "text/plain": [
       "<Axes: xlabel='emp_length', ylabel='count'>"
      ]
     },
     "execution_count": 10,
     "metadata": {},
     "output_type": "execute_result"
    },
    {
     "data": {
      "image/png": "[encoded data removed]",
      "text/plain": [
       "<Figure size 1000x600 with 1 Axes>"
      ]
     },
     "metadata": {},
     "output_type": "display_data"
    }
   ],
   "source": [
    "sort_emp = ['< 1 year',\n",
    "'1 year',\n",
    "'2 years',\n",
    "'3 years',\n",
    "'4 years',\n",
    "'5 years',\n",
    "'6 years',\n",
    "'7 years',\n",
    "'8 years',\n",
    "'9 years',\n",
    "'10+ years']\n",
    "import seaborn as sns\n",
    "import matplotlib.pyplot as plt\n",
    "plt.figure(figsize=(10,6))\n",
    "sns.countplot(x=\"emp_length\", data=df, order=sort_emp)"
   ]
  },
  {
   "cell_type": "markdown",
   "id": "28ab155e",
   "metadata": {},
   "source": [
    "__Task: Plot out the counplot with a hue separating Fully Paid vs Charged Off__"
   ]
  },
  {
   "cell_type": "code",
   "execution_count": null,
   "id": "f8f449b8",
   "metadata": {},
   "outputs": [],
   "source": [
    "plt.figure(figsize=(12,4))\n",
    "sns.countplot(x=\"emp_length\", data=df, order=sort_emp, hue=\"loan_status\")"
   ]
  },
  {
   "cell_type": "markdown",
   "id": "f0dc2756",
   "metadata": {},
   "source": [
    "__Challenge Task: This still doesn't really inform us if there is a strong relationship between employment length and being charged off, What we want is the percentage of charge offs per category. Esssentially informing us what percent of people per employment category didn't pay back their loan. The are a multitude of ways to create this series. Once you've created it visualize it with a bar plot.__"
   ]
  },
  {
   "cell_type": "code",
   "execution_count": null,
   "id": "30342f35",
   "metadata": {},
   "outputs": [],
   "source": [
    "emp_co = df[df[\"loan_status\"]==\"Charged Off\"]. groupby(\"emp_length\").count()[\"loan_status\"]\n",
    "emp_fp = df[df[\"loan_status\"]==\"Fully Paid\"].groupby(\"emp_length\").count()[\"loan_status\"]\n",
    "emp_co/emp_fp    \n",
    "    \n"
   ]
  },
  {
   "cell_type": "code",
   "execution_count": null,
   "id": "2021e17a",
   "metadata": {},
   "outputs": [],
   "source": [
    "emp_len = emp_co / (emp_co + emp_fp)\n",
    "emp_len.plot(kind=\"bar\")"
   ]
  },
  {
   "cell_type": "markdown",
   "id": "34bb0095",
   "metadata": {},
   "source": [
    "__Task: Charge off rates are extrememly similar across all employment lengths. Go ahead and drop the emp_length column.__"
   ]
  },
  {
   "cell_type": "code",
   "execution_count": null,
   "id": "12131bfc",
   "metadata": {},
   "outputs": [],
   "source": [
    "df.drop(\"emp_length\", axis=1, inplace=True)"
   ]
  },
  {
   "cell_type": "markdown",
   "id": "2110a504",
   "metadata": {},
   "source": [
    "__Task: Revisit the Dataframe to see what feature columns still have missing data.__"
   ]
  },
  {
   "cell_type": "code",
   "execution_count": null,
   "id": "b0a9e7f1",
   "metadata": {},
   "outputs": [],
   "source": [
    "df.isnull().sum()"
   ]
  },
  {
   "cell_type": "markdown",
   "id": "fd360ba5",
   "metadata": {},
   "source": [
    "__Task: Review the title column vs the purpose column. Is this repeated infromation__"
   ]
  },
  {
   "cell_type": "code",
   "execution_count": null,
   "id": "d7693e88",
   "metadata": {},
   "outputs": [],
   "source": [
    "df[\"purpose\"].head()"
   ]
  },
  {
   "cell_type": "code",
   "execution_count": null,
   "id": "d9615a75",
   "metadata": {},
   "outputs": [],
   "source": [
    "feat_info(\"purpose\")"
   ]
  },
  {
   "cell_type": "code",
   "execution_count": null,
   "id": "9ab40b7d",
   "metadata": {},
   "outputs": [],
   "source": [
    "df[\"title\"].head(10)"
   ]
  },
  {
   "cell_type": "code",
   "execution_count": null,
   "id": "a9cc9cfd",
   "metadata": {},
   "outputs": [],
   "source": [
    "feat_info(\"title\")"
   ]
  },
  {
   "cell_type": "markdown",
   "id": "7bf8d5a5",
   "metadata": {},
   "source": [
    "__Task: The title column is simply a string subcategory/description of the purpose column. Go ahead and drop the title column.__"
   ]
  },
  {
   "cell_type": "code",
   "execution_count": null,
   "id": "5ed133e7",
   "metadata": {},
   "outputs": [],
   "source": [
    "df.drop(\"title\", axis=1, inplace=True)"
   ]
  },
  {
   "cell_type": "markdown",
   "id": "fe7227d7",
   "metadata": {},
   "source": [
    "__Task: Find out what the mort_acc feature represents__"
   ]
  },
  {
   "cell_type": "code",
   "execution_count": null,
   "id": "ba3ce68f",
   "metadata": {},
   "outputs": [],
   "source": [
    "feat_info(\"mort_acc\")"
   ]
  },
  {
   "cell_type": "markdown",
   "id": "4a7944a5",
   "metadata": {},
   "source": [
    "__Task: Create a value_counts of the mort_acc column__"
   ]
  },
  {
   "cell_type": "code",
   "execution_count": null,
   "id": "17a15118",
   "metadata": {},
   "outputs": [],
   "source": [
    "df[\"mort_acc\"].value_counts()"
   ]
  },
  {
   "cell_type": "markdown",
   "id": "97b46986",
   "metadata": {},
   "source": [
    "__Task: There are many ways we could deal with this missing data. We could attempt to build a simple model to fill it in, such as a linear model, we could just fill it in based on the mean of the other columns, or you could even bin the columns into categories and then set Nan as its own category. There is no 100% correct approach. Lets reveiw the other columns to see which most highly correlates to mort_acc.__"
   ]
  },
  {
   "cell_type": "code",
   "execution_count": 2,
   "id": "dd0a77bb",
   "metadata": {},
   "outputs": [
    {
     "name": "stdout",
     "output_type": "stream",
     "text": [
      "int_rate               -0.082583\n",
      "dti                    -0.025439\n",
      "revol_util              0.007514\n",
      "pub_rec                 0.011552\n",
      "pub_rec_bankruptcies    0.027239\n",
      "open_acc                0.109205\n",
      "installment             0.193694\n",
      "revol_bal               0.194925\n",
      "loan_amnt               0.222315\n",
      "annual_inc              0.236320\n",
      "total_acc               0.381072\n",
      "mort_acc                1.000000\n",
      "Name: mort_acc, dtype: float64\n"
     ]
    }
   ],
   "source": [
    "import pandas as pd\n",
    "\n",
    "# Load the CSV file into a DataFrame\n",
    "df = pd.read_csv('C:/Users/Owner/anaconda3/envs/tf-gpu/lending_club_loan_two.csv')\n",
    "\n",
    "# Select numeric columns\n",
    "numeric_columns = df.select_dtypes(include=['float64', 'int64'])\n",
    "\n",
    "# Calculate the correlation between \"mort_acc\" and other numeric columns, and sort the results\n",
    "correlation_with_mort_acc = numeric_columns.corr()[\"mort_acc\"].sort_values()\n",
    "\n",
    "# Display the sorted correlations\n",
    "print(correlation_with_mort_acc)\n"
   ]
  },
  {
   "cell_type": "markdown",
   "id": "f799c2c4",
   "metadata": {},
   "source": [
    "__Task: Looks like the total_acc feature correlates with the mort_acc, this makes sense! Let's try this fillna() approach. We will group the dataframe by the total_acc and calculate the mean value for the mort_acc per total_acc entry. To get the result below:__"
   ]
  },
  {
   "cell_type": "code",
   "execution_count": 3,
   "id": "99916859",
   "metadata": {},
   "outputs": [
    {
     "data": {
      "text/plain": [
       "total_acc\n",
       "2.0      0.000000\n",
       "3.0      0.052023\n",
       "4.0      0.066743\n",
       "5.0      0.103289\n",
       "6.0      0.151293\n",
       "           ...   \n",
       "124.0    1.000000\n",
       "129.0    1.000000\n",
       "135.0    3.000000\n",
       "150.0    2.000000\n",
       "151.0    0.000000\n",
       "Name: mort_acc, Length: 118, dtype: float64"
      ]
     },
     "execution_count": 3,
     "metadata": {},
     "output_type": "execute_result"
    }
   ],
   "source": [
    "total_acc_avg = df.groupby(\"total_acc\")[\"mort_acc\"].mean()\n",
    "total_acc_avg"
   ]
  },
  {
   "cell_type": "code",
   "execution_count": 4,
   "id": "43b8e666",
   "metadata": {},
   "outputs": [
    {
     "data": {
      "text/plain": [
       "0"
      ]
     },
     "execution_count": 4,
     "metadata": {},
     "output_type": "execute_result"
    }
   ],
   "source": [
    "import numpy as np\n",
    "def fill_mort_acc(total_acc, mort_acc):\n",
    "    if np.isnan(mort_acc):\n",
    "        return total_acc_avg[total_acc]\n",
    "    else:\n",
    "        return mort_acc\n",
    "    \n",
    "df[\"mort_acc\"] = df.apply(lambda x: fill_mort_acc(x[\"total_acc\"], x[\"mort_acc\"]), axis=1)\n",
    "df[\"mort_acc\"].isnull().sum()"
   ]
  },
  {
   "cell_type": "code",
   "execution_count": 12,
   "id": "9c478f0b",
   "metadata": {},
   "outputs": [
    {
     "data": {
      "text/plain": [
       "loan_amnt                   0\n",
       "term                        0\n",
       "int_rate                    0\n",
       "installment                 0\n",
       "grade                       0\n",
       "sub_grade                   0\n",
       "emp_title               22927\n",
       "emp_length              18301\n",
       "home_ownership              0\n",
       "annual_inc                  0\n",
       "verification_status         0\n",
       "issue_d                     0\n",
       "loan_status                 0\n",
       "purpose                     0\n",
       "title                    1756\n",
       "dti                         0\n",
       "earliest_cr_line            0\n",
       "open_acc                    0\n",
       "pub_rec                     0\n",
       "revol_bal                   0\n",
       "revol_util                276\n",
       "total_acc                   0\n",
       "initial_list_status         0\n",
       "application_type            0\n",
       "mort_acc                37795\n",
       "pub_rec_bankruptcies      535\n",
       "address                     0\n",
       "dtype: int64"
      ]
     },
     "execution_count": 12,
     "metadata": {},
     "output_type": "execute_result"
    }
   ],
   "source": [
    "df.isnull().sum()"
   ]
  },
  {
   "cell_type": "code",
   "execution_count": null,
   "id": "79c7acfe",
   "metadata": {},
   "outputs": [],
   "source": [
    "df = df.dropna()\n",
    "df.isnull().sum()"
   ]
  },
  {
   "cell_type": "markdown",
   "id": "47feedfc",
   "metadata": {},
   "source": [
    "# Categorical Variables and Dummy Variables"
   ]
  },
  {
   "cell_type": "markdown",
   "id": "98455cfd",
   "metadata": {},
   "source": [
    "__We're done working with missing data! Now we just need to deal with the string values due to the categorical columns.__\n",
    "__Task: List all the columns that are currently non-numeric.__"
   ]
  },
  {
   "cell_type": "code",
   "execution_count": null,
   "id": "0ea91d0d",
   "metadata": {},
   "outputs": [],
   "source": [
    "df.select_dtypes([\"object\"]).columns"
   ]
  },
  {
   "cell_type": "markdown",
   "id": "48f1bb26",
   "metadata": {},
   "source": [
    "__Let's now go through all the string features to see what we should do with them.__\n",
    "term feature\n",
    "__Task: Convert the term feature into either a 36 or 60 integer numeric data type using.apply() or .map()."
   ]
  },
  {
   "cell_type": "code",
   "execution_count": null,
   "id": "a8b5ce20",
   "metadata": {},
   "outputs": [],
   "source": [
    "feat_info(\"term\")"
   ]
  },
  {
   "cell_type": "code",
   "execution_count": null,
   "id": "9f60c581",
   "metadata": {},
   "outputs": [],
   "source": [
    "df[\"term\"].value_counts()"
   ]
  },
  {
   "cell_type": "code",
   "execution_count": null,
   "id": "2c18a463",
   "metadata": {},
   "outputs": [],
   "source": [
    "df[\"term\"] = df[\"term\"].apply(lambda x: int(x.split()[0]))\n",
    "df[\"term\"]"
   ]
  },
  {
   "cell_type": "code",
   "execution_count": null,
   "id": "000789c4",
   "metadata": {},
   "outputs": [],
   "source": [
    "df[\"term\"].value_counts()"
   ]
  },
  {
   "cell_type": "code",
   "execution_count": null,
   "id": "f2ff1c60",
   "metadata": {},
   "outputs": [],
   "source": []
  },
  {
   "cell_type": "markdown",
   "id": "e3251d04",
   "metadata": {},
   "source": [
    "grade feature\n",
    "__Tasks: We already know grade is part of sub_grade, so just drop the grade feature.__"
   ]
  },
  {
   "cell_type": "code",
   "execution_count": null,
   "id": "d6badb47",
   "metadata": {},
   "outputs": [],
   "source": [
    "df.drop(\"grade\", axis=1, inplace=True)"
   ]
  },
  {
   "cell_type": "markdown",
   "id": "dc44c780",
   "metadata": {},
   "source": [
    "__Task: Convert the subgrade into dummy variables. Then concentrate these new columns to the original dataframe. Remember to drop the original subgrade column and to add drop_first=True to your get_dummies call__"
   ]
  },
  {
   "cell_type": "code",
   "execution_count": null,
   "id": "8cfd568f",
   "metadata": {
    "scrolled": true
   },
   "outputs": [],
   "source": [
    "import pandas as pd\n",
    "dummies = pd.get_dummies(df[\"sub_grade\"], drop_first=True)\n",
    "dummies"
   ]
  },
  {
   "cell_type": "code",
   "execution_count": null,
   "id": "42392079",
   "metadata": {},
   "outputs": [],
   "source": [
    "df.drop(\"sub_grade\", axis=1, inplace=True)\n",
    "df = pd.concat([df, dummies], axis=1)\n",
    "df.head"
   ]
  },
  {
   "cell_type": "code",
   "execution_count": null,
   "id": "202cff64",
   "metadata": {},
   "outputs": [],
   "source": [
    "df.columns"
   ]
  },
  {
   "cell_type": "code",
   "execution_count": null,
   "id": "1f2557cc",
   "metadata": {},
   "outputs": [],
   "source": [
    "df.select_dtypes([\"object\"]).columns"
   ]
  },
  {
   "cell_type": "markdown",
   "id": "b5cbac5c",
   "metadata": {},
   "source": [
    "verification_status, application_type, initial_list_status,purpose\n",
    "__Task: Convert these columns: ['verification_status','application_type','initial_list_status','purpose'] into dummy variables and concatenate them with the original dataframe. Remember to set drop_first=True and to drop the original columns.__"
   ]
  },
  {
   "cell_type": "code",
   "execution_count": null,
   "id": "04d44316",
   "metadata": {},
   "outputs": [],
   "source": [
    "dummies = pd.get_dummies(df[['verification_status', 'application_type','initial_list_status','purpose']], drop_first=True)\n",
    "df.drop(['verification_status', 'application_type','initial_list_status','purpose'], axis=1, inplace=True)\n",
    "df = pd.concat([df, dummies], axis=1)"
   ]
  },
  {
   "cell_type": "markdown",
   "id": "eec9636e",
   "metadata": {},
   "source": [
    "home_ownership\n",
    "__Task: Review the value_counts for the home_ownership column.__"
   ]
  },
  {
   "cell_type": "code",
   "execution_count": null,
   "id": "e1ecdb5d",
   "metadata": {},
   "outputs": [],
   "source": [
    "df[\"home_ownership\"].value_counts()"
   ]
  },
  {
   "cell_type": "markdown",
   "id": "255ee61a",
   "metadata": {},
   "source": [
    "__Task: Convert these dummy variables, but replace NONE and ANY with OTHER, so that we end up with just 4 categories, MORTGAGE,RENT,OWN,OTHER.Then Cocatenate them with the original dataframe. Remember to set drop_first=True and to drop the original columns."
   ]
  },
  {
   "cell_type": "code",
   "execution_count": null,
   "id": "2d03c259",
   "metadata": {},
   "outputs": [],
   "source": [
    "df[\"home_ownership\"] = df[\"home_ownership\"].replace([\"NONE\", \"ANY\"], \"OTHER\")\n",
    "df[\"home_ownership\"].value_counts()"
   ]
  },
  {
   "cell_type": "code",
   "execution_count": null,
   "id": "65c30146",
   "metadata": {},
   "outputs": [],
   "source": [
    "dummies = pd.get_dummies(df[\"home_ownership\"], drop_first=True)\n",
    "df.drop(\"home_ownership\", axis=1, inplace=True)\n",
    "df = pd.concat([df, dummies], axis=1)"
   ]
  },
  {
   "cell_type": "markdown",
   "id": "6fdfffdb",
   "metadata": {},
   "source": [
    "address\n",
    "__Task: Let's feature engineer a zip code column from the address in the data set. Create a column called 'zip_code' that extracts the zip code from the address column.__"
   ]
  },
  {
   "cell_type": "code",
   "execution_count": null,
   "id": "c19d3567",
   "metadata": {},
   "outputs": [],
   "source": [
    "df[\"address\"]"
   ]
  },
  {
   "cell_type": "code",
   "execution_count": null,
   "id": "16cb5bfc",
   "metadata": {},
   "outputs": [],
   "source": [
    "df[\"zipcode\"] = df[\"address\"].apply(lambda x: x[-5])\n"
   ]
  },
  {
   "cell_type": "code",
   "execution_count": null,
   "id": "4272a640",
   "metadata": {},
   "outputs": [],
   "source": [
    "df[\"zipcode\"].value_counts()"
   ]
  },
  {
   "cell_type": "markdown",
   "id": "67432b8e",
   "metadata": {},
   "source": [
    "__Task: Now make this zip_code column into dummy variables using pandas. Concatenate the result and drop the original zip_code column along with dropping the address column.__"
   ]
  },
  {
   "cell_type": "code",
   "execution_count": null,
   "id": "730a3a28",
   "metadata": {},
   "outputs": [],
   "source": [
    "dummies = pd.get_dummies(df[\"zipcode\"], drop_first=True)\n",
    "df.drop(\"zipcode\", axis=1, inplace=True)\n",
    "df = pd.concat([df, dummies], axis=1)"
   ]
  },
  {
   "cell_type": "code",
   "execution_count": null,
   "id": "c432b5ed",
   "metadata": {},
   "outputs": [],
   "source": [
    "df.drop(\"address\", axis=1, inplace=True)"
   ]
  },
  {
   "cell_type": "code",
   "execution_count": null,
   "id": "c228d3c5",
   "metadata": {},
   "outputs": [],
   "source": []
  },
  {
   "cell_type": "markdown",
   "id": "905bb361",
   "metadata": {},
   "source": [
    "issue_d\n",
    "__Task: This would be data leakage, we wouldn't know beforehand whether or not a loan would be issued when using our model, so in theory we wouldn't have an issue_date, drop this feature.__"
   ]
  },
  {
   "cell_type": "code",
   "execution_count": null,
   "id": "cf45e305",
   "metadata": {},
   "outputs": [],
   "source": [
    "feat_info(\"issue_d\")"
   ]
  },
  {
   "cell_type": "code",
   "execution_count": null,
   "id": "5bfe9069",
   "metadata": {},
   "outputs": [],
   "source": [
    "df.drop(\"issue_d\", axis=1, inplace=True)"
   ]
  },
  {
   "cell_type": "markdown",
   "id": "cfec4864",
   "metadata": {},
   "source": [
    "__Task: This appears to be a historical time stamp feature. Extract the year from this feature using a .apply function, then convert it to a numeric feature. Set this new data to a feature column called 'earliest_cr_year'.Then drop the earliest_cr_line feature.__"
   ]
  },
  {
   "cell_type": "code",
   "execution_count": null,
   "id": "ea67bb5f",
   "metadata": {},
   "outputs": [],
   "source": [
    "feat_info(\"earliest_cr_line\")"
   ]
  },
  {
   "cell_type": "code",
   "execution_count": null,
   "id": "bf65e892",
   "metadata": {},
   "outputs": [],
   "source": [
    "df[\"earliest_cr_line\"]"
   ]
  },
  {
   "cell_type": "code",
   "execution_count": null,
   "id": "7a0ead9c",
   "metadata": {},
   "outputs": [],
   "source": [
    "df[\"earliest_cr_year\"] = df[\"earliest_cr_line\"].apply(lambda x: int(x.split(\"-\")[1]))"
   ]
  },
  {
   "cell_type": "code",
   "execution_count": null,
   "id": "b567b08c",
   "metadata": {},
   "outputs": [],
   "source": [
    "df.head()"
   ]
  },
  {
   "cell_type": "code",
   "execution_count": null,
   "id": "a7a10703",
   "metadata": {},
   "outputs": [],
   "source": [
    "df.drop(\"earliest_cr_line\", axis=1, inplace=True)"
   ]
  },
  {
   "cell_type": "code",
   "execution_count": null,
   "id": "45648423",
   "metadata": {},
   "outputs": [],
   "source": [
    "df.select_dtypes([\"object\"]).columns"
   ]
  },
  {
   "cell_type": "markdown",
   "id": "1fa626b6",
   "metadata": {},
   "source": [
    "# Train Test Split"
   ]
  },
  {
   "cell_type": "markdown",
   "id": "d6ebdc48",
   "metadata": {},
   "source": [
    "__Task: Import train_test_split from sklearn.__"
   ]
  },
  {
   "cell_type": "code",
   "execution_count": null,
   "id": "c86f0de8",
   "metadata": {},
   "outputs": [],
   "source": [
    "from sklearn.model_selection import train_test_split"
   ]
  },
  {
   "cell_type": "markdown",
   "id": "477c866f",
   "metadata": {},
   "source": [
    "__Task: drop the load_status column we created earlier, since its a duplicate of the loan_repaid column. We'll use the loan_repaid column since its already in 0s and 1s.__"
   ]
  },
  {
   "cell_type": "code",
   "execution_count": null,
   "id": "59e112b6",
   "metadata": {},
   "outputs": [],
   "source": [
    "df[\"loan_status\"]"
   ]
  },
  {
   "cell_type": "code",
   "execution_count": null,
   "id": "079ce01c",
   "metadata": {},
   "outputs": [],
   "source": [
    "import pandas as pd\n",
    "\n",
    "# Assuming you have loaded your DataFrame df from a CSV file or some other source\n",
    "\n",
    "# Perform some operations to determine the values of the new column 'loan_repaid'\n",
    "# For example, let's say you want to create a new column based on whether 'loan_status' is 'Fully Paid' or not\n",
    "df['loan_repaid'] = df['loan_status'].apply(lambda x: 1 if x == 'Fully Paid' else 0)\n",
    "\n",
    "# Now, the 'loan_repaid' column should have been created with values 1 for 'Fully Paid' loans and 0 otherwise\n",
    "print(df['loan_repaid'].value_counts())"
   ]
  },
  {
   "cell_type": "code",
   "execution_count": null,
   "id": "a31b8c2e",
   "metadata": {},
   "outputs": [],
   "source": [
    "df.drop(\"loan_status\", axis=1, inplace=True)"
   ]
  },
  {
   "cell_type": "code",
   "execution_count": null,
   "id": "1fecb1ca",
   "metadata": {},
   "outputs": [],
   "source": [
    "df.select_dtypes([\"object\"]).columns"
   ]
  },
  {
   "cell_type": "code",
   "execution_count": null,
   "id": "fa378012",
   "metadata": {},
   "outputs": [],
   "source": [
    "X = df.drop(\"loan_repaid\", axis=1).values"
   ]
  },
  {
   "cell_type": "code",
   "execution_count": null,
   "id": "a025a493",
   "metadata": {},
   "outputs": [],
   "source": [
    "y = df[\"loan_repaid\"].values"
   ]
  },
  {
   "cell_type": "markdown",
   "id": "998dcc2a",
   "metadata": {},
   "source": [
    "# Normalizing the Data"
   ]
  },
  {
   "cell_type": "markdown",
   "id": "bb32ffe6",
   "metadata": {},
   "source": [
    "__TASK: Use a MinMaxScaler to normalize the feature data X_train and X_test. Recall we don't want data leakage from the test set so we only fit on the X_train data.__"
   ]
  },
  {
   "cell_type": "code",
   "execution_count": null,
   "id": "9740bbb9",
   "metadata": {},
   "outputs": [],
   "source": [
    "from sklearn.preprocessing import MinMaxScaler"
   ]
  },
  {
   "cell_type": "code",
   "execution_count": null,
   "id": "b59ef0cb",
   "metadata": {},
   "outputs": [],
   "source": [
    "scaler = MinMaxScaler()"
   ]
  },
  {
   "cell_type": "code",
   "execution_count": null,
   "id": "a247f553",
   "metadata": {},
   "outputs": [],
   "source": [
    "X_train = scaler.fit_transform(X_train)"
   ]
  },
  {
   "cell_type": "code",
   "execution_count": null,
   "id": "94365a6a",
   "metadata": {},
   "outputs": [],
   "source": [
    "X_test - scaler.transform(X_test)"
   ]
  },
  {
   "cell_type": "markdown",
   "id": "1b17ae2c",
   "metadata": {},
   "source": [
    "# Creating the model"
   ]
  },
  {
   "cell_type": "markdown",
   "id": "4cc9f0be",
   "metadata": {},
   "source": [
    "__Task: Run the cell below to import the necessary Keras functions.__"
   ]
  },
  {
   "cell_type": "markdown",
   "id": "c8fbc78f",
   "metadata": {},
   "source": [
    "__Task: Build a sequential model that will be used for training on the data. You have unlimited options here, but here is what the solution uses: a model that goes 78 --> 39 --> 19--> 1 output neuron.__"
   ]
  },
  {
   "cell_type": "markdown",
   "id": "2a96b3cd",
   "metadata": {},
   "source": [
    "__Task: Fit the model to the training data for at least 25 epochs. Also add in the validation data for later plotting.__"
   ]
  },
  {
   "cell_type": "code",
   "execution_count": null,
   "id": "0c00d697-c728-4bb8-a94a-9003182053e7",
   "metadata": {},
   "outputs": [],
   "source": []
  },
  {
   "cell_type": "code",
   "execution_count": 7,
   "id": "e853cae5-e2c2-430b-b327-4b934956c9df",
   "metadata": {
    "scrolled": true
   },
   "outputs": [
    {
     "name": "stdout",
     "output_type": "stream",
     "text": [
      "Epoch 1/25\n"
     ]
    },
    {
     "name": "stderr",
     "output_type": "stream",
     "text": [
      "C:\\Users\\Owner\\anaconda3\\envs\\tf-gpu\\lib\\site-packages\\tensorflow\\python\\framework\\indexed_slices.py:447: UserWarning: Converting sparse IndexedSlices(IndexedSlices(indices=Tensor(\"gradient_tape/sequential/dense/embedding_lookup_sparse/Reshape_1:0\", shape=(None,), dtype=int32), values=Tensor(\"gradient_tape/sequential/dense/embedding_lookup_sparse/Reshape:0\", shape=(None, 79), dtype=float32), dense_shape=Tensor(\"gradient_tape/sequential/dense/embedding_lookup_sparse/Cast:0\", shape=(2,), dtype=int32))) to a dense Tensor of unknown shape. This may consume a large amount of memory.\n",
      "  warnings.warn(\n"
     ]
    },
    {
     "name": "stdout",
     "output_type": "stream",
     "text": [
      "1050/1050 [==============================] - 1654s 2s/step - loss: 0.4613 - val_loss: 0.4460\n",
      "Epoch 2/25\n",
      "1050/1050 [==============================] - 3004s 3s/step - loss: 0.3543 - val_loss: 0.5083\n",
      "Epoch 3/25\n",
      "1050/1050 [==============================] - 2057s 2s/step - loss: 0.1509 - val_loss: 0.7679\n",
      "Epoch 4/25\n",
      "1050/1050 [==============================] - 1873s 2s/step - loss: 0.0423 - val_loss: 1.1896\n",
      "Epoch 5/25\n",
      "1050/1050 [==============================] - 1833s 2s/step - loss: 0.0172 - val_loss: 1.4543\n",
      "Epoch 6/25\n",
      "1050/1050 [==============================] - 2031s 2s/step - loss: 0.0116 - val_loss: 1.5060\n",
      "Epoch 7/25\n",
      "1050/1050 [==============================] - 1853s 2s/step - loss: 0.0080 - val_loss: 1.7180\n",
      "Epoch 8/25\n",
      "1050/1050 [==============================] - 1846s 2s/step - loss: 0.0075 - val_loss: 1.6860\n",
      "Epoch 9/25\n",
      "1050/1050 [==============================] - 1843s 2s/step - loss: 0.0062 - val_loss: 1.7614\n",
      "Epoch 10/25\n",
      "1050/1050 [==============================] - 2357s 2s/step - loss: 0.0052 - val_loss: 1.8604\n",
      "Epoch 11/25\n",
      "1050/1050 [==============================] - 2165s 2s/step - loss: 0.0047 - val_loss: 1.8728\n",
      "Epoch 12/25\n",
      "1050/1050 [==============================] - 2080s 2s/step - loss: 0.0046 - val_loss: 1.8869\n",
      "Epoch 13/25\n",
      "1050/1050 [==============================] - 1973s 2s/step - loss: 0.0037 - val_loss: 2.1266\n",
      "Epoch 14/25\n",
      "1050/1050 [==============================] - 2023s 2s/step - loss: 0.0034 - val_loss: 2.0451\n",
      "Epoch 15/25\n",
      "1050/1050 [==============================] - 3797s 4s/step - loss: 0.0032 - val_loss: 2.1262\n",
      "Epoch 16/25\n",
      "1050/1050 [==============================] - 7562s 7s/step - loss: 0.0026 - val_loss: 2.1947\n",
      "Epoch 17/25\n",
      "1050/1050 [==============================] - 5406s 5s/step - loss: 0.0026 - val_loss: 2.0246\n",
      "Epoch 18/25\n",
      "1050/1050 [==============================] - 20609s 20s/step - loss: 0.0026 - val_loss: 2.1393\n",
      "Epoch 19/25\n",
      "1050/1050 [==============================] - 1882s 2s/step - loss: 0.0025 - val_loss: 2.0368\n",
      "Epoch 20/25\n",
      "1050/1050 [==============================] - 2154s 2s/step - loss: 0.0021 - val_loss: 2.1866\n",
      "Epoch 21/25\n",
      "1050/1050 [==============================] - 2799s 3s/step - loss: 0.0021 - val_loss: 2.1929\n",
      "Epoch 22/25\n",
      "1050/1050 [==============================] - 1599s 2s/step - loss: 0.0020 - val_loss: 2.2616\n",
      "Epoch 23/25\n",
      "1050/1050 [==============================] - 2197s 2s/step - loss: 0.0019 - val_loss: 2.4021\n",
      "Epoch 24/25\n",
      "1050/1050 [==============================] - 1908s 2s/step - loss: 0.0017 - val_loss: 2.4482\n",
      "Epoch 25/25\n",
      "1050/1050 [==============================] - 1855s 2s/step - loss: 0.0015 - val_loss: 2.5814\n"
     ]
    }
   ],
   "source": [
    "import pandas as pd\n",
    "from sklearn.model_selection import train_test_split\n",
    "from sklearn.preprocessing import OneHotEncoder\n",
    "from tensorflow.keras.models import Sequential\n",
    "from tensorflow.keras.layers import Dense, Dropout\n",
    "\n",
    "# Load the dataset\n",
    "df = pd.read_csv('C:/Users/Owner/anaconda3/envs/tf-gpu/lending_club_loan_two.csv')\n",
    "\n",
    "# Data preprocessing\n",
    "# Drop rows with missing values\n",
    "df = df.dropna()\n",
    "\n",
    "# Encode the target variable\n",
    "df['loan_status'] = df['loan_status'].apply(lambda x: 0 if x == 'Fully Paid' else 1)\n",
    "\n",
    "# Convert 'term' column to numerical format\n",
    "df['term'] = df['term'].apply(lambda x: int(x.split()[0]))\n",
    "\n",
    "# Separate features (X) and target (y)\n",
    "X = df.drop(columns=[\"loan_status\"])\n",
    "y = df[\"loan_status\"]\n",
    "\n",
    "# Perform one-hot encoding for categorical variables\n",
    "encoder = OneHotEncoder()\n",
    "X_encoded = encoder.fit_transform(X)\n",
    "\n",
    "# Convert target to NumPy array\n",
    "y = y.values.astype('float32')\n",
    "\n",
    "# Split the data into training and testing sets\n",
    "X_train, X_test, y_train, y_test = train_test_split(X_encoded, y, test_size=0.2, random_state=42)\n",
    "\n",
    "# Define the model architecture\n",
    "model = Sequential()\n",
    "model.add(Dense(79, activation=\"relu\"))\n",
    "model.add(Dropout(0.2))\n",
    "model.add(Dense(40, activation=\"relu\"))\n",
    "model.add(Dropout(0.2))\n",
    "model.add(Dense(20, activation=\"relu\"))\n",
    "model.add(Dropout(0.2))\n",
    "model.add(Dense(1, activation=\"sigmoid\"))\n",
    "\n",
    "# Compile the model\n",
    "model.compile(loss=\"binary_crossentropy\", optimizer=\"adam\")\n",
    "\n",
    "# Train the model\n",
    "model.fit(X_train, y_train, epochs=25, batch_size=256, validation_data=(X_test, y_test))\n",
    "\n",
    "from tensorflow.keras.models import load_model\n",
    "\n",
    "model.save('keras_project.h5')\n",
    "\n"
   ]
  },
  {
   "cell_type": "code",
   "execution_count": 3,
   "id": "2272496b-5235-4f38-b433-a5a6468787c8",
   "metadata": {},
   "outputs": [
    {
     "data": {
      "image/png": "[encoded data removed]",
      "text/plain": [
       "<Figure size 640x480 with 1 Axes>"
      ]
     },
     "metadata": {},
     "output_type": "display_data"
    }
   ],
   "source": [
    "import pandas as pd\n",
    "import matplotlib.pyplot as plt\n",
    "\n",
    "# Provided training log\n",
    "training_log = {\n",
    "    'loss': [0.4613, 0.3543, 0.1509, 0.0423, 0.0172, 0.0116, 0.0080, 0.0075, 0.0062, 0.0052,\n",
    "             0.0047, 0.0046, 0.0037, 0.0034, 0.0032, 0.0026, 0.0026, 0.0026, 0.0025, 0.0021,\n",
    "             0.0021, 0.0020, 0.0019, 0.0017, 0.0015],\n",
    "    'val_loss': [0.4460, 0.5083, 0.7679, 1.1896, 1.4543, 1.5060, 1.7180, 1.6860, 1.7614, 1.8604,\n",
    "                 1.8728, 1.8869, 2.1266, 2.0451, 2.1262, 2.1947, 2.0246, 2.1393, 2.0368, 2.1866,\n",
    "                 2.1929, 2.2616, 2.4021, 2.4482, 2.5814]\n",
    "}\n",
    "\n",
    "# Convert training log to DataFrame\n",
    "losses = pd.DataFrame(training_log)\n",
    "\n",
    "# Plot the training history\n",
    "losses.plot()\n",
    "plt.xlabel('Epoch')\n",
    "plt.ylabel('Loss')\n",
    "plt.title('Training History')\n",
    "plt.show()\n"
   ]
  },
  {
   "cell_type": "markdown",
   "id": "7e6d77e2-1629-4b32-b361-13fd6fc792ec",
   "metadata": {},
   "source": [
    "__Task: Create Predictions from X_test set and display a classification report and conclusion matrix for the X_test set.__"
   ]
  },
  {
   "cell_type": "code",
   "execution_count": 19,
   "id": "7df4fa37-4423-425c-8603-d7e5d9627ef5",
   "metadata": {},
   "outputs": [
    {
     "ename": "MemoryError",
     "evalue": "Unable to allocate 517. MiB for an array with shape (616518, 110) and data type float64",
     "output_type": "error",
     "traceback": [
      "\u001b[1;31m---------------------------------------------------------------------------\u001b[0m",
      "\u001b[1;31mMemoryError\u001b[0m                               Traceback (most recent call last)",
      "\u001b[1;31mMemoryError\u001b[0m: Unable to allocate 517. MiB for an array with shape (616518, 110) and data type float64"
     ]
    },
    {
     "name": "stderr",
     "output_type": "stream",
     "text": [
      "Exception ignored in: 'scipy.linalg._decomp_lu_cython.lu_decompose'\n",
      "Traceback (most recent call last):\n",
      "  File \"C:\\Users\\Owner\\anaconda3\\envs\\tf-gpu\\lib\\site-packages\\scipy\\linalg\\_decomp_lu.py\", line 313, in lu\n",
      "    lu_dispatcher(a1, u, p, permute_l)\n",
      "numpy.core._exceptions._ArrayMemoryError: Unable to allocate 517. MiB for an array with shape (616518, 110) and data type float64\n"
     ]
    },
    {
     "ename": "MemoryError",
     "evalue": "Unable to allocate 332. MiB for an array with shape (110, 396030) and data type float64",
     "output_type": "error",
     "traceback": [
      "\u001b[1;31m---------------------------------------------------------------------------\u001b[0m",
      "\u001b[1;31mMemoryError\u001b[0m                               Traceback (most recent call last)",
      "Cell \u001b[1;32mIn[19], line 70\u001b[0m\n\u001b[0;32m     67\u001b[0m svd \u001b[38;5;241m=\u001b[39m TruncatedSVD(n_components\u001b[38;5;241m=\u001b[39mn_components)\n\u001b[0;32m     69\u001b[0m \u001b[38;5;66;03m# Transform the preprocessed data using TruncatedSVD\u001b[39;00m\n\u001b[1;32m---> 70\u001b[0m X_test_svd \u001b[38;5;241m=\u001b[39m \u001b[43msvd\u001b[49m\u001b[38;5;241;43m.\u001b[39;49m\u001b[43mfit_transform\u001b[49m\u001b[43m(\u001b[49m\u001b[43mX_test_preprocessed\u001b[49m\u001b[43m)\u001b[49m\n\u001b[0;32m     72\u001b[0m \u001b[38;5;66;03m# Now you can use loaded_model for making predictions\u001b[39;00m\n\u001b[0;32m     73\u001b[0m predictions \u001b[38;5;241m=\u001b[39m loaded_model\u001b[38;5;241m.\u001b[39mpredict(X_test_svd)\n",
      "File \u001b[1;32m~\\anaconda3\\envs\\tf-gpu\\lib\\site-packages\\sklearn\\utils\\_set_output.py:295\u001b[0m, in \u001b[0;36m_wrap_method_output.<locals>.wrapped\u001b[1;34m(self, X, *args, **kwargs)\u001b[0m\n\u001b[0;32m    293\u001b[0m \u001b[38;5;129m@wraps\u001b[39m(f)\n\u001b[0;32m    294\u001b[0m \u001b[38;5;28;01mdef\u001b[39;00m \u001b[38;5;21mwrapped\u001b[39m(\u001b[38;5;28mself\u001b[39m, X, \u001b[38;5;241m*\u001b[39margs, \u001b[38;5;241m*\u001b[39m\u001b[38;5;241m*\u001b[39mkwargs):\n\u001b[1;32m--> 295\u001b[0m     data_to_wrap \u001b[38;5;241m=\u001b[39m f(\u001b[38;5;28mself\u001b[39m, X, \u001b[38;5;241m*\u001b[39margs, \u001b[38;5;241m*\u001b[39m\u001b[38;5;241m*\u001b[39mkwargs)\n\u001b[0;32m    296\u001b[0m     \u001b[38;5;28;01mif\u001b[39;00m \u001b[38;5;28misinstance\u001b[39m(data_to_wrap, \u001b[38;5;28mtuple\u001b[39m):\n\u001b[0;32m    297\u001b[0m         \u001b[38;5;66;03m# only wrap the first output for cross decomposition\u001b[39;00m\n\u001b[0;32m    298\u001b[0m         return_tuple \u001b[38;5;241m=\u001b[39m (\n\u001b[0;32m    299\u001b[0m             _wrap_data_with_container(method, data_to_wrap[\u001b[38;5;241m0\u001b[39m], X, \u001b[38;5;28mself\u001b[39m),\n\u001b[0;32m    300\u001b[0m             \u001b[38;5;241m*\u001b[39mdata_to_wrap[\u001b[38;5;241m1\u001b[39m:],\n\u001b[0;32m    301\u001b[0m         )\n",
      "File \u001b[1;32m~\\anaconda3\\envs\\tf-gpu\\lib\\site-packages\\sklearn\\base.py:1474\u001b[0m, in \u001b[0;36m_fit_context.<locals>.decorator.<locals>.wrapper\u001b[1;34m(estimator, *args, **kwargs)\u001b[0m\n\u001b[0;32m   1467\u001b[0m     estimator\u001b[38;5;241m.\u001b[39m_validate_params()\n\u001b[0;32m   1469\u001b[0m \u001b[38;5;28;01mwith\u001b[39;00m config_context(\n\u001b[0;32m   1470\u001b[0m     skip_parameter_validation\u001b[38;5;241m=\u001b[39m(\n\u001b[0;32m   1471\u001b[0m         prefer_skip_nested_validation \u001b[38;5;129;01mor\u001b[39;00m global_skip_validation\n\u001b[0;32m   1472\u001b[0m     )\n\u001b[0;32m   1473\u001b[0m ):\n\u001b[1;32m-> 1474\u001b[0m     \u001b[38;5;28;01mreturn\u001b[39;00m fit_method(estimator, \u001b[38;5;241m*\u001b[39margs, \u001b[38;5;241m*\u001b[39m\u001b[38;5;241m*\u001b[39mkwargs)\n",
      "File \u001b[1;32m~\\anaconda3\\envs\\tf-gpu\\lib\\site-packages\\sklearn\\decomposition\\_truncated_svd.py:246\u001b[0m, in \u001b[0;36mTruncatedSVD.fit_transform\u001b[1;34m(self, X, y)\u001b[0m\n\u001b[0;32m    241\u001b[0m     \u001b[38;5;28;01mif\u001b[39;00m \u001b[38;5;28mself\u001b[39m\u001b[38;5;241m.\u001b[39mn_components \u001b[38;5;241m>\u001b[39m X\u001b[38;5;241m.\u001b[39mshape[\u001b[38;5;241m1\u001b[39m]:\n\u001b[0;32m    242\u001b[0m         \u001b[38;5;28;01mraise\u001b[39;00m \u001b[38;5;167;01mValueError\u001b[39;00m(\n\u001b[0;32m    243\u001b[0m             \u001b[38;5;124mf\u001b[39m\u001b[38;5;124m\"\u001b[39m\u001b[38;5;124mn_components(\u001b[39m\u001b[38;5;132;01m{\u001b[39;00m\u001b[38;5;28mself\u001b[39m\u001b[38;5;241m.\u001b[39mn_components\u001b[38;5;132;01m}\u001b[39;00m\u001b[38;5;124m) must be <=\u001b[39m\u001b[38;5;124m\"\u001b[39m\n\u001b[0;32m    244\u001b[0m             \u001b[38;5;124mf\u001b[39m\u001b[38;5;124m\"\u001b[39m\u001b[38;5;124m n_features(\u001b[39m\u001b[38;5;132;01m{\u001b[39;00mX\u001b[38;5;241m.\u001b[39mshape[\u001b[38;5;241m1\u001b[39m]\u001b[38;5;132;01m}\u001b[39;00m\u001b[38;5;124m).\u001b[39m\u001b[38;5;124m\"\u001b[39m\n\u001b[0;32m    245\u001b[0m         )\n\u001b[1;32m--> 246\u001b[0m     U, Sigma, VT \u001b[38;5;241m=\u001b[39m \u001b[43mrandomized_svd\u001b[49m\u001b[43m(\u001b[49m\n\u001b[0;32m    247\u001b[0m \u001b[43m        \u001b[49m\u001b[43mX\u001b[49m\u001b[43m,\u001b[49m\n\u001b[0;32m    248\u001b[0m \u001b[43m        \u001b[49m\u001b[38;5;28;43mself\u001b[39;49m\u001b[38;5;241;43m.\u001b[39;49m\u001b[43mn_components\u001b[49m\u001b[43m,\u001b[49m\n\u001b[0;32m    249\u001b[0m \u001b[43m        \u001b[49m\u001b[43mn_iter\u001b[49m\u001b[38;5;241;43m=\u001b[39;49m\u001b[38;5;28;43mself\u001b[39;49m\u001b[38;5;241;43m.\u001b[39;49m\u001b[43mn_iter\u001b[49m\u001b[43m,\u001b[49m\n\u001b[0;32m    250\u001b[0m \u001b[43m        \u001b[49m\u001b[43mn_oversamples\u001b[49m\u001b[38;5;241;43m=\u001b[39;49m\u001b[38;5;28;43mself\u001b[39;49m\u001b[38;5;241;43m.\u001b[39;49m\u001b[43mn_oversamples\u001b[49m\u001b[43m,\u001b[49m\n\u001b[0;32m    251\u001b[0m \u001b[43m        \u001b[49m\u001b[43mpower_iteration_normalizer\u001b[49m\u001b[38;5;241;43m=\u001b[39;49m\u001b[38;5;28;43mself\u001b[39;49m\u001b[38;5;241;43m.\u001b[39;49m\u001b[43mpower_iteration_normalizer\u001b[49m\u001b[43m,\u001b[49m\n\u001b[0;32m    252\u001b[0m \u001b[43m        \u001b[49m\u001b[43mrandom_state\u001b[49m\u001b[38;5;241;43m=\u001b[39;49m\u001b[43mrandom_state\u001b[49m\u001b[43m,\u001b[49m\n\u001b[0;32m    253\u001b[0m \u001b[43m    \u001b[49m\u001b[43m)\u001b[49m\n\u001b[0;32m    255\u001b[0m \u001b[38;5;28mself\u001b[39m\u001b[38;5;241m.\u001b[39mcomponents_ \u001b[38;5;241m=\u001b[39m VT\n\u001b[0;32m    257\u001b[0m \u001b[38;5;66;03m# As a result of the SVD approximation error on X ~ U @ Sigma @ V.T,\u001b[39;00m\n\u001b[0;32m    258\u001b[0m \u001b[38;5;66;03m# X @ V is not the same as U @ Sigma\u001b[39;00m\n",
      "File \u001b[1;32m~\\anaconda3\\envs\\tf-gpu\\lib\\site-packages\\sklearn\\utils\\_param_validation.py:186\u001b[0m, in \u001b[0;36mvalidate_params.<locals>.decorator.<locals>.wrapper\u001b[1;34m(*args, **kwargs)\u001b[0m\n\u001b[0;32m    184\u001b[0m global_skip_validation \u001b[38;5;241m=\u001b[39m get_config()[\u001b[38;5;124m\"\u001b[39m\u001b[38;5;124mskip_parameter_validation\u001b[39m\u001b[38;5;124m\"\u001b[39m]\n\u001b[0;32m    185\u001b[0m \u001b[38;5;28;01mif\u001b[39;00m global_skip_validation:\n\u001b[1;32m--> 186\u001b[0m     \u001b[38;5;28;01mreturn\u001b[39;00m func(\u001b[38;5;241m*\u001b[39margs, \u001b[38;5;241m*\u001b[39m\u001b[38;5;241m*\u001b[39mkwargs)\n\u001b[0;32m    188\u001b[0m func_sig \u001b[38;5;241m=\u001b[39m signature(func)\n\u001b[0;32m    190\u001b[0m \u001b[38;5;66;03m# Map *args/**kwargs to the function signature\u001b[39;00m\n",
      "File \u001b[1;32m~\\anaconda3\\envs\\tf-gpu\\lib\\site-packages\\sklearn\\utils\\extmath.py:554\u001b[0m, in \u001b[0;36mrandomized_svd\u001b[1;34m(M, n_components, n_oversamples, n_iter, power_iteration_normalizer, transpose, flip_sign, random_state, svd_lapack_driver)\u001b[0m\n\u001b[0;32m    550\u001b[0m         U, Vt \u001b[38;5;241m=\u001b[39m svd_flip(U, Vt)\n\u001b[0;32m    551\u001b[0m     \u001b[38;5;28;01melse\u001b[39;00m:\n\u001b[0;32m    552\u001b[0m         \u001b[38;5;66;03m# In case of transpose u_based_decision=false\u001b[39;00m\n\u001b[0;32m    553\u001b[0m         \u001b[38;5;66;03m# to actually flip based on u and not v.\u001b[39;00m\n\u001b[1;32m--> 554\u001b[0m         U, Vt \u001b[38;5;241m=\u001b[39m \u001b[43msvd_flip\u001b[49m\u001b[43m(\u001b[49m\u001b[43mU\u001b[49m\u001b[43m,\u001b[49m\u001b[43m \u001b[49m\u001b[43mVt\u001b[49m\u001b[43m,\u001b[49m\u001b[43m \u001b[49m\u001b[43mu_based_decision\u001b[49m\u001b[38;5;241;43m=\u001b[39;49m\u001b[38;5;28;43;01mFalse\u001b[39;49;00m\u001b[43m)\u001b[49m\n\u001b[0;32m    556\u001b[0m \u001b[38;5;28;01mif\u001b[39;00m transpose:\n\u001b[0;32m    557\u001b[0m     \u001b[38;5;66;03m# transpose back the results according to the input convention\u001b[39;00m\n\u001b[0;32m    558\u001b[0m     \u001b[38;5;28;01mreturn\u001b[39;00m Vt[:n_components, :]\u001b[38;5;241m.\u001b[39mT, s[:n_components], U[:, :n_components]\u001b[38;5;241m.\u001b[39mT\n",
      "File \u001b[1;32m~\\anaconda3\\envs\\tf-gpu\\lib\\site-packages\\sklearn\\utils\\extmath.py:900\u001b[0m, in \u001b[0;36msvd_flip\u001b[1;34m(u, v, u_based_decision)\u001b[0m\n\u001b[0;32m    897\u001b[0m     v \u001b[38;5;241m*\u001b[39m\u001b[38;5;241m=\u001b[39m signs[:, np\u001b[38;5;241m.\u001b[39mnewaxis]\n\u001b[0;32m    898\u001b[0m \u001b[38;5;28;01melse\u001b[39;00m:\n\u001b[0;32m    899\u001b[0m     \u001b[38;5;66;03m# rows of v, columns of u\u001b[39;00m\n\u001b[1;32m--> 900\u001b[0m     max_abs_v_rows \u001b[38;5;241m=\u001b[39m \u001b[43mxp\u001b[49m\u001b[38;5;241;43m.\u001b[39;49m\u001b[43margmax\u001b[49m\u001b[43m(\u001b[49m\u001b[43mxp\u001b[49m\u001b[38;5;241;43m.\u001b[39;49m\u001b[43mabs\u001b[49m\u001b[43m(\u001b[49m\u001b[43mv\u001b[49m\u001b[43m)\u001b[49m\u001b[43m,\u001b[49m\u001b[43m \u001b[49m\u001b[43maxis\u001b[49m\u001b[38;5;241;43m=\u001b[39;49m\u001b[38;5;241;43m1\u001b[39;49m\u001b[43m)\u001b[49m\n\u001b[0;32m    901\u001b[0m     shift \u001b[38;5;241m=\u001b[39m xp\u001b[38;5;241m.\u001b[39marange(v\u001b[38;5;241m.\u001b[39mshape[\u001b[38;5;241m0\u001b[39m], device\u001b[38;5;241m=\u001b[39mdevice)\n\u001b[0;32m    902\u001b[0m     indices \u001b[38;5;241m=\u001b[39m max_abs_v_rows \u001b[38;5;241m+\u001b[39m shift \u001b[38;5;241m*\u001b[39m v\u001b[38;5;241m.\u001b[39mshape[\u001b[38;5;241m1\u001b[39m]\n",
      "File \u001b[1;32m<__array_function__ internals>:180\u001b[0m, in \u001b[0;36margmax\u001b[1;34m(*args, **kwargs)\u001b[0m\n",
      "File \u001b[1;32m~\\anaconda3\\envs\\tf-gpu\\lib\\site-packages\\numpy\\core\\fromnumeric.py:1216\u001b[0m, in \u001b[0;36margmax\u001b[1;34m(a, axis, out, keepdims)\u001b[0m\n\u001b[0;32m   1129\u001b[0m \u001b[38;5;250m\u001b[39m\u001b[38;5;124;03m\"\"\"\u001b[39;00m\n\u001b[0;32m   1130\u001b[0m \u001b[38;5;124;03mReturns the indices of the maximum values along an axis.\u001b[39;00m\n\u001b[0;32m   1131\u001b[0m \n\u001b[1;32m   (...)\u001b[0m\n\u001b[0;32m   1213\u001b[0m \u001b[38;5;124;03m(2, 1, 4)\u001b[39;00m\n\u001b[0;32m   1214\u001b[0m \u001b[38;5;124;03m\"\"\"\u001b[39;00m\n\u001b[0;32m   1215\u001b[0m kwds \u001b[38;5;241m=\u001b[39m {\u001b[38;5;124m'\u001b[39m\u001b[38;5;124mkeepdims\u001b[39m\u001b[38;5;124m'\u001b[39m: keepdims} \u001b[38;5;28;01mif\u001b[39;00m keepdims \u001b[38;5;129;01mis\u001b[39;00m \u001b[38;5;129;01mnot\u001b[39;00m np\u001b[38;5;241m.\u001b[39m_NoValue \u001b[38;5;28;01melse\u001b[39;00m {}\n\u001b[1;32m-> 1216\u001b[0m \u001b[38;5;28;01mreturn\u001b[39;00m _wrapfunc(a, \u001b[38;5;124m'\u001b[39m\u001b[38;5;124margmax\u001b[39m\u001b[38;5;124m'\u001b[39m, axis\u001b[38;5;241m=\u001b[39maxis, out\u001b[38;5;241m=\u001b[39mout, \u001b[38;5;241m*\u001b[39m\u001b[38;5;241m*\u001b[39mkwds)\n",
      "File \u001b[1;32m~\\anaconda3\\envs\\tf-gpu\\lib\\site-packages\\numpy\\core\\fromnumeric.py:57\u001b[0m, in \u001b[0;36m_wrapfunc\u001b[1;34m(obj, method, *args, **kwds)\u001b[0m\n\u001b[0;32m     54\u001b[0m     \u001b[38;5;28;01mreturn\u001b[39;00m _wrapit(obj, method, \u001b[38;5;241m*\u001b[39margs, \u001b[38;5;241m*\u001b[39m\u001b[38;5;241m*\u001b[39mkwds)\n\u001b[0;32m     56\u001b[0m \u001b[38;5;28;01mtry\u001b[39;00m:\n\u001b[1;32m---> 57\u001b[0m     \u001b[38;5;28;01mreturn\u001b[39;00m bound(\u001b[38;5;241m*\u001b[39margs, \u001b[38;5;241m*\u001b[39m\u001b[38;5;241m*\u001b[39mkwds)\n\u001b[0;32m     58\u001b[0m \u001b[38;5;28;01mexcept\u001b[39;00m \u001b[38;5;167;01mTypeError\u001b[39;00m:\n\u001b[0;32m     59\u001b[0m     \u001b[38;5;66;03m# A TypeError occurs if the object does have such a method in its\u001b[39;00m\n\u001b[0;32m     60\u001b[0m     \u001b[38;5;66;03m# class, but its signature is not identical to that of NumPy's. This\u001b[39;00m\n\u001b[1;32m   (...)\u001b[0m\n\u001b[0;32m     64\u001b[0m     \u001b[38;5;66;03m# Call _wrapit from within the except clause to ensure a potential\u001b[39;00m\n\u001b[0;32m     65\u001b[0m     \u001b[38;5;66;03m# exception has a traceback chain.\u001b[39;00m\n\u001b[0;32m     66\u001b[0m     \u001b[38;5;28;01mreturn\u001b[39;00m _wrapit(obj, method, \u001b[38;5;241m*\u001b[39margs, \u001b[38;5;241m*\u001b[39m\u001b[38;5;241m*\u001b[39mkwds)\n",
      "\u001b[1;31mMemoryError\u001b[0m: Unable to allocate 332. MiB for an array with shape (110, 396030) and data type float64"
     ]
    }
   ],
   "source": [
    "from tensorflow.keras.models import load_model\n",
    "import pandas as pd\n",
    "from sklearn.metrics import classification_report, confusion_matrix\n",
    "from sklearn.preprocessing import OneHotEncoder, StandardScaler\n",
    "from sklearn.compose import ColumnTransformer\n",
    "from sklearn.decomposition import TruncatedSVD\n",
    "from sklearn.impute import SimpleImputer\n",
    "from sklearn.pipeline import Pipeline\n",
    "\n",
    "# Load the saved model\n",
    "loaded_model = load_model('C:/Users/Owner/anaconda3/envs/tf-gpu/keras_project.h5')\n",
    "\n",
    "# Load test data from CSV file\n",
    "test_data = pd.read_csv('C:/Users/Owner/anaconda3/envs/tf-gpu/lending_club_loan_two.csv')\n",
    "\n",
    "# List of column names\n",
    "columns = ['loan_amnt', 'term', 'int_rate', 'installment', 'grade', 'sub_grade',\n",
    "           'emp_title', 'emp_length', 'home_ownership', 'annual_inc',\n",
    "           'verification_status', 'issue_d', 'loan_status', 'purpose', 'title',\n",
    "           'dti', 'earliest_cr_line', 'open_acc', 'pub_rec', 'revol_bal',\n",
    "           'revol_util', 'total_acc', 'initial_list_status', 'application_type',\n",
    "           'mort_acc', 'pub_rec_bankruptcies', 'address']\n",
    "\n",
    "# Target column\n",
    "target_column = 'loan_status'\n",
    "\n",
    "# Extract feature columns by removing the target column\n",
    "feature_columns = [col for col in columns if col != target_column]\n",
    "\n",
    "# Extract features (X_test) from test data using feature columns\n",
    "X_test = test_data[feature_columns]\n",
    "\n",
    "# Extract the target column (y_test) from test data\n",
    "y_test = test_data[target_column]\n",
    "\n",
    "# Preprocessing pipeline\n",
    "numeric_features = ['loan_amnt', 'int_rate', 'installment', 'annual_inc', 'dti',\n",
    "                    'open_acc', 'pub_rec', 'revol_bal', 'revol_util', 'total_acc',\n",
    "                    'mort_acc', 'pub_rec_bankruptcies']\n",
    "\n",
    "categorical_features = ['term', 'grade', 'sub_grade', 'emp_title', 'emp_length',\n",
    "                        'home_ownership', 'verification_status', 'issue_d', 'purpose',\n",
    "                        'title', 'earliest_cr_line', 'initial_list_status',\n",
    "                        'application_type', 'address']\n",
    "\n",
    "numeric_transformer = Pipeline(steps=[\n",
    "    ('imputer', SimpleImputer(strategy='median')),\n",
    "    ('scaler', StandardScaler())\n",
    "])\n",
    "\n",
    "categorical_transformer = Pipeline(steps=[\n",
    "    ('imputer', SimpleImputer(strategy='constant', fill_value='missing')),\n",
    "    ('onehot', OneHotEncoder(handle_unknown='ignore'))\n",
    "])\n",
    "\n",
    "preprocessor = ColumnTransformer(\n",
    "    transformers=[\n",
    "        ('num', numeric_transformer, numeric_features),\n",
    "        ('cat', categorical_transformer, categorical_features)\n",
    "    ])\n",
    "\n",
    "# Apply preprocessing pipeline to X_test\n",
    "X_test_preprocessed = preprocessor.fit_transform(X_test)\n",
    "\n",
    "# Reduce the number of components for TruncatedSVD\n",
    "n_components = 100  # Adjust this value as needed\n",
    "svd = TruncatedSVD(n_components=n_components)\n",
    "\n",
    "# Transform the preprocessed data using TruncatedSVD\n",
    "X_test_svd = svd.fit_transform(X_test_preprocessed)\n",
    "\n",
    "# Now you can use loaded_model for making predictions\n",
    "predictions = loaded_model.predict(X_test_svd)\n",
    "\n",
    "# Print classification report\n",
    "print(classification_report(y_test, predictions))\n",
    "\n",
    "# Print confusion matrix\n",
    "print(confusion_matrix(y_test, predictions))\n",
    "\n",
    "\n",
    "\n",
    "\n"
   ]
  }
 ],
 "metadata": {
  "kernelspec": {
   "display_name": "Python 3 (ipykernel)",
   "language": "python",
   "name": "python3"
  },
  "language_info": {
   "codemirror_mode": {
    "name": "ipython",
    "version": 3
   },
   "file_extension": ".py",
   "mimetype": "text/x-python",
   "name": "python",
   "nbconvert_exporter": "python",
   "pygments_lexer": "ipython3",
   "version": "3.9.18"
  }
 },
 "nbformat": 4,
 "nbformat_minor": 5
}
