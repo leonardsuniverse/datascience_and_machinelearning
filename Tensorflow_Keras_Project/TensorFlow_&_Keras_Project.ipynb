{
 "cells": [
  {
   "cell_type": "markdown",
   "id": "729c8b31-2c2b-4f1a-9386-4a2c5e52704f",
   "metadata": {},
   "source": [
    "__Keras API Initiative__"
   ]
  },
  {
   "cell_type": "markdown",
   "id": "f7606caf-f813-423e-b3bc-8bba7f660e9c",
   "metadata": {},
   "source": [
    "__Introduction to TensorFlow__\n",
    "\n",
    "TensorFlow is an open-source machine learning framework developed by Google. It is designed to simplify the process of developing and training machine learning models, making it accessible to both beginners and experienced practitioners.\n",
    "\n",
    "_Key Features of TensorFlow_\n",
    "\n",
    "- __Flexibility__: TensorFlow supports a wide range of machine learning tasks, from simple linear regression to complex deep learning models. It allows for deployment across various platforms including CPUs, GPUs, and TPUs.\n",
    "\n",
    "- __Ease of Use__: The high-level Keras API, integrated within TensorFlow, provides an intuitive interface for building and training models. This makes it easier to prototype and experiment with different architectures.\n",
    "\n",
    "- __Extensive Ecosystem__: TensorFlow boasts a rich ecosystem of tools and libraries, such as TensorFlow Lite for mobile and embedded devices, TensorFlow.js for in-browser machine learning, and TensorFlow Extended (TFX) for production-level machine learning pipelines.\n",
    "\n",
    "- __Community and Support__: As one of the most popular machine learning frameworks, TensorFlow has a vast and active community. This ensures a wealth of resources, tutorials, and support for users at all levels.\n",
    "\n",
    "__Core Concepts__\n",
    "\n",
    "- __Tensors__: The fundamental data structure in TensorFlow, tensors are multi-dimensional arrays that flow through the computational graph. Each operation transforms these tensors, leading to the desired output.\n",
    "\n",
    "- __Computational Graphs__: TensorFlow uses computational graphs to represent the flow of data and operations. This graph-based approach allows for efficient computation, particularly on parallel and distributed systems.\n",
    "\n",
    "- __Eager Execution__: TensorFlow’s eager execution mode provides immediate feedback by executing operations as they are called. This makes debugging and iteration more straightforward.\n",
    "\n",
    "__Applications__\n",
    "\n",
    "TensorFlow is versatile and can be applied to various machine learning problems, including:\n",
    "\n",
    "- __Image Recognition__: Building convolutional neural networks (CNNs) for tasks like image classification and object detection.\n",
    "- __Natural Language Processing__: Developing models for language translation, sentiment analysis, and text generation.\n",
    "- __Time Series Analysis__: Implementing recurrent neural networks (RNNs) for forecasting and sequence prediction.\n",
    "- __Reinforcement Learning__: Creating agents that learn to make decisions by interacting with their environment.\n",
    "\n",
    "In conclusion, TensorFlow is a powerful and flexible framework that can accelerate the development and deployment of machine learning models. Its comprehensive features and strong community support make it an excellent choice for both ners and experts in the field."
   ]
  },
  {
   "cell_type": "markdown",
   "id": "5f22a62e-e95f-4965-8790-4898c22cdbbf",
   "metadata": {},
   "source": [
    "__Our Goal__"
   ]
  },
  {
   "cell_type": "markdown",
   "id": "e7582265-15f9-4f3c-bab8-72be84d53b9f",
   "metadata": {},
   "source": [
    "\n",
    "Using historical loan data that includes information on whether borrowers defaulted (charge-off), we aim to build a predictive model to determine the likelihood of a borrower repaying their loan. This model will help us evaluate the repayment probability for new potential customers. It is crucial to consider classification metrics when assessing the model's performance.\r\n",
    "\r\n",
    "The \"loan_status\" column contains our target label."
   ]
  },
  {
   "cell_type": "markdown",
   "id": "437af712",
   "metadata": {},
   "source": [
    "LendingClub, based in San Francisco, California, is a leading US peer-to-peer lending company. It made history as the first peer-to-peer lender to register its offerings as securities with the Securities and Exchange Commission (SEC) and to facilitate loan trading on a secondary market. LendingClub is the largest peer-to-peer lending platform globally."
   ]
  },
  {
   "cell_type": "markdown",
   "id": "2dfb5522",
   "metadata": {},
   "source": [
    "__Data Overview__"
   ]
  },
  {
   "cell_type": "markdown",
   "id": "69530ea8",
   "metadata": {},
   "source": [
    "Click on the link below for information about this particular dataset\n",
    "https://www.kaggle.com/code/aonursert/tensorflow-keras-project?scriptVersionId=36290319&cellId=2"
   ]
  },
  {
   "cell_type": "markdown",
   "id": "a0004547",
   "metadata": {},
   "source": [
    "__Starter Code__"
   ]
  },
  {
   "cell_type": "code",
   "execution_count": 2,
   "id": "1bb042ee",
   "metadata": {},
   "outputs": [
    {
     "name": "stdout",
     "output_type": "stream",
     "text": [
      "Revolving line utilization rate, or the amount of credit the borrower is using relative to all available revolving credit.\n"
     ]
    }
   ],
   "source": [
    "import pandas as pd\n",
    "# Read the CSV file into a DataFrame\n",
    "data_info = pd.read_csv('C:/Users/Owner/anaconda3/envs/tf-gpu/lending_club_info.csv', index_col='LoanStatNew')\n",
    "\n",
    "print(data_info.loc['revol_util']['Description'])\n",
    "\n"
   ]
  },
  {
   "cell_type": "code",
   "execution_count": 3,
   "id": "fe15357e",
   "metadata": {},
   "outputs": [
    {
     "name": "stdout",
     "output_type": "stream",
     "text": [
      "Number of mortgage accounts.\n"
     ]
    }
   ],
   "source": [
    "def feat_info(col_name):\n",
    "    print(data_info.loc[col_name]['Description'])\n",
    "    \n",
    "feat_info('mort_acc')"
   ]
  },
  {
   "cell_type": "markdown",
   "id": "eb544439",
   "metadata": {},
   "source": [
    "__Loading the data and other imports__"
   ]
  },
  {
   "cell_type": "code",
   "execution_count": 6,
   "id": "f8559899",
   "metadata": {},
   "outputs": [
    {
     "name": "stdout",
     "output_type": "stream",
     "text": [
      "<class 'pandas.core.frame.DataFrame'>\n",
      "RangeIndex: 396030 entries, 0 to 396029\n",
      "Data columns (total 27 columns):\n",
      " #   Column                Non-Null Count   Dtype  \n",
      "---  ------                --------------   -----  \n",
      " 0   loan_amnt             396030 non-null  float64\n",
      " 1   term                  396030 non-null  object \n",
      " 2   int_rate              396030 non-null  float64\n",
      " 3   installment           396030 non-null  float64\n",
      " 4   grade                 396030 non-null  object \n",
      " 5   sub_grade             396030 non-null  object \n",
      " 6   emp_title             373103 non-null  object \n",
      " 7   emp_length            377729 non-null  object \n",
      " 8   home_ownership        396030 non-null  object \n",
      " 9   annual_inc            396030 non-null  float64\n",
      " 10  verification_status   396030 non-null  object \n",
      " 11  issue_d               396030 non-null  object \n",
      " 12  loan_status           396030 non-null  object \n",
      " 13  purpose               396030 non-null  object \n",
      " 14  title                 394274 non-null  object \n",
      " 15  dti                   396030 non-null  float64\n",
      " 16  earliest_cr_line      396030 non-null  object \n",
      " 17  open_acc              396030 non-null  float64\n",
      " 18  pub_rec               396030 non-null  float64\n",
      " 19  revol_bal             396030 non-null  float64\n",
      " 20  revol_util            395754 non-null  float64\n",
      " 21  total_acc             396030 non-null  float64\n",
      " 22  initial_list_status   396030 non-null  object \n",
      " 23  application_type      396030 non-null  object \n",
      " 24  mort_acc              358235 non-null  float64\n",
      " 25  pub_rec_bankruptcies  395495 non-null  float64\n",
      " 26  address               396030 non-null  object \n",
      "dtypes: float64(12), object(15)\n",
      "memory usage: 81.6+ MB\n"
     ]
    }
   ],
   "source": [
    "import pandas as pd\n",
    "import numpy as np\n",
    "import matplotlib.pyplot as plt\n",
    "import seaborn as sns\n",
    "%matplotlib inline\n",
    "\n",
    "df = pd.read_csv('C:/Users/Owner/anaconda3/envs/tf-gpu/lending_club_loan_two.csv')\n",
    "df.info()"
   ]
  },
  {
   "cell_type": "markdown",
   "id": "1859cedc",
   "metadata": {},
   "source": [
    "__Segment 1: Exploratory Data Analysis__"
   ]
  },
  {
   "cell_type": "markdown",
   "id": "d2d2eed5",
   "metadata": {},
   "source": [
    "__Overall Goal__: Get an understanding for which variables are important, view\n",
    "summary statistics, and visualize the data"
   ]
  },
  {
   "cell_type": "markdown",
   "id": "407a54fc-3472-427a-8fde-e8df38faac6b",
   "metadata": {},
   "source": [
    "__Task__: Since we will be attempting to predict loan_status, I created a \n",
    "countplot as shown below."
   ]
  },
  {
   "cell_type": "code",
   "execution_count": 7,
   "id": "380bd338",
   "metadata": {},
   "outputs": [
    {
     "data": {
      "image/png": "[encoded data removed]",
      "text/plain": [
       "<Figure size 1000x600 with 1 Axes>"
      ]
     },
     "metadata": {},
     "output_type": "display_data"
    }
   ],
   "source": [
    "import pandas as pd\n",
    "import matplotlib.pyplot as plt\n",
    "\n",
    "# Convert \"loan_status\" to categorical data type\n",
    "df[\"loan_status\"] = df[\"loan_status\"].astype('category')\n",
    "\n",
    "# Get the counts of each unique value in \"loan_status\"\n",
    "status_counts = df[\"loan_status\"].value_counts()\n",
    "\n",
    "# Plot the counts using Matplotlib\n",
    "plt.figure(figsize=(10, 6))\n",
    "status_counts.plot(kind='bar')\n",
    "plt.title(\"Loan Status Counts\")\n",
    "plt.xlabel(\"Loan Status\")\n",
    "plt.ylabel(\"Count\")\n",
    "plt.xticks(rotation=45)\n",
    "plt.show()\n"
   ]
  },
  {
   "cell_type": "markdown",
   "id": "faf8524e",
   "metadata": {},
   "source": [
    "__Task__: Create a histogram of the loan_amnt column"
   ]
  },
  {
   "cell_type": "code",
   "execution_count": 8,
   "id": "f472dfd2",
   "metadata": {},
   "outputs": [
    {
     "name": "stderr",
     "output_type": "stream",
     "text": [
      "C:\\Users\\Owner\\AppData\\Local\\Temp\\ipykernel_6204\\3266286701.py:3: UserWarning: \n",
      "\n",
      "`distplot` is a deprecated function and will be removed in seaborn v0.14.0.\n",
      "\n",
      "Please adapt your code to use either `displot` (a figure-level function with\n",
      "similar flexibility) or `histplot` (an axes-level function for histograms).\n",
      "\n",
      "For a guide to updating your code to use the new functions, please see\n",
      "https://gist.github.com/mwaskom/de44147ed2974457ad6372750bbe5751\n",
      "\n",
      "  sns.distplot(df[\"loan_amnt\"], kde=False)\n"
     ]
    },
    {
     "data": {
      "text/plain": [
       "<Axes: xlabel='loan_amnt'>"
      ]
     },
     "execution_count": 8,
     "metadata": {},
     "output_type": "execute_result"
    },
    {
     "data": {
      "image/png": "[encoded data removed]",
      "text/plain": [
       "<Figure size 1200x400 with 1 Axes>"
      ]
     },
     "metadata": {},
     "output_type": "display_data"
    }
   ],
   "source": [
    "sns.set_style(\"whitegrid\")\n",
    "plt.figure(figsize=(12,4))\n",
    "sns.distplot(df[\"loan_amnt\"], kde=False)"
   ]
  },
  {
   "cell_type": "code",
   "execution_count": 9,
   "id": "c976aedf",
   "metadata": {},
   "outputs": [
    {
     "name": "stdout",
     "output_type": "stream",
     "text": [
      "The listed amount of the loan applied for by the borrower. If at some point in time, the credit department reduces the loan amount, then it will be reflected in this value.\n"
     ]
    }
   ],
   "source": [
    "feat_info('loan_amnt')"
   ]
  },
  {
   "cell_type": "markdown",
   "id": "38ff2dcc",
   "metadata": {},
   "source": [
    "__Task__: Lets explore correlation between the continous numeric  variables. Calculate the correlation between all continous numeric variables using .corr()method."
   ]
  },
  {
   "cell_type": "code",
   "execution_count": 10,
   "id": "d94846ba",
   "metadata": {},
   "outputs": [
    {
     "name": "stdout",
     "output_type": "stream",
     "text": [
      "              loan_amnt  int_rate  installment  annual_inc       dti  \\\n",
      "loan_amnt      1.000000  0.168921     0.953929    0.336887  0.016636   \n",
      "int_rate       0.168921  1.000000     0.162758   -0.056771  0.079038   \n",
      "installment    0.953929  0.162758     1.000000    0.330381  0.015786   \n",
      "annual_inc     0.336887 -0.056771     0.330381    1.000000 -0.081685   \n",
      "dti            0.016636  0.079038     0.015786   -0.081685  1.000000   \n",
      "...                 ...       ...          ...         ...       ...   \n",
      "sub_grade_G1   0.039714  0.137912     0.040316    0.004775  0.004517   \n",
      "sub_grade_G2   0.033544  0.118871     0.034648    0.001699  0.005410   \n",
      "sub_grade_G3   0.032224  0.104247     0.033163    0.003318  0.003337   \n",
      "sub_grade_G4   0.027905  0.086611     0.028853    0.005917  0.003607   \n",
      "sub_grade_G5   0.023786  0.081416     0.024953    0.005291  0.003466   \n",
      "\n",
      "              open_acc   pub_rec  revol_bal  revol_util  total_acc  ...  \\\n",
      "loan_amnt     0.198556 -0.077779   0.328320    0.100286   0.223886  ...   \n",
      "int_rate      0.011649  0.060986  -0.011280    0.292349  -0.036404  ...   \n",
      "installment   0.188973 -0.067892   0.316455    0.124179   0.202430  ...   \n",
      "annual_inc    0.136150 -0.013720   0.299773    0.027492   0.193023  ...   \n",
      "dti           0.136181 -0.017639   0.063571    0.088491   0.102128  ...   \n",
      "...                ...       ...        ...         ...        ...  ...   \n",
      "sub_grade_G1  0.006187  0.004929   0.001565    0.015652   0.001235  ...   \n",
      "sub_grade_G2  0.008359  0.003236   0.000547    0.014122   0.001887  ...   \n",
      "sub_grade_G3  0.004627  0.007606   0.001331    0.012859   0.000359  ...   \n",
      "sub_grade_G4  0.008202 -0.000719   0.003731    0.009536   0.003955  ...   \n",
      "sub_grade_G5  0.004363  0.002307   0.005196    0.010343   0.001143  ...   \n",
      "\n",
      "              sub_grade_F1  sub_grade_F2  sub_grade_F3  sub_grade_F4  \\\n",
      "loan_amnt         0.051336      0.052311      0.041886      0.043856   \n",
      "int_rate          0.193289      0.183100      0.177523      0.164021   \n",
      "installment       0.043038      0.047362      0.039397      0.041855   \n",
      "annual_inc        0.001511      0.000679     -0.001545      0.000113   \n",
      "dti               0.010803      0.010887      0.008246      0.006756   \n",
      "...                    ...           ...           ...           ...   \n",
      "sub_grade_G1     -0.004912     -0.004341     -0.003944     -0.003484   \n",
      "sub_grade_G2     -0.004145     -0.003663     -0.003328     -0.002940   \n",
      "sub_grade_G3     -0.003546     -0.003133     -0.002847     -0.002515   \n",
      "sub_grade_G4     -0.002918     -0.002578     -0.002343     -0.002070   \n",
      "sub_grade_G5     -0.002682     -0.002370     -0.002153     -0.001903   \n",
      "\n",
      "              sub_grade_F5  sub_grade_G1  sub_grade_G2  sub_grade_G3  \\\n",
      "loan_amnt         0.047780      0.039714      0.033544      0.032224   \n",
      "int_rate          0.151885      0.137912      0.118871      0.104247   \n",
      "installment       0.046927      0.040316      0.034648      0.033163   \n",
      "annual_inc        0.005041      0.004775      0.001699      0.003318   \n",
      "dti               0.007711      0.004517      0.005410      0.003337   \n",
      "...                    ...           ...           ...           ...   \n",
      "sub_grade_G1     -0.003079      1.000000     -0.002260     -0.001934   \n",
      "sub_grade_G2     -0.002599     -0.002260      1.000000     -0.001632   \n",
      "sub_grade_G3     -0.002223     -0.001934     -0.001632      1.000000   \n",
      "sub_grade_G4     -0.001829     -0.001591     -0.001343     -0.001149   \n",
      "sub_grade_G5     -0.001681     -0.001463     -0.001234     -0.001056   \n",
      "\n",
      "              sub_grade_G4  sub_grade_G5  \n",
      "loan_amnt         0.027905      0.023786  \n",
      "int_rate          0.086611      0.081416  \n",
      "installment       0.028853      0.024953  \n",
      "annual_inc        0.005917      0.005291  \n",
      "dti               0.003607      0.003466  \n",
      "...                    ...           ...  \n",
      "sub_grade_G1     -0.001591     -0.001463  \n",
      "sub_grade_G2     -0.001343     -0.001234  \n",
      "sub_grade_G3     -0.001149     -0.001056  \n",
      "sub_grade_G4      1.000000     -0.000869  \n",
      "sub_grade_G5     -0.000869      1.000000  \n",
      "\n",
      "[97 rows x 97 columns]\n"
     ]
    }
   ],
   "source": [
    "import pandas as pd\n",
    "\n",
    "# Load the dataset\n",
    "df = pd.read_csv('C:/Users/Owner/anaconda3/envs/tf-gpu/lending_club_loan_two.csv')\n",
    "\n",
    "# Drop columns that are not suitable for modeling or require additional preprocessing\n",
    "df.drop(columns=['emp_title', 'title', 'issue_d', 'earliest_cr_line', 'address'], inplace=True)\n",
    "\n",
    "# Convert categorical columns to one-hot encoding\n",
    "df = pd.get_dummies(df, columns=['term', 'grade', 'emp_length', 'home_ownership', 'verification_status',\n",
    "                                  'loan_status', 'purpose', 'initial_list_status', 'application_type'])\n",
    "\n",
    "# Convert 'sub_grade' column to one-hot encoding\n",
    "df = pd.get_dummies(df, columns=['sub_grade'])\n",
    "\n",
    "# Handle missing values\n",
    "df.fillna(0, inplace=True)  # Filling missing values with 0, you can choose a different strategy if needed\n",
    "\n",
    "# Now, let's check the correlation matrix\n",
    "corr_matrix = df.corr()\n",
    "print(corr_matrix)\n",
    "\n",
    "\n"
   ]
  },
  {
   "cell_type": "markdown",
   "id": "c254f2f4",
   "metadata": {},
   "source": [
    "__Task__: Visualization using Heatmap"
   ]
  },
  {
   "cell_type": "code",
   "execution_count": 11,
   "id": "3c190b32",
   "metadata": {},
   "outputs": [
    {
     "name": "stderr",
     "output_type": "stream",
     "text": [
      "C:\\Users\\Owner\\AppData\\Local\\Temp\\ipykernel_6204\\3797389866.py:36: UserWarning: Could not infer format, so each element will be parsed individually, falling back to `dateutil`. To ensure parsing is consistent and as-expected, please specify a format.\n",
      "  df[col] = pd.to_datetime(df[col], errors='coerce')\n",
      "C:\\Users\\Owner\\AppData\\Local\\Temp\\ipykernel_6204\\3797389866.py:36: UserWarning: Could not infer format, so each element will be parsed individually, falling back to `dateutil`. To ensure parsing is consistent and as-expected, please specify a format.\n",
      "  df[col] = pd.to_datetime(df[col], errors='coerce')\n"
     ]
    },
    {
     "data": {
      "image/png": "[encoded data removed]",
      "text/plain": [
       "<Figure size 1200x800 with 2 Axes>"
      ]
     },
     "metadata": {},
     "output_type": "display_data"
    }
   ],
   "source": [
    "import seaborn as sns\n",
    "import matplotlib.pyplot as plt\n",
    "import pandas as pd\n",
    "\n",
    "# Read the dataset\n",
    "df = pd.read_csv('C:/Users/Owner/anaconda3/envs/tf-gpu/lending_club_loan_two.csv')\n",
    "\n",
    "# Drop rows with non-numeric values in columns that should be numeric\n",
    "numeric_columns = ['term', 'emp_length']\n",
    "df = df.dropna(subset=numeric_columns)\n",
    "\n",
    "# Convert 'term' column to numerical values\n",
    "df['term'] = df['term'].apply(lambda x: int(x.split()[0]))\n",
    "\n",
    "# Convert categorical columns to numerical values\n",
    "grade_mapping = {'A': 1, 'B': 2, 'C': 3, 'D': 4, 'E': 5, 'F': 6, 'G': 7}\n",
    "df['grade'] = df['grade'].map(grade_mapping)\n",
    "\n",
    "# Convert 'emp_length' to numerical values\n",
    "def convert_emp_length(x):\n",
    "    if pd.isnull(x):\n",
    "        return x\n",
    "    elif '+' in x:\n",
    "        return 10\n",
    "    elif '<' in x:\n",
    "        return 0\n",
    "    else:\n",
    "        return int(x.split()[0])\n",
    "\n",
    "df['emp_length'] = df['emp_length'].apply(convert_emp_length)\n",
    "\n",
    "# Convert non-numeric columns to categorical or drop them\n",
    "non_numeric_columns = df.select_dtypes(exclude=['float64', 'int64']).columns\n",
    "for col in non_numeric_columns:\n",
    "    if col in ['issue_d', 'earliest_cr_line']:\n",
    "        df[col] = pd.to_datetime(df[col], errors='coerce')\n",
    "    else:\n",
    "        df = df.drop(columns=[col])\n",
    "\n",
    "# Plot heatmap\n",
    "plt.figure(figsize=(12,8))\n",
    "sns.heatmap(df.corr(), annot=True)\n",
    "plt.show()\n",
    "\n",
    "\n",
    "\n",
    "\n"
   ]
  },
  {
   "cell_type": "markdown",
   "id": "f6eb9a97",
   "metadata": {},
   "source": [
    "__Task__: You should have noticed almost perfect correlation with the \"installment\" feature. Explore this feature further. Print out their descriptions and perform a scatterplot between them. Does this relationship make sense to you? Do you think there's duplicate information here?"
   ]
  },
  {
   "cell_type": "code",
   "execution_count": 12,
   "id": "af2f6a3d",
   "metadata": {},
   "outputs": [
    {
     "name": "stdout",
     "output_type": "stream",
     "text": [
      "count    396030.000000\n",
      "mean        431.849698\n",
      "std         250.727790\n",
      "min          16.080000\n",
      "25%         250.330000\n",
      "50%         375.430000\n",
      "75%         567.300000\n",
      "max        1533.810000\n",
      "Name: installment, dtype: float64\n"
     ]
    }
   ],
   "source": [
    "import pandas as pd\n",
    "\n",
    "# Read the CSV file into a DataFrame\n",
    "df = pd.read_csv('C:/Users/Owner/anaconda3/envs/tf-gpu/lending_club_loan_two.csv')\n",
    "\n",
    "# Get information about the 'installment' column\n",
    "installment_info = df['installment'].describe()\n",
    "print(installment_info)\n"
   ]
  },
  {
   "cell_type": "code",
   "execution_count": 13,
   "id": "c67eb4b3",
   "metadata": {},
   "outputs": [
    {
     "name": "stdout",
     "output_type": "stream",
     "text": [
      "The listed amount of the loan applied for by the borrower. If at some point in time, the credit department reduces the loan amount, then it will be reflected in this value.\n"
     ]
    }
   ],
   "source": [
    "feat_info('loan_amnt')"
   ]
  },
  {
   "cell_type": "code",
   "execution_count": 14,
   "id": "2f69c52d",
   "metadata": {},
   "outputs": [
    {
     "data": {
      "text/plain": [
       "<Axes: xlabel='installment', ylabel='loan_amnt'>"
      ]
     },
     "execution_count": 14,
     "metadata": {},
     "output_type": "execute_result"
    },
    {
     "data": {
      "image/png": "[encoded data removed]",
      "text/plain": [
       "<Figure size 640x480 with 1 Axes>"
      ]
     },
     "metadata": {},
     "output_type": "display_data"
    }
   ],
   "source": [
    "sns.scatterplot(x=\"installment\", y=\"loan_amnt\", data=df)"
   ]
  },
  {
   "cell_type": "markdown",
   "id": "5cd4b25e",
   "metadata": {},
   "source": [
    "__Task__: Create a boxplot showing the relationship between the loan_status and the Loan Amount."
   ]
  },
  {
   "cell_type": "code",
   "execution_count": 15,
   "id": "a783f947",
   "metadata": {},
   "outputs": [
    {
     "data": {
      "text/plain": [
       "<Axes: xlabel='loan_status', ylabel='loan_amnt'>"
      ]
     },
     "execution_count": 15,
     "metadata": {},
     "output_type": "execute_result"
    },
    {
     "data": {
      "image/png": "[encoded data removed]",
      "text/plain": [
       "<Figure size 640x480 with 1 Axes>"
      ]
     },
     "metadata": {},
     "output_type": "display_data"
    }
   ],
   "source": [
    "import seaborn as sns\n",
    "import pandas as pd\n",
    "df = pd.read_csv('C:/Users/Owner/anaconda3/envs/tf-gpu/lending_club_loan_two.csv')\n",
    "sns.boxplot(x=\"loan_status\", y=\"loan_amnt\", data=df)"
   ]
  },
  {
   "cell_type": "markdown",
   "id": "58cb115a",
   "metadata": {},
   "source": [
    "__Task__: Calculate the Summary statistics for the loan amount, grouped by the loan_status."
   ]
  },
  {
   "cell_type": "code",
   "execution_count": 16,
   "id": "f9543718",
   "metadata": {},
   "outputs": [
    {
     "data": {
      "text/html": [
       "<div>\n",
       "<style scoped>\n",
       "    .dataframe tbody tr th:only-of-type {\n",
       "        vertical-align: middle;\n",
       "    }\n",
       "\n",
       "    .dataframe tbody tr th {\n",
       "        vertical-align: top;\n",
       "    }\n",
       "\n",
       "    .dataframe thead th {\n",
       "        text-align: right;\n",
       "    }\n",
       "</style>\n",
       "<table border=\"1\" class=\"dataframe\">\n",
       "  <thead>\n",
       "    <tr style=\"text-align: right;\">\n",
       "      <th></th>\n",
       "      <th>count</th>\n",
       "      <th>mean</th>\n",
       "      <th>std</th>\n",
       "      <th>min</th>\n",
       "      <th>25%</th>\n",
       "      <th>50%</th>\n",
       "      <th>75%</th>\n",
       "      <th>max</th>\n",
       "    </tr>\n",
       "    <tr>\n",
       "      <th>loan_status</th>\n",
       "      <th></th>\n",
       "      <th></th>\n",
       "      <th></th>\n",
       "      <th></th>\n",
       "      <th></th>\n",
       "      <th></th>\n",
       "      <th></th>\n",
       "      <th></th>\n",
       "    </tr>\n",
       "  </thead>\n",
       "  <tbody>\n",
       "    <tr>\n",
       "      <th>Charged Off</th>\n",
       "      <td>77673.0</td>\n",
       "      <td>15126.300967</td>\n",
       "      <td>8505.090557</td>\n",
       "      <td>1000.0</td>\n",
       "      <td>8525.0</td>\n",
       "      <td>14000.0</td>\n",
       "      <td>20000.0</td>\n",
       "      <td>40000.0</td>\n",
       "    </tr>\n",
       "    <tr>\n",
       "      <th>Fully Paid</th>\n",
       "      <td>318357.0</td>\n",
       "      <td>13866.878771</td>\n",
       "      <td>8302.319699</td>\n",
       "      <td>500.0</td>\n",
       "      <td>7500.0</td>\n",
       "      <td>12000.0</td>\n",
       "      <td>19225.0</td>\n",
       "      <td>40000.0</td>\n",
       "    </tr>\n",
       "  </tbody>\n",
       "</table>\n",
       "</div>"
      ],
      "text/plain": [
       "                count          mean          std     min     25%      50%  \\\n",
       "loan_status                                                                 \n",
       "Charged Off   77673.0  15126.300967  8505.090557  1000.0  8525.0  14000.0   \n",
       "Fully Paid   318357.0  13866.878771  8302.319699   500.0  7500.0  12000.0   \n",
       "\n",
       "                 75%      max  \n",
       "loan_status                    \n",
       "Charged Off  20000.0  40000.0  \n",
       "Fully Paid   19225.0  40000.0  "
      ]
     },
     "execution_count": 16,
     "metadata": {},
     "output_type": "execute_result"
    }
   ],
   "source": [
    "df.groupby(\"loan_status\")[\"loan_amnt\"].describe()"
   ]
  },
  {
   "cell_type": "markdown",
   "id": "00228c69",
   "metadata": {},
   "source": [
    "__Task__: Let's explore the Grade and SubGrade columns that LendingClub attributes to the loans. What are the unique possible grades and subgrades?"
   ]
  },
  {
   "cell_type": "code",
   "execution_count": 17,
   "id": "2e96738c",
   "metadata": {},
   "outputs": [
    {
     "data": {
      "text/html": [
       "<div>\n",
       "<style scoped>\n",
       "    .dataframe tbody tr th:only-of-type {\n",
       "        vertical-align: middle;\n",
       "    }\n",
       "\n",
       "    .dataframe tbody tr th {\n",
       "        vertical-align: top;\n",
       "    }\n",
       "\n",
       "    .dataframe thead th {\n",
       "        text-align: right;\n",
       "    }\n",
       "</style>\n",
       "<table border=\"1\" class=\"dataframe\">\n",
       "  <thead>\n",
       "    <tr style=\"text-align: right;\">\n",
       "      <th></th>\n",
       "      <th>loan_amnt</th>\n",
       "      <th>term</th>\n",
       "      <th>int_rate</th>\n",
       "      <th>installment</th>\n",
       "      <th>grade</th>\n",
       "      <th>sub_grade</th>\n",
       "      <th>emp_title</th>\n",
       "      <th>emp_length</th>\n",
       "      <th>home_ownership</th>\n",
       "      <th>annual_inc</th>\n",
       "      <th>...</th>\n",
       "      <th>open_acc</th>\n",
       "      <th>pub_rec</th>\n",
       "      <th>revol_bal</th>\n",
       "      <th>revol_util</th>\n",
       "      <th>total_acc</th>\n",
       "      <th>initial_list_status</th>\n",
       "      <th>application_type</th>\n",
       "      <th>mort_acc</th>\n",
       "      <th>pub_rec_bankruptcies</th>\n",
       "      <th>address</th>\n",
       "    </tr>\n",
       "  </thead>\n",
       "  <tbody>\n",
       "    <tr>\n",
       "      <th>0</th>\n",
       "      <td>10000.0</td>\n",
       "      <td>36 months</td>\n",
       "      <td>11.44</td>\n",
       "      <td>329.48</td>\n",
       "      <td>B</td>\n",
       "      <td>B4</td>\n",
       "      <td>Marketing</td>\n",
       "      <td>10+ years</td>\n",
       "      <td>RENT</td>\n",
       "      <td>117000.0</td>\n",
       "      <td>...</td>\n",
       "      <td>16.0</td>\n",
       "      <td>0.0</td>\n",
       "      <td>36369.0</td>\n",
       "      <td>41.8</td>\n",
       "      <td>25.0</td>\n",
       "      <td>w</td>\n",
       "      <td>INDIVIDUAL</td>\n",
       "      <td>0.0</td>\n",
       "      <td>0.0</td>\n",
       "      <td>0174 Michelle Gateway\\nMendozaberg, OK 22690</td>\n",
       "    </tr>\n",
       "    <tr>\n",
       "      <th>1</th>\n",
       "      <td>8000.0</td>\n",
       "      <td>36 months</td>\n",
       "      <td>11.99</td>\n",
       "      <td>265.68</td>\n",
       "      <td>B</td>\n",
       "      <td>B5</td>\n",
       "      <td>Credit analyst</td>\n",
       "      <td>4 years</td>\n",
       "      <td>MORTGAGE</td>\n",
       "      <td>65000.0</td>\n",
       "      <td>...</td>\n",
       "      <td>17.0</td>\n",
       "      <td>0.0</td>\n",
       "      <td>20131.0</td>\n",
       "      <td>53.3</td>\n",
       "      <td>27.0</td>\n",
       "      <td>f</td>\n",
       "      <td>INDIVIDUAL</td>\n",
       "      <td>3.0</td>\n",
       "      <td>0.0</td>\n",
       "      <td>1076 Carney Fort Apt. 347\\nLoganmouth, SD 05113</td>\n",
       "    </tr>\n",
       "    <tr>\n",
       "      <th>2</th>\n",
       "      <td>15600.0</td>\n",
       "      <td>36 months</td>\n",
       "      <td>10.49</td>\n",
       "      <td>506.97</td>\n",
       "      <td>B</td>\n",
       "      <td>B3</td>\n",
       "      <td>Statistician</td>\n",
       "      <td>&lt; 1 year</td>\n",
       "      <td>RENT</td>\n",
       "      <td>43057.0</td>\n",
       "      <td>...</td>\n",
       "      <td>13.0</td>\n",
       "      <td>0.0</td>\n",
       "      <td>11987.0</td>\n",
       "      <td>92.2</td>\n",
       "      <td>26.0</td>\n",
       "      <td>f</td>\n",
       "      <td>INDIVIDUAL</td>\n",
       "      <td>0.0</td>\n",
       "      <td>0.0</td>\n",
       "      <td>87025 Mark Dale Apt. 269\\nNew Sabrina, WV 05113</td>\n",
       "    </tr>\n",
       "    <tr>\n",
       "      <th>3</th>\n",
       "      <td>7200.0</td>\n",
       "      <td>36 months</td>\n",
       "      <td>6.49</td>\n",
       "      <td>220.65</td>\n",
       "      <td>A</td>\n",
       "      <td>A2</td>\n",
       "      <td>Client Advocate</td>\n",
       "      <td>6 years</td>\n",
       "      <td>RENT</td>\n",
       "      <td>54000.0</td>\n",
       "      <td>...</td>\n",
       "      <td>6.0</td>\n",
       "      <td>0.0</td>\n",
       "      <td>5472.0</td>\n",
       "      <td>21.5</td>\n",
       "      <td>13.0</td>\n",
       "      <td>f</td>\n",
       "      <td>INDIVIDUAL</td>\n",
       "      <td>0.0</td>\n",
       "      <td>0.0</td>\n",
       "      <td>823 Reid Ford\\nDelacruzside, MA 00813</td>\n",
       "    </tr>\n",
       "    <tr>\n",
       "      <th>4</th>\n",
       "      <td>24375.0</td>\n",
       "      <td>60 months</td>\n",
       "      <td>17.27</td>\n",
       "      <td>609.33</td>\n",
       "      <td>C</td>\n",
       "      <td>C5</td>\n",
       "      <td>Destiny Management Inc.</td>\n",
       "      <td>9 years</td>\n",
       "      <td>MORTGAGE</td>\n",
       "      <td>55000.0</td>\n",
       "      <td>...</td>\n",
       "      <td>13.0</td>\n",
       "      <td>0.0</td>\n",
       "      <td>24584.0</td>\n",
       "      <td>69.8</td>\n",
       "      <td>43.0</td>\n",
       "      <td>f</td>\n",
       "      <td>INDIVIDUAL</td>\n",
       "      <td>1.0</td>\n",
       "      <td>0.0</td>\n",
       "      <td>679 Luna Roads\\nGreggshire, VA 11650</td>\n",
       "    </tr>\n",
       "  </tbody>\n",
       "</table>\n",
       "<p>5 rows × 27 columns</p>\n",
       "</div>"
      ],
      "text/plain": [
       "   loan_amnt        term  int_rate  installment grade sub_grade  \\\n",
       "0    10000.0   36 months     11.44       329.48     B        B4   \n",
       "1     8000.0   36 months     11.99       265.68     B        B5   \n",
       "2    15600.0   36 months     10.49       506.97     B        B3   \n",
       "3     7200.0   36 months      6.49       220.65     A        A2   \n",
       "4    24375.0   60 months     17.27       609.33     C        C5   \n",
       "\n",
       "                 emp_title emp_length home_ownership  annual_inc  ...  \\\n",
       "0                Marketing  10+ years           RENT    117000.0  ...   \n",
       "1          Credit analyst     4 years       MORTGAGE     65000.0  ...   \n",
       "2             Statistician   < 1 year           RENT     43057.0  ...   \n",
       "3          Client Advocate    6 years           RENT     54000.0  ...   \n",
       "4  Destiny Management Inc.    9 years       MORTGAGE     55000.0  ...   \n",
       "\n",
       "  open_acc pub_rec revol_bal revol_util total_acc  initial_list_status  \\\n",
       "0     16.0     0.0   36369.0       41.8      25.0                    w   \n",
       "1     17.0     0.0   20131.0       53.3      27.0                    f   \n",
       "2     13.0     0.0   11987.0       92.2      26.0                    f   \n",
       "3      6.0     0.0    5472.0       21.5      13.0                    f   \n",
       "4     13.0     0.0   24584.0       69.8      43.0                    f   \n",
       "\n",
       "  application_type  mort_acc  pub_rec_bankruptcies  \\\n",
       "0       INDIVIDUAL       0.0                   0.0   \n",
       "1       INDIVIDUAL       3.0                   0.0   \n",
       "2       INDIVIDUAL       0.0                   0.0   \n",
       "3       INDIVIDUAL       0.0                   0.0   \n",
       "4       INDIVIDUAL       1.0                   0.0   \n",
       "\n",
       "                                           address  \n",
       "0     0174 Michelle Gateway\\nMendozaberg, OK 22690  \n",
       "1  1076 Carney Fort Apt. 347\\nLoganmouth, SD 05113  \n",
       "2  87025 Mark Dale Apt. 269\\nNew Sabrina, WV 05113  \n",
       "3            823 Reid Ford\\nDelacruzside, MA 00813  \n",
       "4             679 Luna Roads\\nGreggshire, VA 11650  \n",
       "\n",
       "[5 rows x 27 columns]"
      ]
     },
     "execution_count": 17,
     "metadata": {},
     "output_type": "execute_result"
    }
   ],
   "source": [
    "df.head()"
   ]
  },
  {
   "cell_type": "code",
   "execution_count": 18,
   "id": "0432db47",
   "metadata": {},
   "outputs": [
    {
     "data": {
      "text/plain": [
       "array(['A', 'B', 'C', 'D', 'E', 'F', 'G'], dtype=object)"
      ]
     },
     "execution_count": 18,
     "metadata": {},
     "output_type": "execute_result"
    }
   ],
   "source": [
    "import numpy as np\n",
    "np.sort(df[\"grade\"].unique())"
   ]
  },
  {
   "cell_type": "code",
   "execution_count": 19,
   "id": "ee3c1e17",
   "metadata": {},
   "outputs": [
    {
     "data": {
      "text/plain": [
       "array(['A1', 'A2', 'A3', 'A4', 'A5', 'B1', 'B2', 'B3', 'B4', 'B5', 'C1',\n",
       "       'C2', 'C3', 'C4', 'C5', 'D1', 'D2', 'D3', 'D4', 'D5', 'E1', 'E2',\n",
       "       'E3', 'E4', 'E5', 'F1', 'F2', 'F3', 'F4', 'F5', 'G1', 'G2', 'G3',\n",
       "       'G4', 'G5'], dtype=object)"
      ]
     },
     "execution_count": 19,
     "metadata": {},
     "output_type": "execute_result"
    }
   ],
   "source": [
    "np.sort(df[\"sub_grade\"].unique())"
   ]
  },
  {
   "cell_type": "markdown",
   "id": "a3ebca13",
   "metadata": {},
   "source": [
    "__Task__: Create a countplot per grade. Set the hue to the loan_status label."
   ]
  },
  {
   "cell_type": "code",
   "execution_count": 20,
   "id": "797afb50",
   "metadata": {},
   "outputs": [
    {
     "data": {
      "text/plain": [
       "<Axes: xlabel='grade', ylabel='count'>"
      ]
     },
     "execution_count": 20,
     "metadata": {},
     "output_type": "execute_result"
    },
    {
     "data": {
      "image/png": "[encoded data removed]",
      "text/plain": [
       "<Figure size 640x480 with 1 Axes>"
      ]
     },
     "metadata": {},
     "output_type": "display_data"
    }
   ],
   "source": [
    "sns.countplot(x=\"grade\", hue=\"loan_status\", data=df)"
   ]
  },
  {
   "cell_type": "markdown",
   "id": "4f58a51d",
   "metadata": {},
   "source": [
    "__Task__: Display a count plot per subgrade. You may need to resize for this plot and reorder the x axis. Feel free to edit the color palette. Explore both all loans made per subgrade as well being separated based on the loan_status. After creating this plot, go ahead and create a similar plot, but set hue=\"loan_status\""
   ]
  },
  {
   "cell_type": "code",
   "execution_count": 21,
   "id": "e2c6ca48",
   "metadata": {},
   "outputs": [
    {
     "data": {
      "text/plain": [
       "<Axes: xlabel='sub_grade', ylabel='count'>"
      ]
     },
     "execution_count": 21,
     "metadata": {},
     "output_type": "execute_result"
    },
    {
     "data": {
      "image/png": "[encoded data removed]",
      "text/plain": [
       "<Figure size 1200x600 with 1 Axes>"
      ]
     },
     "metadata": {},
     "output_type": "display_data"
    }
   ],
   "source": [
    "import matplotlib.pyplot as plt\n",
    "plt.figure(figsize=(12,6))\n",
    "sns.countplot(x=\"sub_grade\", data=df, palette=\"coolwarm\", order=np.sort(df[\"sub_grade\"].unique()))"
   ]
  },
  {
   "cell_type": "code",
   "execution_count": 22,
   "id": "5424f22a",
   "metadata": {},
   "outputs": [
    {
     "data": {
      "text/plain": [
       "<Axes: xlabel='sub_grade', ylabel='count'>"
      ]
     },
     "execution_count": 22,
     "metadata": {},
     "output_type": "execute_result"
    },
    {
     "data": {
      "image/png": "[encoded data removed]",
      "text/plain": [
       "<Figure size 1200x600 with 1 Axes>"
      ]
     },
     "metadata": {},
     "output_type": "display_data"
    }
   ],
   "source": [
    "plt.figure(figsize=(12,6))\n",
    "sns.countplot(x=\"sub_grade\", hue=\"loan_status\", data=df, palette=\"coolwarm\", order=np.sort(df[\"sub_grade\"].unique()))"
   ]
  },
  {
   "cell_type": "markdown",
   "id": "97d2fa94",
   "metadata": {},
   "source": [
    "__Task__: It looks like F and G subgrades don't get paid back that often. Isolate those and recreate the countplot just for those subgrades"
   ]
  },
  {
   "cell_type": "code",
   "execution_count": 23,
   "id": "195753b6",
   "metadata": {},
   "outputs": [
    {
     "data": {
      "text/plain": [
       "<Axes: xlabel='sub_grade', ylabel='count'>"
      ]
     },
     "execution_count": 23,
     "metadata": {},
     "output_type": "execute_result"
    },
    {
     "data": {
      "image/png": "[encoded data removed]",
      "text/plain": [
       "<Figure size 1200x600 with 1 Axes>"
      ]
     },
     "metadata": {},
     "output_type": "display_data"
    }
   ],
   "source": [
    "df_FG = df[(df[\"grade\"] == \"F\") | (df[\"grade\"] == \"G\")]\n",
    "plt.figure(figsize=(12,6))\n",
    "sns.countplot(x=\"sub_grade\", hue=\"loan_status\", data=df_FG, palette=\"coolwarm\", order=np.sort(df_FG[\"sub_grade\"].unique()))"
   ]
  },
  {
   "cell_type": "markdown",
   "id": "d894eafa",
   "metadata": {},
   "source": [
    "__Task__: Create a new column called 'loan_repaid' which will contain a 1 if the loan status was \"Fully Paid\" and a 0 if it was \"Charged Off\"."
   ]
  },
  {
   "cell_type": "code",
   "execution_count": 24,
   "id": "62acc6c2",
   "metadata": {},
   "outputs": [
    {
     "data": {
      "text/html": [
       "<div>\n",
       "<style scoped>\n",
       "    .dataframe tbody tr th:only-of-type {\n",
       "        vertical-align: middle;\n",
       "    }\n",
       "\n",
       "    .dataframe tbody tr th {\n",
       "        vertical-align: top;\n",
       "    }\n",
       "\n",
       "    .dataframe thead th {\n",
       "        text-align: right;\n",
       "    }\n",
       "</style>\n",
       "<table border=\"1\" class=\"dataframe\">\n",
       "  <thead>\n",
       "    <tr style=\"text-align: right;\">\n",
       "      <th></th>\n",
       "      <th>loan_amnt</th>\n",
       "      <th>term</th>\n",
       "      <th>int_rate</th>\n",
       "      <th>installment</th>\n",
       "      <th>grade</th>\n",
       "      <th>sub_grade</th>\n",
       "      <th>emp_title</th>\n",
       "      <th>emp_length</th>\n",
       "      <th>home_ownership</th>\n",
       "      <th>annual_inc</th>\n",
       "      <th>...</th>\n",
       "      <th>pub_rec</th>\n",
       "      <th>revol_bal</th>\n",
       "      <th>revol_util</th>\n",
       "      <th>total_acc</th>\n",
       "      <th>initial_list_status</th>\n",
       "      <th>application_type</th>\n",
       "      <th>mort_acc</th>\n",
       "      <th>pub_rec_bankruptcies</th>\n",
       "      <th>address</th>\n",
       "      <th>loan_repaid</th>\n",
       "    </tr>\n",
       "  </thead>\n",
       "  <tbody>\n",
       "    <tr>\n",
       "      <th>0</th>\n",
       "      <td>10000.0</td>\n",
       "      <td>36 months</td>\n",
       "      <td>11.44</td>\n",
       "      <td>329.48</td>\n",
       "      <td>B</td>\n",
       "      <td>B4</td>\n",
       "      <td>Marketing</td>\n",
       "      <td>10+ years</td>\n",
       "      <td>RENT</td>\n",
       "      <td>117000.0</td>\n",
       "      <td>...</td>\n",
       "      <td>0.0</td>\n",
       "      <td>36369.0</td>\n",
       "      <td>41.8</td>\n",
       "      <td>25.0</td>\n",
       "      <td>w</td>\n",
       "      <td>INDIVIDUAL</td>\n",
       "      <td>0.0</td>\n",
       "      <td>0.0</td>\n",
       "      <td>0174 Michelle Gateway\\nMendozaberg, OK 22690</td>\n",
       "      <td>True</td>\n",
       "    </tr>\n",
       "    <tr>\n",
       "      <th>1</th>\n",
       "      <td>8000.0</td>\n",
       "      <td>36 months</td>\n",
       "      <td>11.99</td>\n",
       "      <td>265.68</td>\n",
       "      <td>B</td>\n",
       "      <td>B5</td>\n",
       "      <td>Credit analyst</td>\n",
       "      <td>4 years</td>\n",
       "      <td>MORTGAGE</td>\n",
       "      <td>65000.0</td>\n",
       "      <td>...</td>\n",
       "      <td>0.0</td>\n",
       "      <td>20131.0</td>\n",
       "      <td>53.3</td>\n",
       "      <td>27.0</td>\n",
       "      <td>f</td>\n",
       "      <td>INDIVIDUAL</td>\n",
       "      <td>3.0</td>\n",
       "      <td>0.0</td>\n",
       "      <td>1076 Carney Fort Apt. 347\\nLoganmouth, SD 05113</td>\n",
       "      <td>True</td>\n",
       "    </tr>\n",
       "    <tr>\n",
       "      <th>2</th>\n",
       "      <td>15600.0</td>\n",
       "      <td>36 months</td>\n",
       "      <td>10.49</td>\n",
       "      <td>506.97</td>\n",
       "      <td>B</td>\n",
       "      <td>B3</td>\n",
       "      <td>Statistician</td>\n",
       "      <td>&lt; 1 year</td>\n",
       "      <td>RENT</td>\n",
       "      <td>43057.0</td>\n",
       "      <td>...</td>\n",
       "      <td>0.0</td>\n",
       "      <td>11987.0</td>\n",
       "      <td>92.2</td>\n",
       "      <td>26.0</td>\n",
       "      <td>f</td>\n",
       "      <td>INDIVIDUAL</td>\n",
       "      <td>0.0</td>\n",
       "      <td>0.0</td>\n",
       "      <td>87025 Mark Dale Apt. 269\\nNew Sabrina, WV 05113</td>\n",
       "      <td>True</td>\n",
       "    </tr>\n",
       "    <tr>\n",
       "      <th>3</th>\n",
       "      <td>7200.0</td>\n",
       "      <td>36 months</td>\n",
       "      <td>6.49</td>\n",
       "      <td>220.65</td>\n",
       "      <td>A</td>\n",
       "      <td>A2</td>\n",
       "      <td>Client Advocate</td>\n",
       "      <td>6 years</td>\n",
       "      <td>RENT</td>\n",
       "      <td>54000.0</td>\n",
       "      <td>...</td>\n",
       "      <td>0.0</td>\n",
       "      <td>5472.0</td>\n",
       "      <td>21.5</td>\n",
       "      <td>13.0</td>\n",
       "      <td>f</td>\n",
       "      <td>INDIVIDUAL</td>\n",
       "      <td>0.0</td>\n",
       "      <td>0.0</td>\n",
       "      <td>823 Reid Ford\\nDelacruzside, MA 00813</td>\n",
       "      <td>True</td>\n",
       "    </tr>\n",
       "    <tr>\n",
       "      <th>4</th>\n",
       "      <td>24375.0</td>\n",
       "      <td>60 months</td>\n",
       "      <td>17.27</td>\n",
       "      <td>609.33</td>\n",
       "      <td>C</td>\n",
       "      <td>C5</td>\n",
       "      <td>Destiny Management Inc.</td>\n",
       "      <td>9 years</td>\n",
       "      <td>MORTGAGE</td>\n",
       "      <td>55000.0</td>\n",
       "      <td>...</td>\n",
       "      <td>0.0</td>\n",
       "      <td>24584.0</td>\n",
       "      <td>69.8</td>\n",
       "      <td>43.0</td>\n",
       "      <td>f</td>\n",
       "      <td>INDIVIDUAL</td>\n",
       "      <td>1.0</td>\n",
       "      <td>0.0</td>\n",
       "      <td>679 Luna Roads\\nGreggshire, VA 11650</td>\n",
       "      <td>False</td>\n",
       "    </tr>\n",
       "  </tbody>\n",
       "</table>\n",
       "<p>5 rows × 28 columns</p>\n",
       "</div>"
      ],
      "text/plain": [
       "   loan_amnt        term  int_rate  installment grade sub_grade  \\\n",
       "0    10000.0   36 months     11.44       329.48     B        B4   \n",
       "1     8000.0   36 months     11.99       265.68     B        B5   \n",
       "2    15600.0   36 months     10.49       506.97     B        B3   \n",
       "3     7200.0   36 months      6.49       220.65     A        A2   \n",
       "4    24375.0   60 months     17.27       609.33     C        C5   \n",
       "\n",
       "                 emp_title emp_length home_ownership  annual_inc  ... pub_rec  \\\n",
       "0                Marketing  10+ years           RENT    117000.0  ...     0.0   \n",
       "1          Credit analyst     4 years       MORTGAGE     65000.0  ...     0.0   \n",
       "2             Statistician   < 1 year           RENT     43057.0  ...     0.0   \n",
       "3          Client Advocate    6 years           RENT     54000.0  ...     0.0   \n",
       "4  Destiny Management Inc.    9 years       MORTGAGE     55000.0  ...     0.0   \n",
       "\n",
       "  revol_bal revol_util total_acc initial_list_status  application_type  \\\n",
       "0   36369.0       41.8      25.0                   w        INDIVIDUAL   \n",
       "1   20131.0       53.3      27.0                   f        INDIVIDUAL   \n",
       "2   11987.0       92.2      26.0                   f        INDIVIDUAL   \n",
       "3    5472.0       21.5      13.0                   f        INDIVIDUAL   \n",
       "4   24584.0       69.8      43.0                   f        INDIVIDUAL   \n",
       "\n",
       "  mort_acc  pub_rec_bankruptcies  \\\n",
       "0      0.0                   0.0   \n",
       "1      3.0                   0.0   \n",
       "2      0.0                   0.0   \n",
       "3      0.0                   0.0   \n",
       "4      1.0                   0.0   \n",
       "\n",
       "                                           address  loan_repaid  \n",
       "0     0174 Michelle Gateway\\nMendozaberg, OK 22690         True  \n",
       "1  1076 Carney Fort Apt. 347\\nLoganmouth, SD 05113         True  \n",
       "2  87025 Mark Dale Apt. 269\\nNew Sabrina, WV 05113         True  \n",
       "3            823 Reid Ford\\nDelacruzside, MA 00813         True  \n",
       "4             679 Luna Roads\\nGreggshire, VA 11650        False  \n",
       "\n",
       "[5 rows x 28 columns]"
      ]
     },
     "execution_count": 24,
     "metadata": {},
     "output_type": "execute_result"
    }
   ],
   "source": [
    "df[\"loan_repaid\"] = pd.get_dummies(df[\"loan_status\"], drop_first=True)\n",
    "df.head()"
   ]
  },
  {
   "cell_type": "markdown",
   "id": "4fe6aec2",
   "metadata": {},
   "source": [
    "__Challenge Task: Create a bar plot showing the correlation of the numeric features to the new loan_repaid column.__"
   ]
  },
  {
   "cell_type": "code",
   "execution_count": 25,
   "id": "793c22a3",
   "metadata": {},
   "outputs": [
    {
     "name": "stderr",
     "output_type": "stream",
     "text": [
      "C:\\Users\\Owner\\AppData\\Local\\Temp\\ipykernel_6204\\1534357370.py:21: FutureWarning: Downcasting behavior in `replace` is deprecated and will be removed in a future version. To retain the old behavior, explicitly call `result.infer_objects(copy=False)`. To opt-in to the future behavior, set `pd.set_option('future.no_silent_downcasting', True)`\n",
      "  df['emp_length'] = df['emp_length'].replace({'< 1 year': 0, '1 year': 1, '2 years': 2, '3 years': 3, '4 years': 4, '5 years': 5, '6 years': 6, '7 years': 7, '8 years': 8, '9 years': 9, '10+ years': 10})\n"
     ]
    },
    {
     "data": {
      "image/png": "[encoded data removed]",
      "text/plain": [
       "<Figure size 640x480 with 1 Axes>"
      ]
     },
     "metadata": {},
     "output_type": "display_data"
    }
   ],
   "source": [
    "import pandas as pd\n",
    "import seaborn as sns\n",
    "import matplotlib.pyplot as plt\n",
    "from sklearn.preprocessing import LabelEncoder\n",
    "\n",
    "# Read the CSV file into a DataFrame\n",
    "df = pd.read_csv('C:/Users/Owner/anaconda3/envs/tf-gpu/lending_club_loan_two.csv')\n",
    "\n",
    "# Drop rows with missing values in the DataFrame\n",
    "df.dropna(inplace=True)\n",
    "\n",
    "# Preprocess 'term' column\n",
    "df['term'] = df['term'].astype(str).str.replace(' months', '').astype(int)\n",
    "\n",
    "# Apply label encoding to 'grade' and 'sub_grade' columns\n",
    "label_encoder = LabelEncoder()\n",
    "df['grade'] = label_encoder.fit_transform(df['grade'])\n",
    "df['sub_grade'] = label_encoder.fit_transform(df['sub_grade'])\n",
    "\n",
    "# Apply label encoding to 'emp_length' column\n",
    "df['emp_length'] = df['emp_length'].replace({'< 1 year': 0, '1 year': 1, '2 years': 2, '3 years': 3, '4 years': 4, '5 years': 5, '6 years': 6, '7 years': 7, '8 years': 8, '9 years': 9, '10+ years': 10})\n",
    "\n",
    "# Convert 'earliest_cr_line' to year\n",
    "df['earliest_cr_line'] = pd.to_datetime(df['earliest_cr_line'], format='%b-%Y').dt.year\n",
    "\n",
    "# Extract year from 'issue_d' and convert to integer\n",
    "df['issue_year'] = pd.to_datetime(df['issue_d'], format='%b-%Y').dt.year\n",
    "\n",
    "# Drop columns with non-numeric values\n",
    "non_numeric_cols = ['emp_title', 'home_ownership', 'verification_status', 'loan_status', 'purpose', 'title', 'initial_list_status', 'application_type', 'address', 'issue_d']\n",
    "df.drop(non_numeric_cols, axis=1, inplace=True)\n",
    "\n",
    "# Check if target variable exists\n",
    "target_variable = 'loan_repaid'\n",
    "if target_variable in df.columns:\n",
    "    # Plot correlation for target variable\n",
    "    df.corr()[target_variable][:-1].sort_values().plot(kind=\"bar\")\n",
    "else:\n",
    "    # Plot correlation among all numeric features\n",
    "    df.corr().plot(kind=\"bar\")\n",
    "\n",
    "plt.show()"
   ]
  },
  {
   "cell_type": "markdown",
   "id": "47d09144",
   "metadata": {},
   "source": [
    "__Segment 2: Data PreProcessing__"
   ]
  },
  {
   "cell_type": "markdown",
   "id": "114fee11",
   "metadata": {},
   "source": [
    "__Segment Goals__: Remove or fill any missing data. Remove unnecessary or repetitive features. Convert categorical string features to dummy variables."
   ]
  },
  {
   "cell_type": "code",
   "execution_count": 26,
   "id": "8d50a75b",
   "metadata": {},
   "outputs": [
    {
     "data": {
      "text/plain": [
       "<bound method NDFrame.head of         loan_amnt  term  int_rate  installment  grade  sub_grade  emp_length  \\\n",
       "0         10000.0    36     11.44       329.48      1          8          10   \n",
       "1          8000.0    36     11.99       265.68      1          9           4   \n",
       "2         15600.0    36     10.49       506.97      1          7           0   \n",
       "3          7200.0    36      6.49       220.65      0          1           6   \n",
       "4         24375.0    60     17.27       609.33      2         14           9   \n",
       "...           ...   ...       ...          ...    ...        ...         ...   \n",
       "396024     6000.0    36     13.11       202.49      1          8           5   \n",
       "396025    10000.0    60     10.99       217.38      1          8           2   \n",
       "396026    21000.0    36     12.29       700.42      2         10           5   \n",
       "396027     5000.0    36      9.99       161.32      1          5          10   \n",
       "396028    21000.0    60     15.31       503.02      2         11          10   \n",
       "\n",
       "        annual_inc    dti  earliest_cr_line  open_acc  pub_rec  revol_bal  \\\n",
       "0         117000.0  26.24              1990      16.0      0.0    36369.0   \n",
       "1          65000.0  22.05              2004      17.0      0.0    20131.0   \n",
       "2          43057.0  12.79              2007      13.0      0.0    11987.0   \n",
       "3          54000.0   2.60              2006       6.0      0.0     5472.0   \n",
       "4          55000.0  33.95              1999      13.0      0.0    24584.0   \n",
       "...            ...    ...               ...       ...      ...        ...   \n",
       "396024     64000.0  10.81              1991       7.0      0.0    11456.0   \n",
       "396025     40000.0  15.63              2004       6.0      0.0     1990.0   \n",
       "396026    110000.0  21.45              2006       6.0      0.0    43263.0   \n",
       "396027     56500.0  17.56              1997      15.0      0.0    32704.0   \n",
       "396028     64000.0  15.88              1990       9.0      0.0    15704.0   \n",
       "\n",
       "        revol_util  total_acc  mort_acc  pub_rec_bankruptcies  issue_year  \n",
       "0             41.8       25.0       0.0                   0.0        2015  \n",
       "1             53.3       27.0       3.0                   0.0        2015  \n",
       "2             92.2       26.0       0.0                   0.0        2015  \n",
       "3             21.5       13.0       0.0                   0.0        2014  \n",
       "4             69.8       43.0       1.0                   0.0        2013  \n",
       "...            ...        ...       ...                   ...         ...  \n",
       "396024        97.1        9.0       0.0                   0.0        2013  \n",
       "396025        34.3       23.0       0.0                   0.0        2015  \n",
       "396026        95.7        8.0       1.0                   0.0        2015  \n",
       "396027        66.9       23.0       0.0                   0.0        2013  \n",
       "396028        53.8       20.0       5.0                   0.0        2012  \n",
       "\n",
       "[335867 rows x 18 columns]>"
      ]
     },
     "execution_count": 26,
     "metadata": {},
     "output_type": "execute_result"
    }
   ],
   "source": [
    "df.head"
   ]
  },
  {
   "cell_type": "markdown",
   "id": "8d5fdaf0",
   "metadata": {},
   "source": [
    "__Missing Data__"
   ]
  },
  {
   "cell_type": "markdown",
   "id": "e54db3a5",
   "metadata": {},
   "source": [
    "Let's explore the missing data columns. We use a variety of factors to decide whether or not they would be useful, to see if we should keep, discard or fill in the missing data."
   ]
  },
  {
   "cell_type": "markdown",
   "id": "b966f1b8",
   "metadata": {},
   "source": [
    "__Task__: What is the length of the dataframe?"
   ]
  },
  {
   "cell_type": "code",
   "execution_count": 27,
   "id": "ad893fd2",
   "metadata": {},
   "outputs": [
    {
     "data": {
      "text/plain": [
       "396030"
      ]
     },
     "execution_count": 27,
     "metadata": {},
     "output_type": "execute_result"
    }
   ],
   "source": [
    "import pandas as pd\n",
    "df = pd.read_csv('C:/Users/Owner/anaconda3/envs/tf-gpu/lending_club_loan_two.csv')\n",
    "len(df)"
   ]
  },
  {
   "cell_type": "markdown",
   "id": "0b761616",
   "metadata": {},
   "source": [
    "__Task__: Create a Series that displays the total count of missing values per column."
   ]
  },
  {
   "cell_type": "code",
   "execution_count": 28,
   "id": "06b8da13",
   "metadata": {},
   "outputs": [
    {
     "data": {
      "text/plain": [
       "loan_amnt                   0\n",
       "term                        0\n",
       "int_rate                    0\n",
       "installment                 0\n",
       "grade                       0\n",
       "sub_grade                   0\n",
       "emp_title               22927\n",
       "emp_length              18301\n",
       "home_ownership              0\n",
       "annual_inc                  0\n",
       "verification_status         0\n",
       "issue_d                     0\n",
       "loan_status                 0\n",
       "purpose                     0\n",
       "title                    1756\n",
       "dti                         0\n",
       "earliest_cr_line            0\n",
       "open_acc                    0\n",
       "pub_rec                     0\n",
       "revol_bal                   0\n",
       "revol_util                276\n",
       "total_acc                   0\n",
       "initial_list_status         0\n",
       "application_type            0\n",
       "mort_acc                37795\n",
       "pub_rec_bankruptcies      535\n",
       "address                     0\n",
       "dtype: int64"
      ]
     },
     "execution_count": 28,
     "metadata": {},
     "output_type": "execute_result"
    }
   ],
   "source": [
    "df.isnull().sum()"
   ]
  },
  {
   "cell_type": "markdown",
   "id": "5ea6be99",
   "metadata": {},
   "source": [
    "__Task__: Convert this Series to be in term of percentage of the total DataFrame"
   ]
  },
  {
   "cell_type": "code",
   "execution_count": 29,
   "id": "7a19a414",
   "metadata": {},
   "outputs": [
    {
     "data": {
      "text/plain": [
       "loan_amnt               0.000000\n",
       "term                    0.000000\n",
       "int_rate                0.000000\n",
       "installment             0.000000\n",
       "grade                   0.000000\n",
       "sub_grade               0.000000\n",
       "emp_title               0.057892\n",
       "emp_length              0.046211\n",
       "home_ownership          0.000000\n",
       "annual_inc              0.000000\n",
       "verification_status     0.000000\n",
       "issue_d                 0.000000\n",
       "loan_status             0.000000\n",
       "purpose                 0.000000\n",
       "title                   0.004434\n",
       "dti                     0.000000\n",
       "earliest_cr_line        0.000000\n",
       "open_acc                0.000000\n",
       "pub_rec                 0.000000\n",
       "revol_bal               0.000000\n",
       "revol_util              0.000697\n",
       "total_acc               0.000000\n",
       "initial_list_status     0.000000\n",
       "application_type        0.000000\n",
       "mort_acc                0.095435\n",
       "pub_rec_bankruptcies    0.001351\n",
       "address                 0.000000\n",
       "dtype: float64"
      ]
     },
     "execution_count": 29,
     "metadata": {},
     "output_type": "execute_result"
    }
   ],
   "source": [
    "import pandas as pd\n",
    "df = pd.read_csv('C:/Users/Owner/anaconda3/envs/tf-gpu/lending_club_loan_two.csv')\n",
    "df.isnull().mean()"
   ]
  },
  {
   "cell_type": "markdown",
   "id": "8a381a75",
   "metadata": {},
   "source": [
    "__Task__: Let's examine emp_title and emp_length to see whether it will be okay to drop them. Print out their feature information using the feat_info() function from the top of this notebook"
   ]
  },
  {
   "cell_type": "code",
   "execution_count": 30,
   "id": "115d63ec",
   "metadata": {},
   "outputs": [
    {
     "name": "stdout",
     "output_type": "stream",
     "text": [
      "Employer title\n",
      "\n",
      "Employment length in years\n"
     ]
    }
   ],
   "source": [
    "import pandas as pd\n",
    "df = pd.read_csv('C:/Users/Owner/anaconda3/envs/tf-gpu/lending_club_loan_two.csv')\n",
    "def feat_info(feature_name):\n",
    "    # Define a dictionary containing information about features\n",
    "    feature_info = {\n",
    "        'emp_title': 'Employer title',\n",
    "        'emp_length': 'Employment length in years',\n",
    "        # Add more feature descriptions as needed\n",
    "    }\n",
    "    \n",
    "    # Print information about the specified feature\n",
    "    print(feature_info.get(feature_name, 'Feature not found'))\n",
    "\n",
    "# Now you can use the feat_info function\n",
    "feat_info(\"emp_title\")\n",
    "print()\n",
    "feat_info(\"emp_length\")"
   ]
  },
  {
   "cell_type": "markdown",
   "id": "35b4068e",
   "metadata": {},
   "source": [
    "__Task__: How many unique employment job titles are there?"
   ]
  },
  {
   "cell_type": "code",
   "execution_count": 31,
   "id": "8267a16d",
   "metadata": {},
   "outputs": [
    {
     "data": {
      "text/plain": [
       "173105"
      ]
     },
     "execution_count": 31,
     "metadata": {},
     "output_type": "execute_result"
    }
   ],
   "source": [
    "df[\"emp_title\"].nunique()"
   ]
  },
  {
   "cell_type": "code",
   "execution_count": 32,
   "id": "9ab4abbe",
   "metadata": {},
   "outputs": [
    {
     "data": {
      "text/plain": [
       "emp_title\n",
       "Teacher                    4389\n",
       "Manager                    4250\n",
       "Registered Nurse           1856\n",
       "RN                         1846\n",
       "Supervisor                 1830\n",
       "                           ... \n",
       "Postman                       1\n",
       "McCarthy & Holthus, LLC       1\n",
       "jp flooring                   1\n",
       "Histology Technologist        1\n",
       "Gracon Services, Inc          1\n",
       "Name: count, Length: 173105, dtype: int64"
      ]
     },
     "execution_count": 32,
     "metadata": {},
     "output_type": "execute_result"
    }
   ],
   "source": [
    "df[\"emp_title\"].value_counts()"
   ]
  },
  {
   "cell_type": "markdown",
   "id": "90dcd22f",
   "metadata": {},
   "source": [
    "__Task__: Realistically there are too many unique job titles to try to convert this to a dummy variable feature. Let's remove that emp_title column."
   ]
  },
  {
   "cell_type": "code",
   "execution_count": null,
   "id": "78f030fa",
   "metadata": {},
   "outputs": [],
   "source": [
    "df.drop(\"emp_title\", axis=1, inplace=True)"
   ]
  },
  {
   "cell_type": "markdown",
   "id": "79d3fcc1",
   "metadata": {},
   "source": [
    "__Task__: Create a count plot of the emp_length feature column. Challenge: Sort the order of the values."
   ]
  },
  {
   "cell_type": "code",
   "execution_count": 33,
   "id": "8b4e408e",
   "metadata": {},
   "outputs": [
    {
     "data": {
      "text/plain": [
       "array(['10+ years', '4 years', '< 1 year', '6 years', '9 years',\n",
       "       '2 years', '3 years', '8 years', '7 years', '5 years', '1 year'],\n",
       "      dtype=object)"
      ]
     },
     "execution_count": 33,
     "metadata": {},
     "output_type": "execute_result"
    }
   ],
   "source": [
    "df[\"emp_length\"].dropna().unique()"
   ]
  },
  {
   "cell_type": "code",
   "execution_count": 34,
   "id": "a97c6f7f",
   "metadata": {},
   "outputs": [
    {
     "data": {
      "text/plain": [
       "['1 year',\n",
       " '10+ years',\n",
       " '2 years',\n",
       " '3 years',\n",
       " '4 years',\n",
       " '5 years',\n",
       " '6 years',\n",
       " '7 years',\n",
       " '8 years',\n",
       " '9 years',\n",
       " '< 1 year']"
      ]
     },
     "execution_count": 34,
     "metadata": {},
     "output_type": "execute_result"
    }
   ],
   "source": [
    "sorted(df[\"emp_length\"].dropna().unique())"
   ]
  },
  {
   "cell_type": "code",
   "execution_count": 35,
   "id": "dd6259c8",
   "metadata": {},
   "outputs": [
    {
     "data": {
      "text/plain": [
       "<Axes: xlabel='emp_length', ylabel='count'>"
      ]
     },
     "execution_count": 35,
     "metadata": {},
     "output_type": "execute_result"
    },
    {
     "data": {
      "image/png": "[encoded data removed]",
      "text/plain": [
       "<Figure size 1000x600 with 1 Axes>"
      ]
     },
     "metadata": {},
     "output_type": "display_data"
    }
   ],
   "source": [
    "sort_emp = ['< 1 year',\n",
    "'1 year',\n",
    "'2 years',\n",
    "'3 years',\n",
    "'4 years',\n",
    "'5 years',\n",
    "'6 years',\n",
    "'7 years',\n",
    "'8 years',\n",
    "'9 years',\n",
    "'10+ years']\n",
    "import seaborn as sns\n",
    "import matplotlib.pyplot as plt\n",
    "plt.figure(figsize=(10,6))\n",
    "sns.countplot(x=\"emp_length\", data=df, order=sort_emp)"
   ]
  },
  {
   "cell_type": "markdown",
   "id": "28ab155e",
   "metadata": {},
   "source": [
    "__Task__: Plot out the countplot with a hue separating Fully Paid vs Charged Off"
   ]
  },
  {
   "cell_type": "code",
   "execution_count": 36,
   "id": "f8f449b8",
   "metadata": {},
   "outputs": [
    {
     "data": {
      "text/plain": [
       "<Axes: xlabel='emp_length', ylabel='count'>"
      ]
     },
     "execution_count": 36,
     "metadata": {},
     "output_type": "execute_result"
    },
    {
     "data": {
      "image/png": "[encoded data removed]",
      "text/plain": [
       "<Figure size 1200x400 with 1 Axes>"
      ]
     },
     "metadata": {},
     "output_type": "display_data"
    }
   ],
   "source": [
    "plt.figure(figsize=(12,4))\n",
    "sns.countplot(x=\"emp_length\", data=df, order=sort_emp, hue=\"loan_status\")"
   ]
  },
  {
   "cell_type": "markdown",
   "id": "f0dc2756",
   "metadata": {},
   "source": [
    "__Challenge Task__: This still doesn't really inform us if there is a strong relationship between employment length and being charged off, What we want is the percentage of charge offs per category. Esssentially informing us what percent of people per employment category didn't pay back their loan. The are a multitude of ways to create this series. Once you've created it visualize it with a bar plot."
   ]
  },
  {
   "cell_type": "code",
   "execution_count": 37,
   "id": "30342f35",
   "metadata": {},
   "outputs": [
    {
     "data": {
      "text/plain": [
       "emp_length\n",
       "1 year       0.248649\n",
       "10+ years    0.225770\n",
       "2 years      0.239560\n",
       "3 years      0.242593\n",
       "4 years      0.238213\n",
       "5 years      0.237911\n",
       "6 years      0.233341\n",
       "7 years      0.241887\n",
       "8 years      0.249625\n",
       "9 years      0.250735\n",
       "< 1 year     0.260830\n",
       "Name: loan_status, dtype: float64"
      ]
     },
     "execution_count": 37,
     "metadata": {},
     "output_type": "execute_result"
    }
   ],
   "source": [
    "emp_co = df[df[\"loan_status\"]==\"Charged Off\"]. groupby(\"emp_length\").count()[\"loan_status\"]\n",
    "emp_fp = df[df[\"loan_status\"]==\"Fully Paid\"].groupby(\"emp_length\").count()[\"loan_status\"]\n",
    "emp_co/emp_fp    \n",
    "    \n"
   ]
  },
  {
   "cell_type": "code",
   "execution_count": 38,
   "id": "2021e17a",
   "metadata": {},
   "outputs": [
    {
     "data": {
      "text/plain": [
       "<Axes: xlabel='emp_length'>"
      ]
     },
     "execution_count": 38,
     "metadata": {},
     "output_type": "execute_result"
    },
    {
     "data": {
      "image/png": "[encoded data removed]",
      "text/plain": [
       "<Figure size 640x480 with 1 Axes>"
      ]
     },
     "metadata": {},
     "output_type": "display_data"
    }
   ],
   "source": [
    "emp_len = emp_co / (emp_co + emp_fp)\n",
    "emp_len.plot(kind=\"bar\")"
   ]
  },
  {
   "cell_type": "markdown",
   "id": "34bb0095",
   "metadata": {},
   "source": [
    "__Task__: Charge off rates are extrememly similar across all employment lengths. Go ahead and drop the emp_length column."
   ]
  },
  {
   "cell_type": "code",
   "execution_count": null,
   "id": "12131bfc",
   "metadata": {},
   "outputs": [],
   "source": [
    "df.drop(\"emp_length\", axis=1, inplace=True)"
   ]
  },
  {
   "cell_type": "markdown",
   "id": "2110a504",
   "metadata": {},
   "source": [
    "__Task__: Revisit the Dataframe to see what feature columns still have missing data."
   ]
  },
  {
   "cell_type": "code",
   "execution_count": 39,
   "id": "b0a9e7f1",
   "metadata": {},
   "outputs": [
    {
     "data": {
      "text/plain": [
       "loan_amnt                   0\n",
       "term                        0\n",
       "int_rate                    0\n",
       "installment                 0\n",
       "grade                       0\n",
       "sub_grade                   0\n",
       "emp_title               22927\n",
       "emp_length              18301\n",
       "home_ownership              0\n",
       "annual_inc                  0\n",
       "verification_status         0\n",
       "issue_d                     0\n",
       "loan_status                 0\n",
       "purpose                     0\n",
       "title                    1756\n",
       "dti                         0\n",
       "earliest_cr_line            0\n",
       "open_acc                    0\n",
       "pub_rec                     0\n",
       "revol_bal                   0\n",
       "revol_util                276\n",
       "total_acc                   0\n",
       "initial_list_status         0\n",
       "application_type            0\n",
       "mort_acc                37795\n",
       "pub_rec_bankruptcies      535\n",
       "address                     0\n",
       "dtype: int64"
      ]
     },
     "execution_count": 39,
     "metadata": {},
     "output_type": "execute_result"
    }
   ],
   "source": [
    "df.isnull().sum()"
   ]
  },
  {
   "cell_type": "markdown",
   "id": "fd360ba5",
   "metadata": {},
   "source": [
    "__Task__: Review the title column vs the purpose column. Is this repeated infromation"
   ]
  },
  {
   "cell_type": "code",
   "execution_count": 40,
   "id": "d7693e88",
   "metadata": {},
   "outputs": [
    {
     "data": {
      "text/plain": [
       "0              vacation\n",
       "1    debt_consolidation\n",
       "2           credit_card\n",
       "3           credit_card\n",
       "4           credit_card\n",
       "Name: purpose, dtype: object"
      ]
     },
     "execution_count": 40,
     "metadata": {},
     "output_type": "execute_result"
    }
   ],
   "source": [
    "df[\"purpose\"].head()"
   ]
  },
  {
   "cell_type": "code",
   "execution_count": 41,
   "id": "d9615a75",
   "metadata": {},
   "outputs": [
    {
     "name": "stdout",
     "output_type": "stream",
     "text": [
      "Feature not found\n"
     ]
    }
   ],
   "source": [
    "feat_info(\"purpose\")"
   ]
  },
  {
   "cell_type": "code",
   "execution_count": 42,
   "id": "9ab40b7d",
   "metadata": {},
   "outputs": [
    {
     "data": {
      "text/plain": [
       "0                   Vacation\n",
       "1         Debt consolidation\n",
       "2    Credit card refinancing\n",
       "3    Credit card refinancing\n",
       "4      Credit Card Refinance\n",
       "5         Debt consolidation\n",
       "6           Home improvement\n",
       "7       No More Credit Cards\n",
       "8         Debt consolidation\n",
       "9         Debt Consolidation\n",
       "Name: title, dtype: object"
      ]
     },
     "execution_count": 42,
     "metadata": {},
     "output_type": "execute_result"
    }
   ],
   "source": [
    "df[\"title\"].head(10)"
   ]
  },
  {
   "cell_type": "code",
   "execution_count": 43,
   "id": "a9cc9cfd",
   "metadata": {},
   "outputs": [
    {
     "name": "stdout",
     "output_type": "stream",
     "text": [
      "Feature not found\n"
     ]
    }
   ],
   "source": [
    "feat_info(\"title\")"
   ]
  },
  {
   "cell_type": "markdown",
   "id": "7bf8d5a5",
   "metadata": {},
   "source": [
    "__Task__: The title column is simply a string subcategory/description of the purpose column. Go ahead and drop the title column."
   ]
  },
  {
   "cell_type": "code",
   "execution_count": null,
   "id": "5ed133e7",
   "metadata": {},
   "outputs": [],
   "source": [
    "df.drop(\"title\", axis=1, inplace=True)"
   ]
  },
  {
   "cell_type": "markdown",
   "id": "fe7227d7",
   "metadata": {},
   "source": [
    "__Task__: Find out what the mort_acc feature represents"
   ]
  },
  {
   "cell_type": "code",
   "execution_count": 44,
   "id": "ba3ce68f",
   "metadata": {},
   "outputs": [
    {
     "name": "stdout",
     "output_type": "stream",
     "text": [
      "Feature not found\n"
     ]
    }
   ],
   "source": [
    "feat_info(\"mort_acc\")"
   ]
  },
  {
   "cell_type": "markdown",
   "id": "4a7944a5",
   "metadata": {},
   "source": [
    "__Task__: Create a value_counts of the mort_acc column"
   ]
  },
  {
   "cell_type": "code",
   "execution_count": 45,
   "id": "17a15118",
   "metadata": {},
   "outputs": [
    {
     "data": {
      "text/plain": [
       "mort_acc\n",
       "0.0     139777\n",
       "1.0      60416\n",
       "2.0      49948\n",
       "3.0      38049\n",
       "4.0      27887\n",
       "5.0      18194\n",
       "6.0      11069\n",
       "7.0       6052\n",
       "8.0       3121\n",
       "9.0       1656\n",
       "10.0       865\n",
       "11.0       479\n",
       "12.0       264\n",
       "13.0       146\n",
       "14.0       107\n",
       "15.0        61\n",
       "16.0        37\n",
       "17.0        22\n",
       "18.0        18\n",
       "19.0        15\n",
       "20.0        13\n",
       "24.0        10\n",
       "22.0         7\n",
       "21.0         4\n",
       "25.0         4\n",
       "27.0         3\n",
       "32.0         2\n",
       "31.0         2\n",
       "23.0         2\n",
       "26.0         2\n",
       "28.0         1\n",
       "30.0         1\n",
       "34.0         1\n",
       "Name: count, dtype: int64"
      ]
     },
     "execution_count": 45,
     "metadata": {},
     "output_type": "execute_result"
    }
   ],
   "source": [
    "df[\"mort_acc\"].value_counts()"
   ]
  },
  {
   "cell_type": "markdown",
   "id": "97b46986",
   "metadata": {},
   "source": [
    "__Task__: There are many ways we could deal with this missing data. We could attempt to build a simple model to fill it in, such as a linear model, or we could just fill it in based on the mean of the other columns, or you could even bin the columns into categories and then set Nan as its own category. There is no 100% correct approach. Lets reveiw the other columns to see which most highly correlates to mort_acc."
   ]
  },
  {
   "cell_type": "code",
   "execution_count": 46,
   "id": "dd0a77bb",
   "metadata": {},
   "outputs": [
    {
     "name": "stdout",
     "output_type": "stream",
     "text": [
      "int_rate               -0.082583\n",
      "dti                    -0.025439\n",
      "revol_util              0.007514\n",
      "pub_rec                 0.011552\n",
      "pub_rec_bankruptcies    0.027239\n",
      "open_acc                0.109205\n",
      "installment             0.193694\n",
      "revol_bal               0.194925\n",
      "loan_amnt               0.222315\n",
      "annual_inc              0.236320\n",
      "total_acc               0.381072\n",
      "mort_acc                1.000000\n",
      "Name: mort_acc, dtype: float64\n"
     ]
    }
   ],
   "source": [
    "import pandas as pd\n",
    "\n",
    "# Load the CSV file into a DataFrame\n",
    "df = pd.read_csv('C:/Users/Owner/anaconda3/envs/tf-gpu/lending_club_loan_two.csv')\n",
    "\n",
    "# Select numeric columns\n",
    "numeric_columns = df.select_dtypes(include=['float64', 'int64'])\n",
    "\n",
    "# Calculate the correlation between \"mort_acc\" and other numeric columns, and sort the results\n",
    "correlation_with_mort_acc = numeric_columns.corr()[\"mort_acc\"].sort_values()\n",
    "\n",
    "# Display the sorted correlations\n",
    "print(correlation_with_mort_acc)\n"
   ]
  },
  {
   "cell_type": "markdown",
   "id": "f799c2c4",
   "metadata": {},
   "source": [
    "__Task__: Looks like the total_acc feature correlates with the mort_acc, this makes sense! Let's try this fillna() approach. We will group the dataframe by the total_acc and calculate the mean value for the mort_acc per total_acc entry. To get the result below:"
   ]
  },
  {
   "cell_type": "code",
   "execution_count": 47,
   "id": "99916859",
   "metadata": {},
   "outputs": [
    {
     "data": {
      "text/plain": [
       "total_acc\n",
       "2.0      0.000000\n",
       "3.0      0.052023\n",
       "4.0      0.066743\n",
       "5.0      0.103289\n",
       "6.0      0.151293\n",
       "           ...   \n",
       "124.0    1.000000\n",
       "129.0    1.000000\n",
       "135.0    3.000000\n",
       "150.0    2.000000\n",
       "151.0    0.000000\n",
       "Name: mort_acc, Length: 118, dtype: float64"
      ]
     },
     "execution_count": 47,
     "metadata": {},
     "output_type": "execute_result"
    }
   ],
   "source": [
    "total_acc_avg = df.groupby(\"total_acc\")[\"mort_acc\"].mean()\n",
    "total_acc_avg"
   ]
  },
  {
   "cell_type": "markdown",
   "id": "3710706d-2663-47bb-b306-db021a1af1cb",
   "metadata": {},
   "source": [
    "__CHALLENGE TASK__: Let's fill in the missing mort_acc values based on their total_acc value. If the mort_acc is missing, then we will fill in that missing value with the mean value corresponding to its total_acc value from the Series we created above. This involves using an .apply() method with two columns."
   ]
  },
  {
   "cell_type": "code",
   "execution_count": 48,
   "id": "43b8e666",
   "metadata": {},
   "outputs": [
    {
     "data": {
      "text/plain": [
       "0"
      ]
     },
     "execution_count": 48,
     "metadata": {},
     "output_type": "execute_result"
    }
   ],
   "source": [
    "import numpy as np\n",
    "def fill_mort_acc(total_acc, mort_acc):\n",
    "    if np.isnan(mort_acc):\n",
    "        return total_acc_avg[total_acc]\n",
    "    else:\n",
    "        return mort_acc\n",
    "    \n",
    "df[\"mort_acc\"] = df.apply(lambda x: fill_mort_acc(x[\"total_acc\"], x[\"mort_acc\"]), axis=1)\n",
    "df[\"mort_acc\"].isnull().sum()"
   ]
  },
  {
   "cell_type": "code",
   "execution_count": 49,
   "id": "9c478f0b",
   "metadata": {},
   "outputs": [
    {
     "data": {
      "text/plain": [
       "loan_amnt                   0\n",
       "term                        0\n",
       "int_rate                    0\n",
       "installment                 0\n",
       "grade                       0\n",
       "sub_grade                   0\n",
       "emp_title               22927\n",
       "emp_length              18301\n",
       "home_ownership              0\n",
       "annual_inc                  0\n",
       "verification_status         0\n",
       "issue_d                     0\n",
       "loan_status                 0\n",
       "purpose                     0\n",
       "title                    1756\n",
       "dti                         0\n",
       "earliest_cr_line            0\n",
       "open_acc                    0\n",
       "pub_rec                     0\n",
       "revol_bal                   0\n",
       "revol_util                276\n",
       "total_acc                   0\n",
       "initial_list_status         0\n",
       "application_type            0\n",
       "mort_acc                    0\n",
       "pub_rec_bankruptcies      535\n",
       "address                     0\n",
       "dtype: int64"
      ]
     },
     "execution_count": 49,
     "metadata": {},
     "output_type": "execute_result"
    }
   ],
   "source": [
    "df.isnull().sum()"
   ]
  },
  {
   "cell_type": "markdown",
   "id": "1ba044b7-8a22-4210-88ed-fa912c096423",
   "metadata": {},
   "source": [
    "__TASK__: revol_util and the pub_rec_bankruptcies have missing data points, but they account for less than 0.5% of the total data. Go ahead and remove the rows that are missing those values in those columns with dropna()."
   ]
  },
  {
   "cell_type": "code",
   "execution_count": 50,
   "id": "79c7acfe",
   "metadata": {},
   "outputs": [
    {
     "data": {
      "text/plain": [
       "loan_amnt               0\n",
       "term                    0\n",
       "int_rate                0\n",
       "installment             0\n",
       "grade                   0\n",
       "sub_grade               0\n",
       "emp_title               0\n",
       "emp_length              0\n",
       "home_ownership          0\n",
       "annual_inc              0\n",
       "verification_status     0\n",
       "issue_d                 0\n",
       "loan_status             0\n",
       "purpose                 0\n",
       "title                   0\n",
       "dti                     0\n",
       "earliest_cr_line        0\n",
       "open_acc                0\n",
       "pub_rec                 0\n",
       "revol_bal               0\n",
       "revol_util              0\n",
       "total_acc               0\n",
       "initial_list_status     0\n",
       "application_type        0\n",
       "mort_acc                0\n",
       "pub_rec_bankruptcies    0\n",
       "address                 0\n",
       "dtype: int64"
      ]
     },
     "execution_count": 50,
     "metadata": {},
     "output_type": "execute_result"
    }
   ],
   "source": [
    "df = df.dropna()\n",
    "df.isnull().sum()"
   ]
  },
  {
   "cell_type": "markdown",
   "id": "47feedfc",
   "metadata": {},
   "source": [
    "__Categorical Variables and Dummy Variables__"
   ]
  },
  {
   "cell_type": "markdown",
   "id": "98455cfd",
   "metadata": {},
   "source": [
    "We're done working with missing data! Now we just need to deal with the string values due to the categorical columns."
   ]
  },
  {
   "cell_type": "markdown",
   "id": "ff89ec24-b4da-4a1f-b575-c0169ef5627f",
   "metadata": {},
   "source": [
    "__Task__: List all the columns that are currently non-numeric."
   ]
  },
  {
   "cell_type": "code",
   "execution_count": 51,
   "id": "0ea91d0d",
   "metadata": {},
   "outputs": [
    {
     "data": {
      "text/plain": [
       "Index(['term', 'grade', 'sub_grade', 'emp_title', 'emp_length',\n",
       "       'home_ownership', 'verification_status', 'issue_d', 'loan_status',\n",
       "       'purpose', 'title', 'earliest_cr_line', 'initial_list_status',\n",
       "       'application_type', 'address'],\n",
       "      dtype='object')"
      ]
     },
     "execution_count": 51,
     "metadata": {},
     "output_type": "execute_result"
    }
   ],
   "source": [
    "df.select_dtypes([\"object\"]).columns"
   ]
  },
  {
   "cell_type": "markdown",
   "id": "48f1bb26",
   "metadata": {},
   "source": [
    "Let's now go through all the string features to see what we should do with them.\n",
    "_term feature_"
   ]
  },
  {
   "cell_type": "markdown",
   "id": "9a3a970b-3a9b-4d93-8e53-aec8791532ce",
   "metadata": {},
   "source": [
    "__Task__: Convert the term feature into either a 36 or 60 integer numeric data type using.apply() or .map()."
   ]
  },
  {
   "cell_type": "code",
   "execution_count": 52,
   "id": "a8b5ce20",
   "metadata": {},
   "outputs": [
    {
     "name": "stdout",
     "output_type": "stream",
     "text": [
      "Feature not found\n"
     ]
    }
   ],
   "source": [
    "feat_info(\"term\")"
   ]
  },
  {
   "cell_type": "code",
   "execution_count": 53,
   "id": "9f60c581",
   "metadata": {},
   "outputs": [
    {
     "data": {
      "text/plain": [
       "term\n",
       "36 months    280484\n",
       "60 months     90137\n",
       "Name: count, dtype: int64"
      ]
     },
     "execution_count": 53,
     "metadata": {},
     "output_type": "execute_result"
    }
   ],
   "source": [
    "df[\"term\"].value_counts()"
   ]
  },
  {
   "cell_type": "code",
   "execution_count": 54,
   "id": "2c18a463",
   "metadata": {},
   "outputs": [
    {
     "data": {
      "text/plain": [
       "0         36\n",
       "1         36\n",
       "2         36\n",
       "3         36\n",
       "4         60\n",
       "          ..\n",
       "396025    60\n",
       "396026    36\n",
       "396027    36\n",
       "396028    60\n",
       "396029    36\n",
       "Name: term, Length: 370621, dtype: int64"
      ]
     },
     "execution_count": 54,
     "metadata": {},
     "output_type": "execute_result"
    }
   ],
   "source": [
    "df[\"term\"] = df[\"term\"].apply(lambda x: int(x.split()[0]))\n",
    "df[\"term\"]"
   ]
  },
  {
   "cell_type": "code",
   "execution_count": 55,
   "id": "000789c4",
   "metadata": {},
   "outputs": [
    {
     "data": {
      "text/plain": [
       "term\n",
       "36    280484\n",
       "60     90137\n",
       "Name: count, dtype: int64"
      ]
     },
     "execution_count": 55,
     "metadata": {},
     "output_type": "execute_result"
    }
   ],
   "source": [
    "df[\"term\"].value_counts()"
   ]
  },
  {
   "cell_type": "markdown",
   "id": "9a6f436e-dfa5-4733-8586-4c9fe82f51c0",
   "metadata": {},
   "source": [
    "_grade feature_"
   ]
  },
  {
   "cell_type": "markdown",
   "id": "e3251d04",
   "metadata": {},
   "source": [
    "__Tasks__: We already know grade is part of sub_grade, so just drop the grade feature."
   ]
  },
  {
   "cell_type": "code",
   "execution_count": null,
   "id": "d6badb47",
   "metadata": {},
   "outputs": [],
   "source": [
    "df.drop(\"grade\", axis=1, inplace=True)"
   ]
  },
  {
   "cell_type": "markdown",
   "id": "dc44c780",
   "metadata": {},
   "source": [
    "__Task__: Convert the subgrade into dummy variables. Then concentrate these new columns to the original dataframe. Remember to drop the original subgrade column and to add drop_first=True to your get_dummies call."
   ]
  },
  {
   "cell_type": "code",
   "execution_count": 56,
   "id": "8cfd568f",
   "metadata": {
    "scrolled": true
   },
   "outputs": [
    {
     "data": {
      "text/html": [
       "<div>\n",
       "<style scoped>\n",
       "    .dataframe tbody tr th:only-of-type {\n",
       "        vertical-align: middle;\n",
       "    }\n",
       "\n",
       "    .dataframe tbody tr th {\n",
       "        vertical-align: top;\n",
       "    }\n",
       "\n",
       "    .dataframe thead th {\n",
       "        text-align: right;\n",
       "    }\n",
       "</style>\n",
       "<table border=\"1\" class=\"dataframe\">\n",
       "  <thead>\n",
       "    <tr style=\"text-align: right;\">\n",
       "      <th></th>\n",
       "      <th>A2</th>\n",
       "      <th>A3</th>\n",
       "      <th>A4</th>\n",
       "      <th>A5</th>\n",
       "      <th>B1</th>\n",
       "      <th>B2</th>\n",
       "      <th>B3</th>\n",
       "      <th>B4</th>\n",
       "      <th>B5</th>\n",
       "      <th>C1</th>\n",
       "      <th>...</th>\n",
       "      <th>F1</th>\n",
       "      <th>F2</th>\n",
       "      <th>F3</th>\n",
       "      <th>F4</th>\n",
       "      <th>F5</th>\n",
       "      <th>G1</th>\n",
       "      <th>G2</th>\n",
       "      <th>G3</th>\n",
       "      <th>G4</th>\n",
       "      <th>G5</th>\n",
       "    </tr>\n",
       "  </thead>\n",
       "  <tbody>\n",
       "    <tr>\n",
       "      <th>0</th>\n",
       "      <td>False</td>\n",
       "      <td>False</td>\n",
       "      <td>False</td>\n",
       "      <td>False</td>\n",
       "      <td>False</td>\n",
       "      <td>False</td>\n",
       "      <td>False</td>\n",
       "      <td>True</td>\n",
       "      <td>False</td>\n",
       "      <td>False</td>\n",
       "      <td>...</td>\n",
       "      <td>False</td>\n",
       "      <td>False</td>\n",
       "      <td>False</td>\n",
       "      <td>False</td>\n",
       "      <td>False</td>\n",
       "      <td>False</td>\n",
       "      <td>False</td>\n",
       "      <td>False</td>\n",
       "      <td>False</td>\n",
       "      <td>False</td>\n",
       "    </tr>\n",
       "    <tr>\n",
       "      <th>1</th>\n",
       "      <td>False</td>\n",
       "      <td>False</td>\n",
       "      <td>False</td>\n",
       "      <td>False</td>\n",
       "      <td>False</td>\n",
       "      <td>False</td>\n",
       "      <td>False</td>\n",
       "      <td>False</td>\n",
       "      <td>True</td>\n",
       "      <td>False</td>\n",
       "      <td>...</td>\n",
       "      <td>False</td>\n",
       "      <td>False</td>\n",
       "      <td>False</td>\n",
       "      <td>False</td>\n",
       "      <td>False</td>\n",
       "      <td>False</td>\n",
       "      <td>False</td>\n",
       "      <td>False</td>\n",
       "      <td>False</td>\n",
       "      <td>False</td>\n",
       "    </tr>\n",
       "    <tr>\n",
       "      <th>2</th>\n",
       "      <td>False</td>\n",
       "      <td>False</td>\n",
       "      <td>False</td>\n",
       "      <td>False</td>\n",
       "      <td>False</td>\n",
       "      <td>False</td>\n",
       "      <td>True</td>\n",
       "      <td>False</td>\n",
       "      <td>False</td>\n",
       "      <td>False</td>\n",
       "      <td>...</td>\n",
       "      <td>False</td>\n",
       "      <td>False</td>\n",
       "      <td>False</td>\n",
       "      <td>False</td>\n",
       "      <td>False</td>\n",
       "      <td>False</td>\n",
       "      <td>False</td>\n",
       "      <td>False</td>\n",
       "      <td>False</td>\n",
       "      <td>False</td>\n",
       "    </tr>\n",
       "    <tr>\n",
       "      <th>3</th>\n",
       "      <td>True</td>\n",
       "      <td>False</td>\n",
       "      <td>False</td>\n",
       "      <td>False</td>\n",
       "      <td>False</td>\n",
       "      <td>False</td>\n",
       "      <td>False</td>\n",
       "      <td>False</td>\n",
       "      <td>False</td>\n",
       "      <td>False</td>\n",
       "      <td>...</td>\n",
       "      <td>False</td>\n",
       "      <td>False</td>\n",
       "      <td>False</td>\n",
       "      <td>False</td>\n",
       "      <td>False</td>\n",
       "      <td>False</td>\n",
       "      <td>False</td>\n",
       "      <td>False</td>\n",
       "      <td>False</td>\n",
       "      <td>False</td>\n",
       "    </tr>\n",
       "    <tr>\n",
       "      <th>4</th>\n",
       "      <td>False</td>\n",
       "      <td>False</td>\n",
       "      <td>False</td>\n",
       "      <td>False</td>\n",
       "      <td>False</td>\n",
       "      <td>False</td>\n",
       "      <td>False</td>\n",
       "      <td>False</td>\n",
       "      <td>False</td>\n",
       "      <td>False</td>\n",
       "      <td>...</td>\n",
       "      <td>False</td>\n",
       "      <td>False</td>\n",
       "      <td>False</td>\n",
       "      <td>False</td>\n",
       "      <td>False</td>\n",
       "      <td>False</td>\n",
       "      <td>False</td>\n",
       "      <td>False</td>\n",
       "      <td>False</td>\n",
       "      <td>False</td>\n",
       "    </tr>\n",
       "    <tr>\n",
       "      <th>...</th>\n",
       "      <td>...</td>\n",
       "      <td>...</td>\n",
       "      <td>...</td>\n",
       "      <td>...</td>\n",
       "      <td>...</td>\n",
       "      <td>...</td>\n",
       "      <td>...</td>\n",
       "      <td>...</td>\n",
       "      <td>...</td>\n",
       "      <td>...</td>\n",
       "      <td>...</td>\n",
       "      <td>...</td>\n",
       "      <td>...</td>\n",
       "      <td>...</td>\n",
       "      <td>...</td>\n",
       "      <td>...</td>\n",
       "      <td>...</td>\n",
       "      <td>...</td>\n",
       "      <td>...</td>\n",
       "      <td>...</td>\n",
       "      <td>...</td>\n",
       "    </tr>\n",
       "    <tr>\n",
       "      <th>396025</th>\n",
       "      <td>False</td>\n",
       "      <td>False</td>\n",
       "      <td>False</td>\n",
       "      <td>False</td>\n",
       "      <td>False</td>\n",
       "      <td>False</td>\n",
       "      <td>False</td>\n",
       "      <td>True</td>\n",
       "      <td>False</td>\n",
       "      <td>False</td>\n",
       "      <td>...</td>\n",
       "      <td>False</td>\n",
       "      <td>False</td>\n",
       "      <td>False</td>\n",
       "      <td>False</td>\n",
       "      <td>False</td>\n",
       "      <td>False</td>\n",
       "      <td>False</td>\n",
       "      <td>False</td>\n",
       "      <td>False</td>\n",
       "      <td>False</td>\n",
       "    </tr>\n",
       "    <tr>\n",
       "      <th>396026</th>\n",
       "      <td>False</td>\n",
       "      <td>False</td>\n",
       "      <td>False</td>\n",
       "      <td>False</td>\n",
       "      <td>False</td>\n",
       "      <td>False</td>\n",
       "      <td>False</td>\n",
       "      <td>False</td>\n",
       "      <td>False</td>\n",
       "      <td>True</td>\n",
       "      <td>...</td>\n",
       "      <td>False</td>\n",
       "      <td>False</td>\n",
       "      <td>False</td>\n",
       "      <td>False</td>\n",
       "      <td>False</td>\n",
       "      <td>False</td>\n",
       "      <td>False</td>\n",
       "      <td>False</td>\n",
       "      <td>False</td>\n",
       "      <td>False</td>\n",
       "    </tr>\n",
       "    <tr>\n",
       "      <th>396027</th>\n",
       "      <td>False</td>\n",
       "      <td>False</td>\n",
       "      <td>False</td>\n",
       "      <td>False</td>\n",
       "      <td>True</td>\n",
       "      <td>False</td>\n",
       "      <td>False</td>\n",
       "      <td>False</td>\n",
       "      <td>False</td>\n",
       "      <td>False</td>\n",
       "      <td>...</td>\n",
       "      <td>False</td>\n",
       "      <td>False</td>\n",
       "      <td>False</td>\n",
       "      <td>False</td>\n",
       "      <td>False</td>\n",
       "      <td>False</td>\n",
       "      <td>False</td>\n",
       "      <td>False</td>\n",
       "      <td>False</td>\n",
       "      <td>False</td>\n",
       "    </tr>\n",
       "    <tr>\n",
       "      <th>396028</th>\n",
       "      <td>False</td>\n",
       "      <td>False</td>\n",
       "      <td>False</td>\n",
       "      <td>False</td>\n",
       "      <td>False</td>\n",
       "      <td>False</td>\n",
       "      <td>False</td>\n",
       "      <td>False</td>\n",
       "      <td>False</td>\n",
       "      <td>False</td>\n",
       "      <td>...</td>\n",
       "      <td>False</td>\n",
       "      <td>False</td>\n",
       "      <td>False</td>\n",
       "      <td>False</td>\n",
       "      <td>False</td>\n",
       "      <td>False</td>\n",
       "      <td>False</td>\n",
       "      <td>False</td>\n",
       "      <td>False</td>\n",
       "      <td>False</td>\n",
       "    </tr>\n",
       "    <tr>\n",
       "      <th>396029</th>\n",
       "      <td>False</td>\n",
       "      <td>False</td>\n",
       "      <td>False</td>\n",
       "      <td>False</td>\n",
       "      <td>False</td>\n",
       "      <td>False</td>\n",
       "      <td>False</td>\n",
       "      <td>False</td>\n",
       "      <td>False</td>\n",
       "      <td>False</td>\n",
       "      <td>...</td>\n",
       "      <td>False</td>\n",
       "      <td>False</td>\n",
       "      <td>False</td>\n",
       "      <td>False</td>\n",
       "      <td>False</td>\n",
       "      <td>False</td>\n",
       "      <td>False</td>\n",
       "      <td>False</td>\n",
       "      <td>False</td>\n",
       "      <td>False</td>\n",
       "    </tr>\n",
       "  </tbody>\n",
       "</table>\n",
       "<p>370621 rows × 34 columns</p>\n",
       "</div>"
      ],
      "text/plain": [
       "           A2     A3     A4     A5     B1     B2     B3     B4     B5     C1  \\\n",
       "0       False  False  False  False  False  False  False   True  False  False   \n",
       "1       False  False  False  False  False  False  False  False   True  False   \n",
       "2       False  False  False  False  False  False   True  False  False  False   \n",
       "3        True  False  False  False  False  False  False  False  False  False   \n",
       "4       False  False  False  False  False  False  False  False  False  False   \n",
       "...       ...    ...    ...    ...    ...    ...    ...    ...    ...    ...   \n",
       "396025  False  False  False  False  False  False  False   True  False  False   \n",
       "396026  False  False  False  False  False  False  False  False  False   True   \n",
       "396027  False  False  False  False   True  False  False  False  False  False   \n",
       "396028  False  False  False  False  False  False  False  False  False  False   \n",
       "396029  False  False  False  False  False  False  False  False  False  False   \n",
       "\n",
       "        ...     F1     F2     F3     F4     F5     G1     G2     G3     G4  \\\n",
       "0       ...  False  False  False  False  False  False  False  False  False   \n",
       "1       ...  False  False  False  False  False  False  False  False  False   \n",
       "2       ...  False  False  False  False  False  False  False  False  False   \n",
       "3       ...  False  False  False  False  False  False  False  False  False   \n",
       "4       ...  False  False  False  False  False  False  False  False  False   \n",
       "...     ...    ...    ...    ...    ...    ...    ...    ...    ...    ...   \n",
       "396025  ...  False  False  False  False  False  False  False  False  False   \n",
       "396026  ...  False  False  False  False  False  False  False  False  False   \n",
       "396027  ...  False  False  False  False  False  False  False  False  False   \n",
       "396028  ...  False  False  False  False  False  False  False  False  False   \n",
       "396029  ...  False  False  False  False  False  False  False  False  False   \n",
       "\n",
       "           G5  \n",
       "0       False  \n",
       "1       False  \n",
       "2       False  \n",
       "3       False  \n",
       "4       False  \n",
       "...       ...  \n",
       "396025  False  \n",
       "396026  False  \n",
       "396027  False  \n",
       "396028  False  \n",
       "396029  False  \n",
       "\n",
       "[370621 rows x 34 columns]"
      ]
     },
     "execution_count": 56,
     "metadata": {},
     "output_type": "execute_result"
    }
   ],
   "source": [
    "import pandas as pd\n",
    "dummies = pd.get_dummies(df[\"sub_grade\"], drop_first=True)\n",
    "dummies"
   ]
  },
  {
   "cell_type": "code",
   "execution_count": 57,
   "id": "42392079",
   "metadata": {},
   "outputs": [
    {
     "data": {
      "text/plain": [
       "<bound method NDFrame.head of         loan_amnt  term  int_rate  installment grade  \\\n",
       "0         10000.0    36     11.44       329.48     B   \n",
       "1          8000.0    36     11.99       265.68     B   \n",
       "2         15600.0    36     10.49       506.97     B   \n",
       "3          7200.0    36      6.49       220.65     A   \n",
       "4         24375.0    60     17.27       609.33     C   \n",
       "...           ...   ...       ...          ...   ...   \n",
       "396025    10000.0    60     10.99       217.38     B   \n",
       "396026    21000.0    36     12.29       700.42     C   \n",
       "396027     5000.0    36      9.99       161.32     B   \n",
       "396028    21000.0    60     15.31       503.02     C   \n",
       "396029     2000.0    36     13.61        67.98     C   \n",
       "\n",
       "                       emp_title emp_length home_ownership  annual_inc  \\\n",
       "0                      Marketing  10+ years           RENT    117000.0   \n",
       "1                Credit analyst     4 years       MORTGAGE     65000.0   \n",
       "2                   Statistician   < 1 year           RENT     43057.0   \n",
       "3                Client Advocate    6 years           RENT     54000.0   \n",
       "4        Destiny Management Inc.    9 years       MORTGAGE     55000.0   \n",
       "...                          ...        ...            ...         ...   \n",
       "396025          licensed bankere    2 years           RENT     40000.0   \n",
       "396026                     Agent    5 years       MORTGAGE    110000.0   \n",
       "396027              City Carrier  10+ years           RENT     56500.0   \n",
       "396028      Gracon Services, Inc  10+ years       MORTGAGE     64000.0   \n",
       "396029  Internal Revenue Service  10+ years           RENT     42996.0   \n",
       "\n",
       "       verification_status  ...     F1     F2     F3     F4     F5     G1  \\\n",
       "0             Not Verified  ...  False  False  False  False  False  False   \n",
       "1             Not Verified  ...  False  False  False  False  False  False   \n",
       "2          Source Verified  ...  False  False  False  False  False  False   \n",
       "3             Not Verified  ...  False  False  False  False  False  False   \n",
       "4                 Verified  ...  False  False  False  False  False  False   \n",
       "...                    ...  ...    ...    ...    ...    ...    ...    ...   \n",
       "396025     Source Verified  ...  False  False  False  False  False  False   \n",
       "396026     Source Verified  ...  False  False  False  False  False  False   \n",
       "396027            Verified  ...  False  False  False  False  False  False   \n",
       "396028            Verified  ...  False  False  False  False  False  False   \n",
       "396029            Verified  ...  False  False  False  False  False  False   \n",
       "\n",
       "           G2     G3     G4     G5  \n",
       "0       False  False  False  False  \n",
       "1       False  False  False  False  \n",
       "2       False  False  False  False  \n",
       "3       False  False  False  False  \n",
       "4       False  False  False  False  \n",
       "...       ...    ...    ...    ...  \n",
       "396025  False  False  False  False  \n",
       "396026  False  False  False  False  \n",
       "396027  False  False  False  False  \n",
       "396028  False  False  False  False  \n",
       "396029  False  False  False  False  \n",
       "\n",
       "[370621 rows x 60 columns]>"
      ]
     },
     "execution_count": 57,
     "metadata": {},
     "output_type": "execute_result"
    }
   ],
   "source": [
    "df.drop(\"sub_grade\", axis=1, inplace=True)\n",
    "df = pd.concat([df, dummies], axis=1)\n",
    "df.head"
   ]
  },
  {
   "cell_type": "code",
   "execution_count": 58,
   "id": "202cff64",
   "metadata": {},
   "outputs": [
    {
     "data": {
      "text/plain": [
       "Index(['loan_amnt', 'term', 'int_rate', 'installment', 'grade', 'emp_title',\n",
       "       'emp_length', 'home_ownership', 'annual_inc', 'verification_status',\n",
       "       'issue_d', 'loan_status', 'purpose', 'title', 'dti', 'earliest_cr_line',\n",
       "       'open_acc', 'pub_rec', 'revol_bal', 'revol_util', 'total_acc',\n",
       "       'initial_list_status', 'application_type', 'mort_acc',\n",
       "       'pub_rec_bankruptcies', 'address', 'A2', 'A3', 'A4', 'A5', 'B1', 'B2',\n",
       "       'B3', 'B4', 'B5', 'C1', 'C2', 'C3', 'C4', 'C5', 'D1', 'D2', 'D3', 'D4',\n",
       "       'D5', 'E1', 'E2', 'E3', 'E4', 'E5', 'F1', 'F2', 'F3', 'F4', 'F5', 'G1',\n",
       "       'G2', 'G3', 'G4', 'G5'],\n",
       "      dtype='object')"
      ]
     },
     "execution_count": 58,
     "metadata": {},
     "output_type": "execute_result"
    }
   ],
   "source": [
    "df.columns"
   ]
  },
  {
   "cell_type": "code",
   "execution_count": 59,
   "id": "1f2557cc",
   "metadata": {},
   "outputs": [
    {
     "data": {
      "text/plain": [
       "Index(['grade', 'emp_title', 'emp_length', 'home_ownership',\n",
       "       'verification_status', 'issue_d', 'loan_status', 'purpose', 'title',\n",
       "       'earliest_cr_line', 'initial_list_status', 'application_type',\n",
       "       'address'],\n",
       "      dtype='object')"
      ]
     },
     "execution_count": 59,
     "metadata": {},
     "output_type": "execute_result"
    }
   ],
   "source": [
    "df.select_dtypes([\"object\"]).columns"
   ]
  },
  {
   "cell_type": "markdown",
   "id": "b5cbac5c",
   "metadata": {},
   "source": [
    "_verification_status, application_type, initial_list_status, purpose_"
   ]
  },
  {
   "cell_type": "markdown",
   "id": "d8ec3ac3-cb14-4a6e-9f56-e57c741a97e6",
   "metadata": {},
   "source": [
    "__Task__: Convert these columns: ['verification_status','application_type','initial_list_status','purpose'] into dummy variables and concatenate them with the original dataframe. Remember to set drop_first=True and to drop the original columns."
   ]
  },
  {
   "cell_type": "code",
   "execution_count": null,
   "id": "04d44316",
   "metadata": {},
   "outputs": [],
   "source": [
    "dummies = pd.get_dummies(df[['verification_status', 'application_type','initial_list_status','purpose']], drop_first=True)\n",
    "df.drop(['verification_status', 'application_type','initial_list_status','purpose'], axis=1, inplace=True)\n",
    "df = pd.concat([df, dummies], axis=1)"
   ]
  },
  {
   "cell_type": "markdown",
   "id": "eec9636e",
   "metadata": {},
   "source": [
    "_home_ownership_"
   ]
  },
  {
   "cell_type": "markdown",
   "id": "2d3fa450-2055-4acb-8735-9badaacdda57",
   "metadata": {},
   "source": [
    "__Task__: Review the value_counts for the home_ownership column."
   ]
  },
  {
   "cell_type": "code",
   "execution_count": 60,
   "id": "e1ecdb5d",
   "metadata": {},
   "outputs": [
    {
     "data": {
      "text/plain": [
       "home_ownership\n",
       "MORTGAGE    186218\n",
       "RENT        150714\n",
       "OWN          33555\n",
       "OTHER          105\n",
       "NONE            28\n",
       "ANY              1\n",
       "Name: count, dtype: int64"
      ]
     },
     "execution_count": 60,
     "metadata": {},
     "output_type": "execute_result"
    }
   ],
   "source": [
    "df[\"home_ownership\"].value_counts()"
   ]
  },
  {
   "cell_type": "markdown",
   "id": "255ee61a",
   "metadata": {},
   "source": [
    "__Task__: Convert these dummy variables, but replace NONE and ANY with OTHER, so that we end up with just 4 categories, MORTGAGE,RENT,OWN,OTHER.Then Cocatenate them with the original dataframe. Remember to set drop_first=True and to drop the original columns."
   ]
  },
  {
   "cell_type": "code",
   "execution_count": 61,
   "id": "2d03c259",
   "metadata": {},
   "outputs": [
    {
     "data": {
      "text/plain": [
       "home_ownership\n",
       "MORTGAGE    186218\n",
       "RENT        150714\n",
       "OWN          33555\n",
       "OTHER          134\n",
       "Name: count, dtype: int64"
      ]
     },
     "execution_count": 61,
     "metadata": {},
     "output_type": "execute_result"
    }
   ],
   "source": [
    "df[\"home_ownership\"] = df[\"home_ownership\"].replace([\"NONE\", \"ANY\"], \"OTHER\")\n",
    "df[\"home_ownership\"].value_counts()"
   ]
  },
  {
   "cell_type": "code",
   "execution_count": null,
   "id": "65c30146",
   "metadata": {},
   "outputs": [],
   "source": [
    "dummies = pd.get_dummies(df[\"home_ownership\"], drop_first=True)\n",
    "df.drop(\"home_ownership\", axis=1, inplace=True)\n",
    "df = pd.concat([df, dummies], axis=1)"
   ]
  },
  {
   "cell_type": "markdown",
   "id": "6fdfffdb",
   "metadata": {},
   "source": [
    "_address_"
   ]
  },
  {
   "cell_type": "markdown",
   "id": "2dec9149-e92c-4d75-8c96-ca941f5d7e38",
   "metadata": {},
   "source": [
    "__Task__: Let's feature engineer a zip code column from the address in the data set. Create a column called 'zip_code' that extracts the zip code from the address column."
   ]
  },
  {
   "cell_type": "code",
   "execution_count": 62,
   "id": "c19d3567",
   "metadata": {},
   "outputs": [
    {
     "data": {
      "text/plain": [
       "0              0174 Michelle Gateway\\nMendozaberg, OK 22690\n",
       "1           1076 Carney Fort Apt. 347\\nLoganmouth, SD 05113\n",
       "2           87025 Mark Dale Apt. 269\\nNew Sabrina, WV 05113\n",
       "3                     823 Reid Ford\\nDelacruzside, MA 00813\n",
       "4                      679 Luna Roads\\nGreggshire, VA 11650\n",
       "                                ...                        \n",
       "396025       12951 Williams Crossing\\nJohnnyville, DC 30723\n",
       "396026    0114 Fowler Field Suite 028\\nRachelborough, LA...\n",
       "396027     953 Matthew Points Suite 414\\nReedfort, NY 70466\n",
       "396028    7843 Blake Freeway Apt. 229\\nNew Michael, FL 2...\n",
       "396029          787 Michelle Causeway\\nBriannaton, AR 48052\n",
       "Name: address, Length: 370621, dtype: object"
      ]
     },
     "execution_count": 62,
     "metadata": {},
     "output_type": "execute_result"
    }
   ],
   "source": [
    "df[\"address\"]"
   ]
  },
  {
   "cell_type": "code",
   "execution_count": 64,
   "id": "16cb5bfc",
   "metadata": {},
   "outputs": [],
   "source": [
    "df[\"zipcode\"] = df[\"address\"].apply(lambda x: x[-5])"
   ]
  },
  {
   "cell_type": "code",
   "execution_count": 65,
   "id": "4272a640",
   "metadata": {},
   "outputs": [
    {
     "data": {
      "text/plain": [
       "zipcode\n",
       "2    95644\n",
       "0    85766\n",
       "7    53312\n",
       "3    52900\n",
       "4    52356\n",
       "1    10279\n",
       "9    10264\n",
       "8    10100\n",
       "Name: count, dtype: int64"
      ]
     },
     "execution_count": 65,
     "metadata": {},
     "output_type": "execute_result"
    }
   ],
   "source": [
    "df[\"zipcode\"].value_counts()"
   ]
  },
  {
   "cell_type": "markdown",
   "id": "67432b8e",
   "metadata": {},
   "source": [
    "__Task__: Now make this zip_code column into dummy variables using pandas. Concatenate the result and drop the original zip_code column along with dropping the address column."
   ]
  },
  {
   "cell_type": "code",
   "execution_count": null,
   "id": "730a3a28",
   "metadata": {},
   "outputs": [],
   "source": [
    "dummies = pd.get_dummies(df[\"zipcode\"], drop_first=True)\n",
    "df.drop(\"zipcode\", axis=1, inplace=True)\n",
    "df = pd.concat([df, dummies], axis=1)"
   ]
  },
  {
   "cell_type": "code",
   "execution_count": null,
   "id": "c432b5ed",
   "metadata": {},
   "outputs": [],
   "source": [
    "df.drop(\"address\", axis=1, inplace=True)"
   ]
  },
  {
   "cell_type": "markdown",
   "id": "5d423af4-6634-409f-b889-7f5760a08f32",
   "metadata": {},
   "source": [
    "_issue_d_"
   ]
  },
  {
   "cell_type": "markdown",
   "id": "905bb361",
   "metadata": {},
   "source": [
    "__Task__: This would be data leakage, we wouldn't know beforehand whether or not a loan would be issued when using our model, so in theory we wouldn't have an issue_date, drop this feature."
   ]
  },
  {
   "cell_type": "code",
   "execution_count": 66,
   "id": "cf45e305",
   "metadata": {},
   "outputs": [
    {
     "name": "stdout",
     "output_type": "stream",
     "text": [
      "Feature not found\n"
     ]
    }
   ],
   "source": [
    "feat_info(\"issue_d\")"
   ]
  },
  {
   "cell_type": "code",
   "execution_count": null,
   "id": "5bfe9069",
   "metadata": {},
   "outputs": [],
   "source": [
    "df.drop(\"issue_d\", axis=1, inplace=True)"
   ]
  },
  {
   "cell_type": "markdown",
   "id": "9e966632-59ba-48a8-b55c-3f205c16d7b2",
   "metadata": {},
   "source": [
    "_earliest_cr_line_"
   ]
  },
  {
   "cell_type": "markdown",
   "id": "cfec4864",
   "metadata": {},
   "source": [
    "__Task__: This appears to be a historical time stamp feature. Extract the year from this feature using a .apply function, then convert it to a numeric feature. Set this new data to a feature column called 'earliest_cr_year'.Then drop the earliest_cr_line feature."
   ]
  },
  {
   "cell_type": "code",
   "execution_count": 67,
   "id": "ea67bb5f",
   "metadata": {},
   "outputs": [
    {
     "name": "stdout",
     "output_type": "stream",
     "text": [
      "Feature not found\n"
     ]
    }
   ],
   "source": [
    "feat_info(\"earliest_cr_line\")"
   ]
  },
  {
   "cell_type": "code",
   "execution_count": 68,
   "id": "bf65e892",
   "metadata": {},
   "outputs": [
    {
     "data": {
      "text/plain": [
       "0         Jun-1990\n",
       "1         Jul-2004\n",
       "2         Aug-2007\n",
       "3         Sep-2006\n",
       "4         Mar-1999\n",
       "            ...   \n",
       "396025    Nov-2004\n",
       "396026    Feb-2006\n",
       "396027    Mar-1997\n",
       "396028    Nov-1990\n",
       "396029    Sep-1998\n",
       "Name: earliest_cr_line, Length: 370621, dtype: object"
      ]
     },
     "execution_count": 68,
     "metadata": {},
     "output_type": "execute_result"
    }
   ],
   "source": [
    "df[\"earliest_cr_line\"]"
   ]
  },
  {
   "cell_type": "code",
   "execution_count": null,
   "id": "7a0ead9c",
   "metadata": {},
   "outputs": [],
   "source": [
    "df[\"earliest_cr_year\"] = df[\"earliest_cr_line\"].apply(lambda x: int(x.split(\"-\")[1]))"
   ]
  },
  {
   "cell_type": "code",
   "execution_count": 69,
   "id": "b567b08c",
   "metadata": {},
   "outputs": [
    {
     "data": {
      "text/html": [
       "<div>\n",
       "<style scoped>\n",
       "    .dataframe tbody tr th:only-of-type {\n",
       "        vertical-align: middle;\n",
       "    }\n",
       "\n",
       "    .dataframe tbody tr th {\n",
       "        vertical-align: top;\n",
       "    }\n",
       "\n",
       "    .dataframe thead th {\n",
       "        text-align: right;\n",
       "    }\n",
       "</style>\n",
       "<table border=\"1\" class=\"dataframe\">\n",
       "  <thead>\n",
       "    <tr style=\"text-align: right;\">\n",
       "      <th></th>\n",
       "      <th>loan_amnt</th>\n",
       "      <th>term</th>\n",
       "      <th>int_rate</th>\n",
       "      <th>installment</th>\n",
       "      <th>grade</th>\n",
       "      <th>emp_title</th>\n",
       "      <th>emp_length</th>\n",
       "      <th>home_ownership</th>\n",
       "      <th>annual_inc</th>\n",
       "      <th>verification_status</th>\n",
       "      <th>...</th>\n",
       "      <th>F2</th>\n",
       "      <th>F3</th>\n",
       "      <th>F4</th>\n",
       "      <th>F5</th>\n",
       "      <th>G1</th>\n",
       "      <th>G2</th>\n",
       "      <th>G3</th>\n",
       "      <th>G4</th>\n",
       "      <th>G5</th>\n",
       "      <th>zipcode</th>\n",
       "    </tr>\n",
       "  </thead>\n",
       "  <tbody>\n",
       "    <tr>\n",
       "      <th>0</th>\n",
       "      <td>10000.0</td>\n",
       "      <td>36</td>\n",
       "      <td>11.44</td>\n",
       "      <td>329.48</td>\n",
       "      <td>B</td>\n",
       "      <td>Marketing</td>\n",
       "      <td>10+ years</td>\n",
       "      <td>RENT</td>\n",
       "      <td>117000.0</td>\n",
       "      <td>Not Verified</td>\n",
       "      <td>...</td>\n",
       "      <td>False</td>\n",
       "      <td>False</td>\n",
       "      <td>False</td>\n",
       "      <td>False</td>\n",
       "      <td>False</td>\n",
       "      <td>False</td>\n",
       "      <td>False</td>\n",
       "      <td>False</td>\n",
       "      <td>False</td>\n",
       "      <td>2</td>\n",
       "    </tr>\n",
       "    <tr>\n",
       "      <th>1</th>\n",
       "      <td>8000.0</td>\n",
       "      <td>36</td>\n",
       "      <td>11.99</td>\n",
       "      <td>265.68</td>\n",
       "      <td>B</td>\n",
       "      <td>Credit analyst</td>\n",
       "      <td>4 years</td>\n",
       "      <td>MORTGAGE</td>\n",
       "      <td>65000.0</td>\n",
       "      <td>Not Verified</td>\n",
       "      <td>...</td>\n",
       "      <td>False</td>\n",
       "      <td>False</td>\n",
       "      <td>False</td>\n",
       "      <td>False</td>\n",
       "      <td>False</td>\n",
       "      <td>False</td>\n",
       "      <td>False</td>\n",
       "      <td>False</td>\n",
       "      <td>False</td>\n",
       "      <td>0</td>\n",
       "    </tr>\n",
       "    <tr>\n",
       "      <th>2</th>\n",
       "      <td>15600.0</td>\n",
       "      <td>36</td>\n",
       "      <td>10.49</td>\n",
       "      <td>506.97</td>\n",
       "      <td>B</td>\n",
       "      <td>Statistician</td>\n",
       "      <td>&lt; 1 year</td>\n",
       "      <td>RENT</td>\n",
       "      <td>43057.0</td>\n",
       "      <td>Source Verified</td>\n",
       "      <td>...</td>\n",
       "      <td>False</td>\n",
       "      <td>False</td>\n",
       "      <td>False</td>\n",
       "      <td>False</td>\n",
       "      <td>False</td>\n",
       "      <td>False</td>\n",
       "      <td>False</td>\n",
       "      <td>False</td>\n",
       "      <td>False</td>\n",
       "      <td>0</td>\n",
       "    </tr>\n",
       "    <tr>\n",
       "      <th>3</th>\n",
       "      <td>7200.0</td>\n",
       "      <td>36</td>\n",
       "      <td>6.49</td>\n",
       "      <td>220.65</td>\n",
       "      <td>A</td>\n",
       "      <td>Client Advocate</td>\n",
       "      <td>6 years</td>\n",
       "      <td>RENT</td>\n",
       "      <td>54000.0</td>\n",
       "      <td>Not Verified</td>\n",
       "      <td>...</td>\n",
       "      <td>False</td>\n",
       "      <td>False</td>\n",
       "      <td>False</td>\n",
       "      <td>False</td>\n",
       "      <td>False</td>\n",
       "      <td>False</td>\n",
       "      <td>False</td>\n",
       "      <td>False</td>\n",
       "      <td>False</td>\n",
       "      <td>0</td>\n",
       "    </tr>\n",
       "    <tr>\n",
       "      <th>4</th>\n",
       "      <td>24375.0</td>\n",
       "      <td>60</td>\n",
       "      <td>17.27</td>\n",
       "      <td>609.33</td>\n",
       "      <td>C</td>\n",
       "      <td>Destiny Management Inc.</td>\n",
       "      <td>9 years</td>\n",
       "      <td>MORTGAGE</td>\n",
       "      <td>55000.0</td>\n",
       "      <td>Verified</td>\n",
       "      <td>...</td>\n",
       "      <td>False</td>\n",
       "      <td>False</td>\n",
       "      <td>False</td>\n",
       "      <td>False</td>\n",
       "      <td>False</td>\n",
       "      <td>False</td>\n",
       "      <td>False</td>\n",
       "      <td>False</td>\n",
       "      <td>False</td>\n",
       "      <td>1</td>\n",
       "    </tr>\n",
       "  </tbody>\n",
       "</table>\n",
       "<p>5 rows × 61 columns</p>\n",
       "</div>"
      ],
      "text/plain": [
       "   loan_amnt  term  int_rate  installment grade                emp_title  \\\n",
       "0    10000.0    36     11.44       329.48     B                Marketing   \n",
       "1     8000.0    36     11.99       265.68     B          Credit analyst    \n",
       "2    15600.0    36     10.49       506.97     B             Statistician   \n",
       "3     7200.0    36      6.49       220.65     A          Client Advocate   \n",
       "4    24375.0    60     17.27       609.33     C  Destiny Management Inc.   \n",
       "\n",
       "  emp_length home_ownership  annual_inc verification_status  ...     F2  \\\n",
       "0  10+ years           RENT    117000.0        Not Verified  ...  False   \n",
       "1    4 years       MORTGAGE     65000.0        Not Verified  ...  False   \n",
       "2   < 1 year           RENT     43057.0     Source Verified  ...  False   \n",
       "3    6 years           RENT     54000.0        Not Verified  ...  False   \n",
       "4    9 years       MORTGAGE     55000.0            Verified  ...  False   \n",
       "\n",
       "      F3     F4     F5     G1     G2     G3     G4     G5  zipcode  \n",
       "0  False  False  False  False  False  False  False  False        2  \n",
       "1  False  False  False  False  False  False  False  False        0  \n",
       "2  False  False  False  False  False  False  False  False        0  \n",
       "3  False  False  False  False  False  False  False  False        0  \n",
       "4  False  False  False  False  False  False  False  False        1  \n",
       "\n",
       "[5 rows x 61 columns]"
      ]
     },
     "execution_count": 69,
     "metadata": {},
     "output_type": "execute_result"
    }
   ],
   "source": [
    "df.head()"
   ]
  },
  {
   "cell_type": "code",
   "execution_count": null,
   "id": "a7a10703",
   "metadata": {},
   "outputs": [],
   "source": [
    "df.drop(\"earliest_cr_line\", axis=1, inplace=True)"
   ]
  },
  {
   "cell_type": "code",
   "execution_count": 70,
   "id": "45648423",
   "metadata": {},
   "outputs": [
    {
     "data": {
      "text/plain": [
       "Index(['grade', 'emp_title', 'emp_length', 'home_ownership',\n",
       "       'verification_status', 'issue_d', 'loan_status', 'purpose', 'title',\n",
       "       'earliest_cr_line', 'initial_list_status', 'application_type',\n",
       "       'address', 'zipcode'],\n",
       "      dtype='object')"
      ]
     },
     "execution_count": 70,
     "metadata": {},
     "output_type": "execute_result"
    }
   ],
   "source": [
    "df.select_dtypes([\"object\"]).columns"
   ]
  },
  {
   "cell_type": "markdown",
   "id": "1fa626b6",
   "metadata": {},
   "source": [
    "__Train Test Split__"
   ]
  },
  {
   "cell_type": "markdown",
   "id": "d6ebdc48",
   "metadata": {},
   "source": [
    "__Task__: Import train_test_split from sklearn."
   ]
  },
  {
   "cell_type": "code",
   "execution_count": 78,
   "id": "c86f0de8",
   "metadata": {},
   "outputs": [],
   "source": [
    "from sklearn.model_selection import train_test_split"
   ]
  },
  {
   "cell_type": "markdown",
   "id": "477c866f",
   "metadata": {},
   "source": [
    "__Task__: drop the load_status column we created earlier, since its a duplicate of the loan_repaid column. We'll use the loan_repaid column since its already in 0s and 1s."
   ]
  },
  {
   "cell_type": "code",
   "execution_count": 71,
   "id": "59e112b6",
   "metadata": {},
   "outputs": [
    {
     "data": {
      "text/plain": [
       "0          Fully Paid\n",
       "1          Fully Paid\n",
       "2          Fully Paid\n",
       "3          Fully Paid\n",
       "4         Charged Off\n",
       "             ...     \n",
       "396025     Fully Paid\n",
       "396026     Fully Paid\n",
       "396027     Fully Paid\n",
       "396028     Fully Paid\n",
       "396029     Fully Paid\n",
       "Name: loan_status, Length: 370621, dtype: object"
      ]
     },
     "execution_count": 71,
     "metadata": {},
     "output_type": "execute_result"
    }
   ],
   "source": [
    "df[\"loan_status\"]"
   ]
  },
  {
   "cell_type": "code",
   "execution_count": 72,
   "id": "079ce01c",
   "metadata": {},
   "outputs": [
    {
     "name": "stdout",
     "output_type": "stream",
     "text": [
      "loan_repaid\n",
      "1    299363\n",
      "0     71258\n",
      "Name: count, dtype: int64\n"
     ]
    }
   ],
   "source": [
    "import pandas as pd\n",
    "\n",
    "# Assuming you have loaded your DataFrame df from a CSV file or some other source\n",
    "\n",
    "# Perform some operations to determine the values of the new column 'loan_repaid'\n",
    "# For example, let's say you want to create a new column based on whether 'loan_status' is 'Fully Paid' or not\n",
    "df['loan_repaid'] = df['loan_status'].apply(lambda x: 1 if x == 'Fully Paid' else 0)\n",
    "\n",
    "# Now, the 'loan_repaid' column should have been created with values 1 for 'Fully Paid' loans and 0 otherwise\n",
    "print(df['loan_repaid'].value_counts())"
   ]
  },
  {
   "cell_type": "code",
   "execution_count": null,
   "id": "a31b8c2e",
   "metadata": {},
   "outputs": [],
   "source": [
    "df.drop(\"loan_status\", axis=1, inplace=True)"
   ]
  },
  {
   "cell_type": "code",
   "execution_count": 73,
   "id": "1fecb1ca",
   "metadata": {},
   "outputs": [
    {
     "data": {
      "text/plain": [
       "Index(['grade', 'emp_title', 'emp_length', 'home_ownership',\n",
       "       'verification_status', 'issue_d', 'loan_status', 'purpose', 'title',\n",
       "       'earliest_cr_line', 'initial_list_status', 'application_type',\n",
       "       'address', 'zipcode'],\n",
       "      dtype='object')"
      ]
     },
     "execution_count": 73,
     "metadata": {},
     "output_type": "execute_result"
    }
   ],
   "source": [
    "df.select_dtypes([\"object\"]).columns"
   ]
  },
  {
   "cell_type": "markdown",
   "id": "f0dcee95-13ea-4129-a8d0-5486b5a3b1d3",
   "metadata": {},
   "source": [
    "__Task__: Set X and y variables to the .values of the features and label."
   ]
  },
  {
   "cell_type": "code",
   "execution_count": null,
   "id": "fa378012",
   "metadata": {},
   "outputs": [],
   "source": [
    "X = df.drop(\"loan_repaid\", axis=1).values"
   ]
  },
  {
   "cell_type": "code",
   "execution_count": null,
   "id": "a025a493",
   "metadata": {},
   "outputs": [],
   "source": [
    "y = df[\"loan_repaid\"].values"
   ]
  },
  {
   "cell_type": "markdown",
   "id": "998dcc2a",
   "metadata": {},
   "source": [
    "__Normalizing the Data__"
   ]
  },
  {
   "cell_type": "markdown",
   "id": "bb32ffe6",
   "metadata": {},
   "source": [
    "__TASK__: Use a MinMaxScaler to normalize the feature data X_train and X_test. Recall we don't want data leakage from the test set so we only fit on the X_train data."
   ]
  },
  {
   "cell_type": "code",
   "execution_count": 74,
   "id": "9740bbb9",
   "metadata": {},
   "outputs": [],
   "source": [
    "from sklearn.preprocessing import MinMaxScaler"
   ]
  },
  {
   "cell_type": "code",
   "execution_count": 82,
   "id": "b59ef0cb",
   "metadata": {},
   "outputs": [],
   "source": [
    "scaler = MinMaxScaler()"
   ]
  },
  {
   "cell_type": "code",
   "execution_count": null,
   "id": "a247f553",
   "metadata": {},
   "outputs": [],
   "source": [
    "X_train = scaler.fit_transform(X_train)"
   ]
  },
  {
   "cell_type": "code",
   "execution_count": null,
   "id": "94365a6a",
   "metadata": {},
   "outputs": [],
   "source": [
    "X_test - scaler.transform(X_test)"
   ]
  },
  {
   "cell_type": "markdown",
   "id": "1b17ae2c",
   "metadata": {},
   "source": [
    "__Creating the model__"
   ]
  },
  {
   "cell_type": "markdown",
   "id": "4cc9f0be",
   "metadata": {},
   "source": [
    "__Task__: Run the cell below to import the necessary Keras functions."
   ]
  },
  {
   "cell_type": "markdown",
   "id": "c8fbc78f",
   "metadata": {},
   "source": [
    "__Task__: Build a sequential model that will be used for training on the data. You have unlimited options here, but here is what the solution uses: a model that goes 78 --> 39 --> 19--> 1 output neuron."
   ]
  },
  {
   "cell_type": "markdown",
   "id": "2a96b3cd",
   "metadata": {},
   "source": [
    "__Task__: Fit the model to the training data for at least 25 epochs. Also add in the validation data for later plotting."
   ]
  },
  {
   "cell_type": "code",
   "execution_count": 81,
   "id": "e853cae5-e2c2-430b-b327-4b934956c9df",
   "metadata": {
    "scrolled": true
   },
   "outputs": [
    {
     "name": "stdout",
     "output_type": "stream",
     "text": [
      "Epoch 1/25\n"
     ]
    },
    {
     "name": "stderr",
     "output_type": "stream",
     "text": [
      "C:\\Users\\Owner\\anaconda3\\envs\\tf-gpu\\lib\\site-packages\\tensorflow\\python\\framework\\indexed_slices.py:447: UserWarning: Converting sparse IndexedSlices(IndexedSlices(indices=Tensor(\"gradient_tape/sequential/dense/embedding_lookup_sparse/Reshape_1:0\", shape=(None,), dtype=int32), values=Tensor(\"gradient_tape/sequential/dense/embedding_lookup_sparse/Reshape:0\", shape=(None, 79), dtype=float32), dense_shape=Tensor(\"gradient_tape/sequential/dense/embedding_lookup_sparse/Cast:0\", shape=(2,), dtype=int32))) to a dense Tensor of unknown shape. This may consume a large amount of memory.\n",
      "  warnings.warn(\n"
     ]
    },
    {
     "name": "stdout",
     "output_type": "stream",
     "text": [
      "1050/1050 [==============================] - 1815s 2s/step - loss: 0.4591 - val_loss: 0.4476\n",
      "Epoch 2/25\n",
      "1050/1050 [==============================] - 1777s 2s/step - loss: 0.3573 - val_loss: 0.5044\n",
      "Epoch 3/25\n",
      "1050/1050 [==============================] - 1620s 2s/step - loss: 0.1545 - val_loss: 0.7853\n",
      "Epoch 4/25\n",
      "1050/1050 [==============================] - 16873s 16s/step - loss: 0.0415 - val_loss: 1.1570\n",
      "Epoch 5/25\n",
      "1050/1050 [==============================] - 4669s 4s/step - loss: 0.0168 - val_loss: 1.4706\n",
      "Epoch 6/25\n",
      "1050/1050 [==============================] - 1946s 2s/step - loss: 0.0109 - val_loss: 1.5582\n",
      "Epoch 7/25\n",
      "1050/1050 [==============================] - 9745s 9s/step - loss: 0.0080 - val_loss: 1.7024\n",
      "Epoch 8/25\n",
      "1050/1050 [==============================] - 2096s 2s/step - loss: 0.0062 - val_loss: 1.7784\n",
      "Epoch 9/25\n",
      "1050/1050 [==============================] - 1399s 1s/step - loss: 0.0057 - val_loss: 1.9294\n",
      "Epoch 10/25\n",
      "1050/1050 [==============================] - 1417s 1s/step - loss: 0.0047 - val_loss: 1.8708\n",
      "Epoch 11/25\n",
      "1050/1050 [==============================] - 1422s 1s/step - loss: 0.0043 - val_loss: 1.9837\n",
      "Epoch 12/25\n",
      "1050/1050 [==============================] - 2250s 2s/step - loss: 0.0038 - val_loss: 2.0374\n",
      "Epoch 13/25\n",
      "1050/1050 [==============================] - 1572s 1s/step - loss: 0.0034 - val_loss: 1.9387\n",
      "Epoch 14/25\n",
      "1050/1050 [==============================] - 1476s 1s/step - loss: 0.0031 - val_loss: 2.2734\n",
      "Epoch 15/25\n",
      "1050/1050 [==============================] - 9571s 9s/step - loss: 0.0025 - val_loss: 2.3485\n",
      "Epoch 16/25\n",
      "1050/1050 [==============================] - 1689s 2s/step - loss: 0.0030 - val_loss: 2.2242\n",
      "Epoch 17/25\n",
      "1050/1050 [==============================] - 2174s 2s/step - loss: 0.0023 - val_loss: 2.2314\n",
      "Epoch 18/25\n",
      "1050/1050 [==============================] - 1985s 2s/step - loss: 0.0018 - val_loss: 2.7208\n",
      "Epoch 19/25\n",
      "1050/1050 [==============================] - 1624s 2s/step - loss: 0.0025 - val_loss: 2.3532\n",
      "Epoch 20/25\n",
      "1050/1050 [==============================] - 1774s 2s/step - loss: 0.0017 - val_loss: 2.4740\n",
      "Epoch 21/25\n",
      "1050/1050 [==============================] - 1622s 2s/step - loss: 0.0019 - val_loss: 2.5701\n",
      "Epoch 22/25\n",
      "1050/1050 [==============================] - 2727s 3s/step - loss: 0.0020 - val_loss: 2.6386\n",
      "Epoch 23/25\n",
      "1050/1050 [==============================] - 2256s 2s/step - loss: 0.0018 - val_loss: 2.3176\n",
      "Epoch 24/25\n",
      "1050/1050 [==============================] - 3086s 3s/step - loss: 0.0016 - val_loss: 2.3132\n",
      "Epoch 25/25\n",
      "1050/1050 [==============================] - 1798s 2s/step - loss: 0.0016 - val_loss: 2.8612\n"
     ]
    }
   ],
   "source": [
    "import pandas as pd\n",
    "from sklearn.model_selection import train_test_split\n",
    "from sklearn.preprocessing import OneHotEncoder\n",
    "from tensorflow.keras.models import Sequential\n",
    "from tensorflow.keras.layers import Dense, Dropout\n",
    "\n",
    "# Load the dataset\n",
    "df = pd.read_csv('C:/Users/Owner/anaconda3/envs/tf-gpu/lending_club_loan_two.csv')\n",
    "\n",
    "# Data preprocessing\n",
    "# Drop rows with missing values\n",
    "df = df.dropna()\n",
    "\n",
    "# Encode the target variable\n",
    "df['loan_status'] = df['loan_status'].apply(lambda x: 0 if x == 'Fully Paid' else 1)\n",
    "\n",
    "# Convert 'term' column to numerical format\n",
    "df['term'] = df['term'].apply(lambda x: int(x.split()[0]))\n",
    "\n",
    "# Separate features (X) and target (y)\n",
    "X = df.drop(columns=[\"loan_status\"])\n",
    "y = df[\"loan_status\"]\n",
    "\n",
    "# Perform one-hot encoding for categorical variables\n",
    "encoder = OneHotEncoder()\n",
    "X_encoded = encoder.fit_transform(X)\n",
    "\n",
    "# Convert target to NumPy array\n",
    "y = y.values.astype('float32')\n",
    "\n",
    "# Split the data into training and testing sets\n",
    "X_train, X_test, y_train, y_test = train_test_split(X_encoded, y, test_size=0.2, random_state=42)\n",
    "\n",
    "# Define the model architecture\n",
    "model = Sequential()\n",
    "model.add(Dense(79, activation=\"relu\"))\n",
    "model.add(Dropout(0.2))\n",
    "model.add(Dense(40, activation=\"relu\"))\n",
    "model.add(Dropout(0.2))\n",
    "model.add(Dense(20, activation=\"relu\"))\n",
    "model.add(Dropout(0.2))\n",
    "model.add(Dense(1, activation=\"sigmoid\"))\n",
    "\n",
    "# Compile the model\n",
    "model.compile(loss=\"binary_crossentropy\", optimizer=\"adam\")\n",
    "\n",
    "# Train the model\n",
    "model.fit(X_train, y_train, epochs=25, batch_size=256, validation_data=(X_test, y_test))\n",
    "\n",
    "from tensorflow.keras.models import load_model\n",
    "\n",
    "model.save('keras_project.h5')"
   ]
  },
  {
   "cell_type": "markdown",
   "id": "8ad34ddc-5a4f-4703-bc1e-4d2b0fb50cb0",
   "metadata": {},
   "source": [
    "In __conclusion__, our project on TensorFlow and Keras has demonstrated the effectiveness and flexibility of these tools in developing and deploying machine learning models. TensorFlow, with its robust and scalable architecture, offers a comprehensive platform for machine learning, supporting a wide range of tasks from simple algorithms to complex deep learning models. Keras, integrated within TensorFlow, provides a user-friendly and high-level API that simplifies the process of building and experimenting with neural networks.\r",
    ".\r\n",
    "\r\n",
    "Our findings underscore the importance of choosing the right frameworks and libraries to streamline the development process, improve model performance, and facilitate deployment. TensorFlow and Keras, with their active communities and extensive documentation, provide invaluable resources for both beginners and experienced practitioners in the field of machine learning.\r\n",
    "\r\n",
    "Overall, this project has not only deepened our understanding of TensorFlow and Keras but also demonstrated their potential to drive innovation and efficiency in various machine learning applications. We look forward to exploring further advancements and applications of these powerful tools in future projects."
   ]
  }
 ],
 "metadata": {
  "kernelspec": {
   "display_name": "Python 3 (ipykernel)",
   "language": "python",
   "name": "python3"
  },
  "language_info": {
   "codemirror_mode": {
    "name": "ipython",
    "version": 3
   },
   "file_extension": ".py",
   "mimetype": "text/x-python",
   "name": "python",
   "nbconvert_exporter": "python",
   "pygments_lexer": "ipython3",
   "version": "3.11.7"
  }
 },
 "nbformat": 4,
 "nbformat_minor": 5
}
